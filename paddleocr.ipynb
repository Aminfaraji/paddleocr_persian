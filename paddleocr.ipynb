{
  "nbformat": 4,
  "nbformat_minor": 0,
  "metadata": {
    "colab": {
      "provenance": [],
      "include_colab_link": true
    },
    "kernelspec": {
      "name": "python3",
      "display_name": "Python 3"
    },
    "language_info": {
      "name": "python"
    },
    "accelerator": "GPU",
    "gpuClass": "standard"
  },
  "cells": [
    {
      "cell_type": "markdown",
      "metadata": {
        "id": "view-in-github",
        "colab_type": "text"
      },
      "source": [
        "<a href=\"https://colab.research.google.com/github/Aminfaraji/paddleocr_persian/blob/main/paddleocr.ipynb\" target=\"_parent\"><img src=\"https://colab.research.google.com/assets/colab-badge.svg\" alt=\"Open In Colab\"/></a>"
      ]
    },
    {
      "cell_type": "code",
      "source": [
        "from google.colab import drive\n",
        "drive.mount('/content/drive')"
      ],
      "metadata": {
        "colab": {
          "base_uri": "https://localhost:8080/"
        },
        "id": "nW3b-xUNJTHk",
        "outputId": "e1f29e9f-c8b7-45cc-cafb-840819d3bc20"
      },
      "execution_count": 1,
      "outputs": [
        {
          "output_type": "stream",
          "name": "stdout",
          "text": [
            "Mounted at /content/drive\n"
          ]
        }
      ]
    },
    {
      "cell_type": "code",
      "source": [
        "# !zip -r \"/content/drive/MyDrive/paddel-ocr-shotor.zip\" \"/content/drive/MyDrive/paddel-ocr-shotor\""
      ],
      "metadata": {
        "id": "6Mu5kAK5jWUE"
      },
      "execution_count": null,
      "outputs": []
    },
    {
      "cell_type": "markdown",
      "source": [
        "**Install Paddleocr compatible with the system (cuda11.2 & system linux)**\n",
        "\n",
        "\n",
        "**download pretrained model this link**\n",
        "\n",
        "https://drive.google.com/file/d/18wR7X2zDEdWBHBTPXSJT5S5L1_O7rmKh/view?usp=sharing"
      ],
      "metadata": {
        "id": "m4IY7c4lYYj1"
      }
    },
    {
      "cell_type": "code",
      "source": [
        "!python -m pip install paddlepaddle-gpu==2.4.1.post112 -f https://www.paddlepaddle.org.cn/whl/linux/mkl/avx/stable.html\n",
        "!git clone https://github.com/PaddlePaddle/PaddleOCR.git\n",
        "%cd /content/PaddleOCR\n",
        "!pip install -r requirements.txt\n",
        "# !mkdir pretrained_model\n",
        "# %cd pretrained_model/\n",
        "# !wget https://paddleocr.bj.bcebos.com/PP-OCRv3/multilingual/arabic_PP-OCRv3_rec_train.tar\n",
        "# !tar -xf arabic_PP-OCRv3_rec_train.tar && rm -rf arabic_PP-OCRv3_rec_train.tar\n"
      ],
      "metadata": {
        "id": "0ekJffhICFjJ"
      },
      "execution_count": null,
      "outputs": []
    },
    {
      "cell_type": "markdown",
      "source": [
        "**download dataset shotor from google drive**"
      ],
      "metadata": {
        "id": "5X05A_qQYzic"
      }
    },
    {
      "cell_type": "markdown",
      "source": [
        "https://drive.google.com/file/d/1kj8wQ45R63Gyp-Qv2mJaa1C4Y0u1JgEC/view?usp=sharing, https://drive.google.com/file/d/1zrZUJjeJgz0iAVeK8QmMZVAUdPDSpman/view?usp=sharing"
      ],
      "metadata": {
        "id": "HccG3p3gZEqD"
      }
    },
    {
      "cell_type": "code",
      "source": [
        "!mkdir /content/PaddleOCR/train_data\n",
        "!unzip /content/drive/MyDrive/IDPL_train.zip -d /content/PaddleOCR/train_data\n",
        "!unzip /content/drive/MyDrive/IDPL_eval.zip -d /content/PaddleOCR/train_data"
      ],
      "metadata": {
        "id": "9ps0NaFfMsRJ"
      },
      "execution_count": null,
      "outputs": []
    },
    {
      "cell_type": "code",
      "source": [
        "import glob,pandas,shutil\n",
        "\n",
        "a=glob.glob(\"/content/PaddleOCR/train_data/en_train_filtered/*.csv\")\n",
        "# shutil.move(a[0],'/content/PaddleOCR/train_data')\n",
        "a=glob.glob(\"/content/PaddleOCR/train_data/en_val/*.csv\")\n",
        "# shutil.move(a[0],'/content/PaddleOCR/train_data')\n",
        "# !rm -rf /content/PaddleOCR/train_data/en_val/labels.csv\n",
        "a"
      ],
      "metadata": {
        "id": "1U0LItDDpfgd",
        "outputId": "f596d541-7f1d-4b3b-8865-51e14d405607",
        "colab": {
          "base_uri": "https://localhost:8080/"
        }
      },
      "execution_count": 12,
      "outputs": [
        {
          "output_type": "execute_result",
          "data": {
            "text/plain": [
              "[]"
            ]
          },
          "metadata": {},
          "execution_count": 12
        }
      ]
    },
    {
      "cell_type": "markdown",
      "source": [
        "**convert file .csv to .txt for train Paddleocr. (Paddleocr support of format .txt for train model)**\n",
        "\n",
        "**recommend download file .txt**\n",
        "https://drive.google.com/file/d/1-15OsG6mAxBgVXtjCE2bKVKk5Ry_Dcr3/view?usp=sharing,\n",
        "*****************************\n",
        "https://drive.google.com/file/d/1Q4FuTYAKjWtUgGBsAK0blYuSQm8Rme99/view?usp=sharing"
      ],
      "metadata": {
        "id": "IoYBQcNCombD"
      }
    },
    {
      "cell_type": "code",
      "source": [
        "!rm -rf /content/PaddleOCR/train_data/en_train_filtered/labels.csv\n",
        "!rm -rf /content/PaddleOCR/train_data/en_val/labels.csv\n",
        "!cp /content/drive/MyDrive/val.txt -r /content/PaddleOCR/train_data/\n",
        "!cp /content/drive/MyDrive/train.txt -r /content/PaddleOCR/train_data/"
      ],
      "metadata": {
        "id": "58b2CMdONVT7"
      },
      "execution_count": null,
      "outputs": []
    },
    {
      "cell_type": "code",
      "source": [
        "# # Read in the file\n",
        "# with open('/content/drive/MyDrive/val.txt', 'r') as file :\n",
        "#   filedata = file.read()\n",
        "\n",
        "# # Replace the target string\n",
        "# filedata = filedata.replace('.jpg', '.tif')\n",
        "\n",
        "# # Write the file out again\n",
        "# with open('/content/drive/MyDrive/val.txt', 'w') as file:\n",
        "#   file.write(filedata)\n",
        "\n",
        "# # Read in the file\n",
        "# with open('/content/drive/MyDrive/train.txt', 'r') as file :\n",
        "#   filedata = file.read()\n",
        "\n",
        "# # Replace the target string\n",
        "# filedata = filedata.replace('.jpg', '.tif')\n",
        "\n",
        "# # Write the file out again\n",
        "# with open('/content/drive/MyDrive/train.txt', 'w') as file:\n",
        "#   file.write(filedata)\n",
        "# 1. Open the CSV file in reading mode and the TXT file in writing mode\n",
        "with open('/content/PaddleOCR/train_data/train.csv', 'r') as f_in, open('/content/PaddleOCR/train_data/train.txt', 'w') as f_out:\n",
        "\n",
        "    # 2. Read the CSV file and store in variable\n",
        "    content = f_in.read()\n",
        "\n",
        "    # 3. Write the content into the TXT file\n",
        "    f_out.write(content)\n",
        "!rm -rf /content/PaddleOCR/train_data/train.csv\n",
        "with open(r\"/content/PaddleOCR/train_data/train.txt\", 'r+') as fp:\n",
        "    # read an store all lines into list\n",
        "    lines = fp.readlines()\n",
        "    # move file pointer to the beginning of a file\n",
        "    fp.seek(0)\n",
        "    # truncate the file\n",
        "    fp.truncate()\n",
        "\n",
        "    # start writing lines\n",
        "    # iterate line and line number\n",
        "    for number, line in enumerate(lines):\n",
        "        # delete line number 5 and 8\n",
        "        # note: list index start from 0\n",
        "        if number not in [0]:\n",
        "            fp.write(line)\n"
      ],
      "metadata": {
        "id": "yhVhN_y0hPoV"
      },
      "execution_count": null,
      "outputs": []
    },
    {
      "cell_type": "code",
      "source": [
        "import cv2 \n",
        "import os \n",
        "#from imutils import perspective\n",
        "import numpy as np \n",
        "import json\n",
        "from tqdm import tqdm\n",
        "import matplotlib.pyplot as plt\n",
        "from imutils import perspective"
      ],
      "metadata": {
        "id": "28Uv89JZXX0M"
      },
      "execution_count": 13,
      "outputs": []
    },
    {
      "cell_type": "markdown",
      "source": [
        "**continue trained model**"
      ],
      "metadata": {
        "id": "0YX-zgVtqzjj"
      }
    },
    {
      "cell_type": "code",
      "source": [
        "%cd /content/PaddleOCR"
      ],
      "metadata": {
        "id": "z_m1qp0SOUvg",
        "outputId": "2ecd89f6-6745-4d51-97fc-9fa606aebfb2",
        "colab": {
          "base_uri": "https://localhost:8080/"
        }
      },
      "execution_count": 14,
      "outputs": [
        {
          "output_type": "stream",
          "name": "stdout",
          "text": [
            "/content/PaddleOCR\n"
          ]
        }
      ]
    },
    {
      "cell_type": "code",
      "source": [
        "!python3 tools/train.py -c /content/PaddleOCR/pretrained_model/arabic_PP-OCRv3_rec_train/config.yml -o Global.pretrained_model=/content/PaddleOCR/pretrained_model/arabic_PP-OCRv3_rec_train/best_accuracy"
      ],
      "metadata": {
        "id": "_rCsdUovsCpN"
      },
      "execution_count": null,
      "outputs": []
    },
    {
      "cell_type": "code",
      "source": [
        "!python3 tools/train.py -c /content/drive/MyDrive/output_IDPL/config.yml -o Global.checkpoints=/content/drive/MyDrive/output_IDPL/latest"
      ],
      "metadata": {
        "id": "hf8aeJo1h3cx",
        "outputId": "2f0eb858-98cf-4bba-9a33-951f76ba4d72",
        "colab": {
          "base_uri": "https://localhost:8080/"
        }
      },
      "execution_count": null,
      "outputs": [
        {
          "output_type": "stream",
          "name": "stdout",
          "text": [
            "[2023/01/24 09:25:12] ppocr INFO: Architecture : \n",
            "[2023/01/24 09:25:12] ppocr INFO:     Backbone : \n",
            "[2023/01/24 09:25:12] ppocr INFO:         depth : [3, 6, 3]\n",
            "[2023/01/24 09:25:12] ppocr INFO:         embed_dim : [64, 128, 256]\n",
            "[2023/01/24 09:25:12] ppocr INFO:         img_size : [32, 100]\n",
            "[2023/01/24 09:25:12] ppocr INFO:         last_stage : True\n",
            "[2023/01/24 09:25:12] ppocr INFO:         local_mixer : [[7, 11], [7, 11], [7, 11]]\n",
            "[2023/01/24 09:25:12] ppocr INFO:         mixer : ['Local', 'Local', 'Local', 'Local', 'Local', 'Local', 'Global', 'Global', 'Global', 'Global', 'Global', 'Global']\n",
            "[2023/01/24 09:25:12] ppocr INFO:         name : SVTRNet\n",
            "[2023/01/24 09:25:12] ppocr INFO:         num_heads : [2, 4, 8]\n",
            "[2023/01/24 09:25:12] ppocr INFO:         out_channels : 192\n",
            "[2023/01/24 09:25:12] ppocr INFO:         out_char_num : 120\n",
            "[2023/01/24 09:25:12] ppocr INFO:         patch_merging : Conv\n",
            "[2023/01/24 09:25:12] ppocr INFO:         prenorm : False\n",
            "[2023/01/24 09:25:12] ppocr INFO:     Head : \n",
            "[2023/01/24 09:25:12] ppocr INFO:         name : CTCHead\n",
            "[2023/01/24 09:25:12] ppocr INFO:     Neck : \n",
            "[2023/01/24 09:25:12] ppocr INFO:         encoder_type : reshape\n",
            "[2023/01/24 09:25:12] ppocr INFO:         name : SequenceEncoder\n",
            "[2023/01/24 09:25:12] ppocr INFO:     Transform : \n",
            "[2023/01/24 09:25:12] ppocr INFO:         name : STN_ON\n",
            "[2023/01/24 09:25:12] ppocr INFO:         num_control_points : 20\n",
            "[2023/01/24 09:25:12] ppocr INFO:         stn_activation : none\n",
            "[2023/01/24 09:25:12] ppocr INFO:         tps_inputsize : [32, 64]\n",
            "[2023/01/24 09:25:12] ppocr INFO:         tps_margins : [0.05, 0.05]\n",
            "[2023/01/24 09:25:12] ppocr INFO:         tps_outputsize : [32, 100]\n",
            "[2023/01/24 09:25:12] ppocr INFO:     algorithm : SVTR\n",
            "[2023/01/24 09:25:12] ppocr INFO:     model_type : rec\n",
            "[2023/01/24 09:25:12] ppocr INFO: Eval : \n",
            "[2023/01/24 09:25:12] ppocr INFO:     dataset : \n",
            "[2023/01/24 09:25:12] ppocr INFO:         data_dir : ./train_data/en_val\n",
            "[2023/01/24 09:25:12] ppocr INFO:         label_file_list : ['./train_data/val.txt']\n",
            "[2023/01/24 09:25:12] ppocr INFO:         name : SimpleDataSet\n",
            "[2023/01/24 09:25:12] ppocr INFO:         ratio_list : [0.1]\n",
            "[2023/01/24 09:25:12] ppocr INFO:         transforms : \n",
            "[2023/01/24 09:25:12] ppocr INFO:             DecodeImage : \n",
            "[2023/01/24 09:25:12] ppocr INFO:                 channel_first : False\n",
            "[2023/01/24 09:25:12] ppocr INFO:                 img_mode : BGR\n",
            "[2023/01/24 09:25:12] ppocr INFO:             CTCLabelEncode : None\n",
            "[2023/01/24 09:25:12] ppocr INFO:             RecResizeImg : \n",
            "[2023/01/24 09:25:12] ppocr INFO:                 character_dict_path : None\n",
            "[2023/01/24 09:25:12] ppocr INFO:                 image_shape : [3, 64, 256]\n",
            "[2023/01/24 09:25:12] ppocr INFO:                 padding : False\n",
            "[2023/01/24 09:25:12] ppocr INFO:             KeepKeys : \n",
            "[2023/01/24 09:25:12] ppocr INFO:                 keep_keys : ['image', 'label', 'length']\n",
            "[2023/01/24 09:25:12] ppocr INFO:     loader : \n",
            "[2023/01/24 09:25:12] ppocr INFO:         batch_size_per_card : 64\n",
            "[2023/01/24 09:25:12] ppocr INFO:         drop_last : False\n",
            "[2023/01/24 09:25:12] ppocr INFO:         num_workers : 4\n",
            "[2023/01/24 09:25:12] ppocr INFO:         shuffle : False\n",
            "[2023/01/24 09:25:12] ppocr INFO: Global : \n",
            "[2023/01/24 09:25:12] ppocr INFO:     cal_metric_during_train : True\n",
            "[2023/01/24 09:25:12] ppocr INFO:     character_dict_path : /content/good char.txt\n",
            "[2023/01/24 09:25:12] ppocr INFO:     checkpoints : /content/drive/MyDrive/output_IDPL/latest\n",
            "[2023/01/24 09:25:12] ppocr INFO:     distributed : False\n",
            "[2023/01/24 09:25:12] ppocr INFO:     epoch_num : 5000\n",
            "[2023/01/24 09:25:12] ppocr INFO:     eval_batch_step : [0, 200]\n",
            "[2023/01/24 09:25:12] ppocr INFO:     infer_img : /content/PaddleOCR/doc/imgs_words/persian/fa_2.jpg\n",
            "[2023/01/24 09:25:12] ppocr INFO:     infer_mode : False\n",
            "[2023/01/24 09:25:12] ppocr INFO:     log_smooth_window : 20\n",
            "[2023/01/24 09:25:12] ppocr INFO:     max_text_length : 120\n",
            "[2023/01/24 09:25:12] ppocr INFO:     pretrained_model : /content/PaddleOCR/pretrained_model/arabic_PP-OCRv3_rec_train/best_accuracy\n",
            "[2023/01/24 09:25:12] ppocr INFO:     print_batch_step : 10\n",
            "[2023/01/24 09:25:12] ppocr INFO:     save_epoch_step : 1\n",
            "[2023/01/24 09:25:12] ppocr INFO:     save_inference_dir : None\n",
            "[2023/01/24 09:25:12] ppocr INFO:     save_model_dir : /content/drive/MyDrive/output_IDPL\n",
            "[2023/01/24 09:25:12] ppocr INFO:     save_res_path : /content/drive/MyDrive/output_IDPL/rec/predicts_svtr_tiny_bn.txt\n",
            "[2023/01/24 09:25:12] ppocr INFO:     use_gpu : True\n",
            "[2023/01/24 09:25:12] ppocr INFO:     use_space_char : True\n",
            "[2023/01/24 09:25:12] ppocr INFO:     use_visualdl : False\n",
            "[2023/01/24 09:25:12] ppocr INFO: Loss : \n",
            "[2023/01/24 09:25:12] ppocr INFO:     name : CTCLoss\n",
            "[2023/01/24 09:25:12] ppocr INFO: Metric : \n",
            "[2023/01/24 09:25:12] ppocr INFO:     main_indicator : acc\n",
            "[2023/01/24 09:25:12] ppocr INFO:     name : RecMetric\n",
            "[2023/01/24 09:25:12] ppocr INFO: Optimizer : \n",
            "[2023/01/24 09:25:12] ppocr INFO:     beta1 : 0.9\n",
            "[2023/01/24 09:25:12] ppocr INFO:     beta2 : 0.99\n",
            "[2023/01/24 09:25:12] ppocr INFO:     epsilon : 8e-08\n",
            "[2023/01/24 09:25:12] ppocr INFO:     lr : \n",
            "[2023/01/24 09:25:12] ppocr INFO:         learning_rate : 0.00025\n",
            "[2023/01/24 09:25:12] ppocr INFO:         name : Cosine\n",
            "[2023/01/24 09:25:12] ppocr INFO:         warmup_epoch : 10\n",
            "[2023/01/24 09:25:12] ppocr INFO:     name : AdamW\n",
            "[2023/01/24 09:25:12] ppocr INFO:     no_weight_decay_name : norm pos_embed\n",
            "[2023/01/24 09:25:12] ppocr INFO:     one_dim_param_no_weight_decay : True\n",
            "[2023/01/24 09:25:12] ppocr INFO:     weight_decay : 0.05\n",
            "[2023/01/24 09:25:12] ppocr INFO: PostProcess : \n",
            "[2023/01/24 09:25:12] ppocr INFO:     name : CTCLabelDecode\n",
            "[2023/01/24 09:25:12] ppocr INFO: Train : \n",
            "[2023/01/24 09:25:12] ppocr INFO:     dataset : \n",
            "[2023/01/24 09:25:12] ppocr INFO:         data_dir : /content/PaddleOCR/train_data/en_train_filtered/\n",
            "[2023/01/24 09:25:12] ppocr INFO:         label_file_list : ['./train_data/train.txt']\n",
            "[2023/01/24 09:25:12] ppocr INFO:         name : SimpleDataSet\n",
            "[2023/01/24 09:25:12] ppocr INFO:         transforms : \n",
            "[2023/01/24 09:25:12] ppocr INFO:             DecodeImage : \n",
            "[2023/01/24 09:25:12] ppocr INFO:                 channel_first : False\n",
            "[2023/01/24 09:25:12] ppocr INFO:                 img_mode : BGR\n",
            "[2023/01/24 09:25:12] ppocr INFO:             CTCLabelEncode : None\n",
            "[2023/01/24 09:25:12] ppocr INFO:             RecResizeImg : \n",
            "[2023/01/24 09:25:12] ppocr INFO:                 character_dict_path : None\n",
            "[2023/01/24 09:25:12] ppocr INFO:                 image_shape : [3, 64, 256]\n",
            "[2023/01/24 09:25:12] ppocr INFO:                 padding : False\n",
            "[2023/01/24 09:25:12] ppocr INFO:             KeepKeys : \n",
            "[2023/01/24 09:25:12] ppocr INFO:                 keep_keys : ['image', 'label', 'length']\n",
            "[2023/01/24 09:25:12] ppocr INFO:     loader : \n",
            "[2023/01/24 09:25:12] ppocr INFO:         batch_size_per_card : 64\n",
            "[2023/01/24 09:25:12] ppocr INFO:         drop_last : True\n",
            "[2023/01/24 09:25:12] ppocr INFO:         num_workers : 4\n",
            "[2023/01/24 09:25:12] ppocr INFO:         shuffle : True\n",
            "[2023/01/24 09:25:12] ppocr INFO: profiler_options : None\n",
            "[2023/01/24 09:25:12] ppocr INFO: train with paddle 2.4.1 and device Place(gpu:0)\n",
            "[2023/01/24 09:25:12] ppocr INFO: Initialize indexs of datasets:['./train_data/train.txt']\n",
            "[2023/01/24 09:25:12] ppocr INFO: Initialize indexs of datasets:['./train_data/val.txt']\n",
            "W0124 09:25:19.398869 19070 gpu_resources.cc:61] Please NOTE: device: 0, GPU Compute Capability: 7.5, Driver API Version: 11.2, Runtime API Version: 11.2\n",
            "W0124 09:25:19.426285 19070 gpu_resources.cc:91] device: 0, cuDNN Version: 8.1.\n",
            "[2023/01/24 09:25:21] ppocr INFO: train dataloader has 329 iters\n",
            "[2023/01/24 09:25:21] ppocr INFO: valid dataloader has 8 iters\n",
            "[2023/01/24 09:25:21] ppocr INFO: resume from /content/drive/MyDrive/output_IDPL/latest\n",
            "[2023/01/24 09:25:21] ppocr INFO: During the training process, after the 0th iteration, an evaluation is run every 200 iterations\n",
            "W0124 09:25:23.399726 19070 gpu_resources.cc:217] WARNING: device: \u0000. The installed Paddle is compiled with CUDNN 8.2, but CUDNN version in your machine is 8.1, which may cause serious incompatible bug. Please recompile or reinstall Paddle with compatible CUDNN version.\n",
            "[2023/01/24 09:25:30] ppocr INFO: epoch: [231/5000], global_step: 10, lr: 0.000244, acc: 0.000000, norm_edit_dis: 0.560643, loss: 70.406075, avg_reader_cost: 0.07641 s, avg_batch_cost: 0.82478 s, avg_samples: 64.0, ips: 77.59648 samples/s, eta: 14 days, 23:32:23\n",
            "[2023/01/24 09:25:31] ppocr INFO: epoch: [231/5000], global_step: 20, lr: 0.000244, acc: 0.000000, norm_edit_dis: 0.556784, loss: 71.710022, avg_reader_cost: 0.00356 s, avg_batch_cost: 0.13381 s, avg_samples: 64.0, ips: 478.27530 samples/s, eta: 8 days, 16:56:05\n",
            "[2023/01/24 09:25:32] ppocr INFO: epoch: [231/5000], global_step: 30, lr: 0.000244, acc: 0.000000, norm_edit_dis: 0.549945, loss: 72.084755, avg_reader_cost: 0.00261 s, avg_batch_cost: 0.13844 s, avg_samples: 64.0, ips: 462.30158 samples/s, eta: 6 days, 15:24:17\n",
            "[2023/01/24 09:25:34] ppocr INFO: epoch: [231/5000], global_step: 40, lr: 0.000244, acc: 0.000000, norm_edit_dis: 0.552026, loss: 72.158470, avg_reader_cost: 0.00384 s, avg_batch_cost: 0.13374 s, avg_samples: 64.0, ips: 478.53049 samples/s, eta: 5 days, 14:07:40\n",
            "[2023/01/24 09:25:35] ppocr INFO: epoch: [231/5000], global_step: 50, lr: 0.000244, acc: 0.000000, norm_edit_dis: 0.552200, loss: 71.012794, avg_reader_cost: 0.00421 s, avg_batch_cost: 0.13679 s, avg_samples: 64.0, ips: 467.88354 samples/s, eta: 4 days, 23:13:37\n",
            "[2023/01/24 09:25:37] ppocr INFO: epoch: [231/5000], global_step: 60, lr: 0.000244, acc: 0.000000, norm_edit_dis: 0.550315, loss: 70.563995, avg_reader_cost: 0.00228 s, avg_batch_cost: 0.13334 s, avg_samples: 64.0, ips: 479.96390 samples/s, eta: 4 days, 13:02:33\n",
            "[2023/01/24 09:25:38] ppocr INFO: epoch: [231/5000], global_step: 70, lr: 0.000244, acc: 0.000000, norm_edit_dis: 0.549526, loss: 71.971466, avg_reader_cost: 0.00220 s, avg_batch_cost: 0.13263 s, avg_samples: 64.0, ips: 482.54824 samples/s, eta: 4 days, 5:43:25\n",
            "[2023/01/24 09:25:39] ppocr INFO: epoch: [231/5000], global_step: 80, lr: 0.000244, acc: 0.000000, norm_edit_dis: 0.549526, loss: 72.553192, avg_reader_cost: 0.00170 s, avg_batch_cost: 0.13030 s, avg_samples: 64.0, ips: 491.15823 samples/s, eta: 4 days, 0:06:27\n",
            "[2023/01/24 09:25:40] ppocr INFO: epoch: [231/5000], global_step: 90, lr: 0.000244, acc: 0.000000, norm_edit_dis: 0.555348, loss: 70.525986, avg_reader_cost: 0.00336 s, avg_batch_cost: 0.12991 s, avg_samples: 64.0, ips: 492.64644 samples/s, eta: 3 days, 19:43:13\n",
            "[2023/01/24 09:25:42] ppocr INFO: epoch: [231/5000], global_step: 100, lr: 0.000244, acc: 0.000000, norm_edit_dis: 0.555340, loss: 70.188110, avg_reader_cost: 0.00265 s, avg_batch_cost: 0.13020 s, avg_samples: 64.0, ips: 491.56647 samples/s, eta: 3 days, 16:13:23\n",
            "[2023/01/24 09:25:43] ppocr INFO: epoch: [231/5000], global_step: 110, lr: 0.000244, acc: 0.000000, norm_edit_dis: 0.554916, loss: 70.479126, avg_reader_cost: 0.00378 s, avg_batch_cost: 0.13683 s, avg_samples: 64.0, ips: 467.72318 samples/s, eta: 3 days, 13:37:28\n",
            "[2023/01/24 09:25:45] ppocr INFO: epoch: [231/5000], global_step: 120, lr: 0.000244, acc: 0.000000, norm_edit_dis: 0.559000, loss: 69.866440, avg_reader_cost: 0.00548 s, avg_batch_cost: 0.13558 s, avg_samples: 64.0, ips: 472.04647 samples/s, eta: 3 days, 11:24:48\n",
            "[2023/01/24 09:25:46] ppocr INFO: epoch: [231/5000], global_step: 130, lr: 0.000244, acc: 0.000000, norm_edit_dis: 0.558044, loss: 68.927872, avg_reader_cost: 0.00361 s, avg_batch_cost: 0.13674 s, avg_samples: 64.0, ips: 468.03952 samples/s, eta: 3 days, 9:34:53\n",
            "[2023/01/24 09:25:47] ppocr INFO: epoch: [231/5000], global_step: 140, lr: 0.000244, acc: 0.000000, norm_edit_dis: 0.553137, loss: 71.744904, avg_reader_cost: 0.00228 s, avg_batch_cost: 0.13125 s, avg_samples: 64.0, ips: 487.60975 samples/s, eta: 3 days, 7:50:25\n",
            "[2023/01/24 09:25:49] ppocr INFO: epoch: [231/5000], global_step: 150, lr: 0.000244, acc: 0.000000, norm_edit_dis: 0.551711, loss: 71.956268, avg_reader_cost: 0.00586 s, avg_batch_cost: 0.14015 s, avg_samples: 64.0, ips: 456.65134 samples/s, eta: 3 days, 6:35:23\n",
            "[2023/01/24 09:25:50] ppocr INFO: epoch: [231/5000], global_step: 160, lr: 0.000244, acc: 0.000000, norm_edit_dis: 0.559897, loss: 71.864441, avg_reader_cost: 0.00439 s, avg_batch_cost: 0.13307 s, avg_samples: 64.0, ips: 480.96283 samples/s, eta: 3 days, 5:18:09\n",
            "[2023/01/24 09:25:51] ppocr INFO: epoch: [231/5000], global_step: 170, lr: 0.000244, acc: 0.000000, norm_edit_dis: 0.559897, loss: 70.991592, avg_reader_cost: 0.00346 s, avg_batch_cost: 0.12778 s, avg_samples: 64.0, ips: 500.85540 samples/s, eta: 3 days, 4:01:52\n",
            "[2023/01/24 09:25:52] ppocr INFO: epoch: [231/5000], global_step: 180, lr: 0.000244, acc: 0.000000, norm_edit_dis: 0.556296, loss: 71.075142, avg_reader_cost: 0.00342 s, avg_batch_cost: 0.12737 s, avg_samples: 64.0, ips: 502.47095 samples/s, eta: 3 days, 2:53:27\n",
            "[2023/01/24 09:25:54] ppocr INFO: epoch: [231/5000], global_step: 190, lr: 0.000244, acc: 0.000000, norm_edit_dis: 0.552594, loss: 72.200134, avg_reader_cost: 0.00530 s, avg_batch_cost: 0.12892 s, avg_samples: 64.0, ips: 496.42333 samples/s, eta: 3 days, 1:54:23\n",
            "[2023/01/24 09:25:55] ppocr INFO: epoch: [231/5000], global_step: 200, lr: 0.000244, acc: 0.000000, norm_edit_dis: 0.554205, loss: 72.131157, avg_reader_cost: 0.00543 s, avg_batch_cost: 0.12733 s, avg_samples: 64.0, ips: 502.62421 samples/s, eta: 3 days, 0:59:08\n",
            "eval model:: 100% 8/8 [00:01<00:00,  6.66it/s]\n",
            "[2023/01/24 09:25:56] ppocr INFO: cur metric, acc: 0.0, norm_edit_dis: 0.432892505012047, fps: 1339.1945500499419\n",
            "[2023/01/24 09:25:57] ppocr INFO: save best model is to /content/drive/MyDrive/output_IDPL/best_accuracy\n",
            "[2023/01/24 09:25:57] ppocr INFO: best metric, acc: 0.0, is_float16: False, norm_edit_dis: 0.432892505012047, fps: 1339.1945500499419, best_epoch: 231, start_epoch: 231\n",
            "[2023/01/24 09:25:58] ppocr INFO: epoch: [231/5000], global_step: 210, lr: 0.000244, acc: 0.000000, norm_edit_dis: 0.554048, loss: 72.322334, avg_reader_cost: 0.00224 s, avg_batch_cost: 0.12425 s, avg_samples: 64.0, ips: 515.10257 samples/s, eta: 3 days, 0:05:19\n",
            "[2023/01/24 09:25:59] ppocr INFO: epoch: [231/5000], global_step: 220, lr: 0.000244, acc: 0.000000, norm_edit_dis: 0.547485, loss: 72.958603, avg_reader_cost: 0.00196 s, avg_batch_cost: 0.13205 s, avg_samples: 64.0, ips: 484.65767 samples/s, eta: 2 days, 23:25:39\n",
            "[2023/01/24 09:26:00] ppocr INFO: epoch: [231/5000], global_step: 230, lr: 0.000244, acc: 0.000000, norm_edit_dis: 0.546185, loss: 73.678795, avg_reader_cost: 0.00217 s, avg_batch_cost: 0.12287 s, avg_samples: 64.0, ips: 520.85827 samples/s, eta: 2 days, 22:39:00\n",
            "[2023/01/24 09:26:02] ppocr INFO: epoch: [231/5000], global_step: 240, lr: 0.000244, acc: 0.000000, norm_edit_dis: 0.548407, loss: 73.623772, avg_reader_cost: 0.00189 s, avg_batch_cost: 0.12183 s, avg_samples: 64.0, ips: 525.32048 samples/s, eta: 2 days, 21:55:06\n",
            "[2023/01/24 09:26:03] ppocr INFO: epoch: [231/5000], global_step: 250, lr: 0.000244, acc: 0.000000, norm_edit_dis: 0.547202, loss: 73.485489, avg_reader_cost: 0.00124 s, avg_batch_cost: 0.12238 s, avg_samples: 64.0, ips: 522.94774 samples/s, eta: 2 days, 21:15:18\n",
            "[2023/01/24 09:26:04] ppocr INFO: epoch: [231/5000], global_step: 260, lr: 0.000244, acc: 0.000000, norm_edit_dis: 0.549429, loss: 71.132599, avg_reader_cost: 0.00203 s, avg_batch_cost: 0.12318 s, avg_samples: 64.0, ips: 519.56865 samples/s, eta: 2 days, 20:39:21\n",
            "[2023/01/24 09:26:05] ppocr INFO: epoch: [231/5000], global_step: 270, lr: 0.000244, acc: 0.000000, norm_edit_dis: 0.553877, loss: 71.376801, avg_reader_cost: 0.00148 s, avg_batch_cost: 0.12513 s, avg_samples: 64.0, ips: 511.46599 samples/s, eta: 2 days, 20:07:57\n",
            "[2023/01/24 09:26:07] ppocr INFO: epoch: [231/5000], global_step: 280, lr: 0.000244, acc: 0.000000, norm_edit_dis: 0.547302, loss: 74.326134, avg_reader_cost: 0.00178 s, avg_batch_cost: 0.12232 s, avg_samples: 64.0, ips: 523.19766 samples/s, eta: 2 days, 19:36:10\n",
            "[2023/01/24 09:26:08] ppocr INFO: epoch: [231/5000], global_step: 290, lr: 0.000244, acc: 0.000000, norm_edit_dis: 0.545387, loss: 74.829422, avg_reader_cost: 0.00093 s, avg_batch_cost: 0.12375 s, avg_samples: 64.0, ips: 517.17552 samples/s, eta: 2 days, 19:07:52\n",
            "[2023/01/24 09:26:09] ppocr INFO: epoch: [231/5000], global_step: 300, lr: 0.000244, acc: 0.000000, norm_edit_dis: 0.540066, loss: 76.391304, avg_reader_cost: 0.00110 s, avg_batch_cost: 0.12171 s, avg_samples: 64.0, ips: 525.83634 samples/s, eta: 2 days, 18:39:40\n",
            "[2023/01/24 09:26:10] ppocr INFO: epoch: [231/5000], global_step: 310, lr: 0.000244, acc: 0.000000, norm_edit_dis: 0.541716, loss: 73.743546, avg_reader_cost: 0.00173 s, avg_batch_cost: 0.12251 s, avg_samples: 64.0, ips: 522.40286 samples/s, eta: 2 days, 18:13:58\n",
            "[2023/01/24 09:26:12] ppocr INFO: epoch: [231/5000], global_step: 320, lr: 0.000244, acc: 0.000000, norm_edit_dis: 0.550851, loss: 72.109985, avg_reader_cost: 0.00185 s, avg_batch_cost: 0.12851 s, avg_samples: 64.0, ips: 498.01415 samples/s, eta: 2 days, 17:54:47\n",
            "[2023/01/24 09:26:13] ppocr INFO: epoch: [231/5000], global_step: 329, lr: 0.000244, acc: 0.000000, norm_edit_dis: 0.550851, loss: 72.174408, avg_reader_cost: 0.00060 s, avg_batch_cost: 0.09873 s, avg_samples: 57.6, ips: 583.39864 samples/s, eta: 2 days, 17:25:03\n",
            "[2023/01/24 09:26:13] ppocr INFO: save model in /content/drive/MyDrive/output_IDPL/latest\n",
            "[2023/01/24 09:26:13] ppocr INFO: save model in /content/drive/MyDrive/output_IDPL/iter_epoch_231\n",
            "[2023/01/24 09:26:14] ppocr INFO: epoch: [232/5000], global_step: 330, lr: 0.000244, acc: 0.000000, norm_edit_dis: 0.550851, loss: 72.174408, avg_reader_cost: 0.11964 s, avg_batch_cost: 0.14777 s, avg_samples: 6.4, ips: 43.31195 samples/s, eta: 2 days, 19:10:14\n",
            "[2023/01/24 09:26:15] ppocr INFO: epoch: [232/5000], global_step: 340, lr: 0.000244, acc: 0.000000, norm_edit_dis: 0.550558, loss: 72.380951, avg_reader_cost: 0.00120 s, avg_batch_cost: 0.12610 s, avg_samples: 64.0, ips: 507.51800 samples/s, eta: 2 days, 18:48:40\n",
            "[2023/01/24 09:26:17] ppocr INFO: epoch: [232/5000], global_step: 350, lr: 0.000244, acc: 0.000000, norm_edit_dis: 0.549513, loss: 73.268806, avg_reader_cost: 0.00173 s, avg_batch_cost: 0.12192 s, avg_samples: 64.0, ips: 524.94664 samples/s, eta: 2 days, 18:25:12\n",
            "[2023/01/24 09:26:18] ppocr INFO: epoch: [232/5000], global_step: 360, lr: 0.000244, acc: 0.000000, norm_edit_dis: 0.551754, loss: 72.784348, avg_reader_cost: 0.00044 s, avg_batch_cost: 0.12348 s, avg_samples: 64.0, ips: 518.29541 samples/s, eta: 2 days, 18:04:10\n",
            "[2023/01/24 09:26:19] ppocr INFO: epoch: [232/5000], global_step: 370, lr: 0.000244, acc: 0.000000, norm_edit_dis: 0.555506, loss: 72.599503, avg_reader_cost: 0.00075 s, avg_batch_cost: 0.12125 s, avg_samples: 64.0, ips: 527.83169 samples/s, eta: 2 days, 17:42:42\n",
            "[2023/01/24 09:26:20] ppocr INFO: epoch: [232/5000], global_step: 380, lr: 0.000244, acc: 0.000000, norm_edit_dis: 0.555357, loss: 73.764793, avg_reader_cost: 0.00105 s, avg_batch_cost: 0.12274 s, avg_samples: 64.0, ips: 521.43234 samples/s, eta: 2 days, 17:23:22\n",
            "[2023/01/24 09:26:21] ppocr INFO: epoch: [232/5000], global_step: 390, lr: 0.000244, acc: 0.000000, norm_edit_dis: 0.549643, loss: 73.305557, avg_reader_cost: 0.00090 s, avg_batch_cost: 0.12233 s, avg_samples: 64.0, ips: 523.16259 samples/s, eta: 2 days, 17:04:46\n",
            "[2023/01/24 09:26:23] ppocr INFO: epoch: [232/5000], global_step: 400, lr: 0.000244, acc: 0.000000, norm_edit_dis: 0.551321, loss: 72.251373, avg_reader_cost: 0.00123 s, avg_batch_cost: 0.12428 s, avg_samples: 64.0, ips: 514.97490 samples/s, eta: 2 days, 16:48:22\n",
            "eval model:: 100% 8/8 [00:01<00:00,  7.73it/s]\n",
            "[2023/01/24 09:26:24] ppocr INFO: cur metric, acc: 0.0, norm_edit_dis: 0.43371309350914766, fps: 1396.5101768265508\n",
            "[2023/01/24 09:26:24] ppocr INFO: save best model is to /content/drive/MyDrive/output_IDPL/best_accuracy\n",
            "[2023/01/24 09:26:24] ppocr INFO: best metric, acc: 0.0, is_float16: False, norm_edit_dis: 0.43371309350914766, fps: 1396.5101768265508, best_epoch: 232, start_epoch: 231\n",
            "[2023/01/24 09:26:25] ppocr INFO: epoch: [232/5000], global_step: 410, lr: 0.000244, acc: 0.000000, norm_edit_dis: 0.553068, loss: 71.977348, avg_reader_cost: 0.00128 s, avg_batch_cost: 0.12175 s, avg_samples: 64.0, ips: 525.68178 samples/s, eta: 2 days, 16:31:09\n",
            "[2023/01/24 09:26:27] ppocr INFO: epoch: [232/5000], global_step: 420, lr: 0.000244, acc: 0.000000, norm_edit_dis: 0.549114, loss: 73.397263, avg_reader_cost: 0.00208 s, avg_batch_cost: 0.12013 s, avg_samples: 64.0, ips: 532.76574 samples/s, eta: 2 days, 16:13:45\n",
            "[2023/01/24 09:26:28] ppocr INFO: epoch: [232/5000], global_step: 430, lr: 0.000244, acc: 0.000000, norm_edit_dis: 0.548645, loss: 72.758377, avg_reader_cost: 0.00115 s, avg_batch_cost: 0.11999 s, avg_samples: 64.0, ips: 533.38344 samples/s, eta: 2 days, 15:57:04\n",
            "[2023/01/24 09:26:29] ppocr INFO: epoch: [232/5000], global_step: 440, lr: 0.000244, acc: 0.000000, norm_edit_dis: 0.551112, loss: 71.427414, avg_reader_cost: 0.00050 s, avg_batch_cost: 0.12015 s, avg_samples: 64.0, ips: 532.68782 samples/s, eta: 2 days, 15:41:14\n",
            "[2023/01/24 09:26:30] ppocr INFO: epoch: [232/5000], global_step: 450, lr: 0.000244, acc: 0.000000, norm_edit_dis: 0.548976, loss: 72.359131, avg_reader_cost: 0.00098 s, avg_batch_cost: 0.12051 s, avg_samples: 64.0, ips: 531.07392 samples/s, eta: 2 days, 15:26:19\n",
            "[2023/01/24 09:26:31] ppocr INFO: epoch: [232/5000], global_step: 460, lr: 0.000244, acc: 0.000000, norm_edit_dis: 0.556155, loss: 71.489693, avg_reader_cost: 0.00053 s, avg_batch_cost: 0.12001 s, avg_samples: 64.0, ips: 533.27546 samples/s, eta: 2 days, 15:11:46\n",
            "[2023/01/24 09:26:33] ppocr INFO: epoch: [232/5000], global_step: 470, lr: 0.000244, acc: 0.000000, norm_edit_dis: 0.554099, loss: 71.700806, avg_reader_cost: 0.00048 s, avg_batch_cost: 0.11921 s, avg_samples: 64.0, ips: 536.88348 samples/s, eta: 2 days, 14:57:23\n",
            "[2023/01/24 09:26:34] ppocr INFO: epoch: [232/5000], global_step: 480, lr: 0.000244, acc: 0.000000, norm_edit_dis: 0.548315, loss: 73.362152, avg_reader_cost: 0.00090 s, avg_batch_cost: 0.12076 s, avg_samples: 64.0, ips: 529.98670 samples/s, eta: 2 days, 14:44:27\n",
            "[2023/01/24 09:26:35] ppocr INFO: epoch: [232/5000], global_step: 490, lr: 0.000244, acc: 0.000000, norm_edit_dis: 0.551593, loss: 73.510155, avg_reader_cost: 0.00064 s, avg_batch_cost: 0.12425 s, avg_samples: 64.0, ips: 515.09378 samples/s, eta: 2 days, 14:33:54\n",
            "[2023/01/24 09:26:36] ppocr INFO: epoch: [232/5000], global_step: 500, lr: 0.000244, acc: 0.000000, norm_edit_dis: 0.552246, loss: 72.804352, avg_reader_cost: 0.00118 s, avg_batch_cost: 0.13371 s, avg_samples: 64.0, ips: 478.65652 samples/s, eta: 2 days, 14:28:44\n",
            "[2023/01/24 09:26:38] ppocr INFO: epoch: [232/5000], global_step: 510, lr: 0.000244, acc: 0.000000, norm_edit_dis: 0.553317, loss: 72.103928, avg_reader_cost: 0.00090 s, avg_batch_cost: 0.12112 s, avg_samples: 64.0, ips: 528.41053 samples/s, eta: 2 days, 14:17:18\n",
            "[2023/01/24 09:26:39] ppocr INFO: epoch: [232/5000], global_step: 520, lr: 0.000244, acc: 0.000000, norm_edit_dis: 0.551080, loss: 72.496887, avg_reader_cost: 0.00065 s, avg_batch_cost: 0.11809 s, avg_samples: 64.0, ips: 541.94635 samples/s, eta: 2 days, 14:04:47\n",
            "[2023/01/24 09:26:40] ppocr INFO: epoch: [232/5000], global_step: 530, lr: 0.000244, acc: 0.000000, norm_edit_dis: 0.545406, loss: 74.060051, avg_reader_cost: 0.00056 s, avg_batch_cost: 0.12194 s, avg_samples: 64.0, ips: 524.84688 samples/s, eta: 2 days, 13:54:38\n"
          ]
        }
      ]
    },
    {
      "cell_type": "code",
      "source": [
        "files=glob.glob(\"/content/drive/MyDrive/output_IDPL/*\")\n",
        "import os\n",
        "for file in files:\n",
        "  if file.find('230')<=0 and file.find('latest')<=0 and file.find('train')<=0 and file.find('best')<=0 and file.find('config')<=0:\n",
        "    os.remove(file)"
      ],
      "metadata": {
        "id": "HDklQR4BK6SQ"
      },
      "execution_count": null,
      "outputs": []
    },
    {
      "cell_type": "markdown",
      "source": [
        "**evaluate dataset shotor**"
      ],
      "metadata": {
        "id": "AoguAI3cfuPG"
      }
    },
    {
      "cell_type": "code",
      "source": [
        "!python3 -m paddle.distributed.launch --gpus '0' tools/eval.py -c /content/drive/MyDrive/output/v3_arabic_mobile/config.yml -o Global.checkpoints=/content/drive/MyDrive/output/v3_arabic_mobile/best_accuracy"
      ],
      "metadata": {
        "id": "sikHwucwlXmY"
      },
      "execution_count": null,
      "outputs": []
    },
    {
      "cell_type": "code",
      "source": [
        "%cd .."
      ],
      "metadata": {
        "id": "4FR2sQzTBv5w",
        "colab": {
          "base_uri": "https://localhost:8080/"
        },
        "outputId": "540c9385-5d49-4158-ca28-dca2c52bb3dd"
      },
      "execution_count": null,
      "outputs": [
        {
          "output_type": "stream",
          "name": "stdout",
          "text": [
            "/content/PaddleOCR\n"
          ]
        }
      ]
    },
    {
      "cell_type": "markdown",
      "source": [
        "**test image uploaded on content**"
      ],
      "metadata": {
        "id": "4Cx74RRBr4Aq"
      }
    },
    {
      "cell_type": "code",
      "source": [
        "!python3 tools/infer_rec.py -c /content/drive/MyDrive/output/v3_arabic_mobile/config.yml -o Global.pretrained_model=/content/drive/MyDrive/output/v3_arabic_mobile/best_accuracy  Global.infer_img=/content/download.jpg"
      ],
      "metadata": {
        "id": "QAChPPnnR1y0",
        "outputId": "a799ebde-55a6-4ed6-85c2-4ba529f99b2d",
        "colab": {
          "base_uri": "https://localhost:8080/"
        }
      },
      "execution_count": null,
      "outputs": [
        {
          "output_type": "stream",
          "name": "stdout",
          "text": [
            "python3: can't open file 'tools/infer_rec.py': [Errno 2] No such file or directory\n"
          ]
        }
      ]
    },
    {
      "cell_type": "code",
      "source": [
        "files=glob.glob(\"/content/drive/MyDrive/output_IDPL/*\")\n",
        "for file in files:\n",
        "  if file.find(\"iter_epoch_1079\")<=0 and file.find(\"latest\")<=0 and file.find(\"best\")<=0 and file.find(\"train\")<=0 and file.find(\"config\")<=0:\n",
        "    os.remove(file)"
      ],
      "metadata": {
        "id": "HcZ6DMVkAqkq"
      },
      "execution_count": 16,
      "outputs": []
    },
    {
      "cell_type": "markdown",
      "source": [
        "**Recommend:**\n",
        "\n",
        "Please change the (configuration) file for train or evaluation."
      ],
      "metadata": {
        "id": "ys3bLGAusZTR"
      }
    }
  ]
}