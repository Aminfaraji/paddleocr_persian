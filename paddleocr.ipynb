{
  "nbformat": 4,
  "nbformat_minor": 0,
  "metadata": {
    "colab": {
      "provenance": [],
      "include_colab_link": true
    },
    "kernelspec": {
      "name": "python3",
      "display_name": "Python 3"
    },
    "language_info": {
      "name": "python"
    },
    "accelerator": "GPU",
    "gpuClass": "standard"
  },
  "cells": [
    {
      "cell_type": "markdown",
      "metadata": {
        "id": "view-in-github",
        "colab_type": "text"
      },
      "source": [
        "<a href=\"https://colab.research.google.com/github/Aminfaraji/paddleocr_persian/blob/main/paddleocr.ipynb\" target=\"_parent\"><img src=\"https://colab.research.google.com/assets/colab-badge.svg\" alt=\"Open In Colab\"/></a>"
      ]
    },
    {
      "cell_type": "code",
      "source": [
        "from google.colab import drive\n",
        "drive.mount('/content/drive')"
      ],
      "metadata": {
        "colab": {
          "base_uri": "https://localhost:8080/"
        },
        "id": "nW3b-xUNJTHk",
        "outputId": "33edd3e1-fbc3-497c-a5d6-8d8d95c0c438"
      },
      "execution_count": 1,
      "outputs": [
        {
          "output_type": "stream",
          "name": "stdout",
          "text": [
            "Mounted at /content/drive\n"
          ]
        }
      ]
    },
    {
      "cell_type": "code",
      "source": [
        "# !zip -r \"/content/drive/MyDrive/paddel-ocr-shotor.zip\" \"/content/drive/MyDrive/paddel-ocr-shotor\""
      ],
      "metadata": {
        "id": "6Mu5kAK5jWUE"
      },
      "execution_count": null,
      "outputs": []
    },
    {
      "cell_type": "markdown",
      "source": [
        "**Install Paddleocr compatible with the system (cuda11.2 & system linux)**\n",
        "\n",
        "\n",
        "**download pretrained model this link**\n",
        "\n",
        "https://drive.google.com/file/d/18wR7X2zDEdWBHBTPXSJT5S5L1_O7rmKh/view?usp=sharing"
      ],
      "metadata": {
        "id": "m4IY7c4lYYj1"
      }
    },
    {
      "cell_type": "code",
      "source": [
        "!python -m pip install paddlepaddle-gpu==2.4.1.post112 -f https://www.paddlepaddle.org.cn/whl/linux/mkl/avx/stable.html\n",
        "!git clone https://github.com/PaddlePaddle/PaddleOCR.git\n",
        "%cd /content/PaddleOCR\n",
        "!pip install -r requirements.txt"
      ],
      "metadata": {
        "id": "0ekJffhICFjJ"
      },
      "execution_count": null,
      "outputs": []
    },
    {
      "cell_type": "code",
      "source": [
        "!mkdir pretrained_model\n",
        "%cd pretrained_model/\n",
        "!wget https://paddleocr.bj.bcebos.com/PP-OCRv3/multilingual/arabic_PP-OCRv3_rec_train.tar\n",
        "!tar -xf arabic_PP-OCRv3_rec_train.tar && rm -rf arabic_PP-OCRv3_rec_train.tar"
      ],
      "metadata": {
        "id": "i1_sSUEHjk9g"
      },
      "execution_count": null,
      "outputs": []
    },
    {
      "cell_type": "markdown",
      "source": [
        "**download dataset shotor from google drive**"
      ],
      "metadata": {
        "id": "5X05A_qQYzic"
      }
    },
    {
      "cell_type": "markdown",
      "source": [
        "https://drive.google.com/file/d/1kj8wQ45R63Gyp-Qv2mJaa1C4Y0u1JgEC/view?usp=sharing, https://drive.google.com/file/d/1zrZUJjeJgz0iAVeK8QmMZVAUdPDSpman/view?usp=sharing"
      ],
      "metadata": {
        "id": "HccG3p3gZEqD"
      }
    },
    {
      "cell_type": "code",
      "source": [
        "!mkdir /content/PaddleOCR/train_data\n",
        "!unzip /content/drive/MyDrive/MY_dataset.zip -d /content/PaddleOCR/train_data\n",
        "# !unzip /content/drive/MyDrive/IDPL_train.zip -d /content/PaddleOCR/train_data\n",
        "# !unzip /content/drive/MyDrive/IDPL_eval.zip -d /content/PaddleOCR/train_data"
      ],
      "metadata": {
        "id": "9ps0NaFfMsRJ"
      },
      "execution_count": null,
      "outputs": []
    },
    {
      "cell_type": "code",
      "source": [
        "import glob,pandas,shutil\n",
        "# a=glob.glob(\"/content/PaddleOCR/train_data/en_train_filtered/*.csv\")\n",
        "# shutil.move(a[0],'/content/PaddleOCR/train_data')\n",
        "#a=glob.glob(\"/content/PaddleOCR/train_data/en_val/*.csv\")\n",
        "#shutil.move(a[0],'/content/PaddleOCR/train_data')"
      ],
      "metadata": {
        "id": "1U0LItDDpfgd"
      },
      "execution_count": 5,
      "outputs": []
    },
    {
      "cell_type": "markdown",
      "source": [
        "**convert file .csv to .txt for train Paddleocr. (Paddleocr support of format .txt for train model)**\n",
        "\n",
        "**recommend download file .txt**\n",
        "https://drive.google.com/file/d/1-15OsG6mAxBgVXtjCE2bKVKk5Ry_Dcr3/view?usp=sharing,\n",
        "*****************************\n",
        "https://drive.google.com/file/d/1Q4FuTYAKjWtUgGBsAK0blYuSQm8Rme99/view?usp=sharing"
      ],
      "metadata": {
        "id": "IoYBQcNCombD"
      }
    },
    {
      "cell_type": "code",
      "source": [
        "# !rm -rf /content/PaddleOCR/train_data/en_train_filtered/labels.csv\n",
        "# !rm -rf /content/PaddleOCR/train_data/en_val/labels.csv\n",
        "# !cp /content/drive/MyDrive/val.txt -r /content/PaddleOCR/train_data/\n",
        "# !cp /content/drive/MyDrive/train.txt -r /content/PaddleOCR/train_data/"
      ],
      "metadata": {
        "id": "58b2CMdONVT7"
      },
      "execution_count": null,
      "outputs": []
    },
    {
      "cell_type": "code",
      "source": [
        "# # # Read in the file\n",
        "# # with open('/content/drive/MyDrive/val.txt', 'r') as file :\n",
        "# #   filedata = file.read()\n",
        "\n",
        "# # # Replace the target string\n",
        "# # filedata = filedata.replace('.jpg', '.tif')\n",
        "\n",
        "# # # Write the file out again\n",
        "# # with open('/content/drive/MyDrive/val.txt', 'w') as file:\n",
        "# #   file.write(filedata)\n",
        "\n",
        "# # # Read in the file\n",
        "# # with open('/content/drive/MyDrive/train.txt', 'r') as file :\n",
        "# #   filedata = file.read()\n",
        "\n",
        "# # # Replace the target string\n",
        "# # filedata = filedata.replace('.jpg', '.tif')\n",
        "\n",
        "# # # Write the file out again\n",
        "# # with open('/content/drive/MyDrive/train.txt', 'w') as file:\n",
        "# #   file.write(filedata)\n",
        "# # 1. Open the CSV file in reading mode and the TXT file in writing mode\n",
        "# with open('/content/PaddleOCR/train_data/train.csv', 'r') as f_in, open('/content/PaddleOCR/train_data/train.txt', 'w') as f_out:\n",
        "\n",
        "#     # 2. Read the CSV file and store in variable\n",
        "#     content = f_in.read()\n",
        "\n",
        "#     # 3. Write the content into the TXT file\n",
        "#     f_out.write(content)\n",
        "# !rm -rf /content/PaddleOCR/train_data/train.csv\n",
        "# with open(r\"/content/PaddleOCR/train_data/train.txt\", 'r+') as fp:\n",
        "#     # read an store all lines into list\n",
        "#     lines = fp.readlines()\n",
        "#     # move file pointer to the beginning of a file\n",
        "#     fp.seek(0)\n",
        "#     # truncate the file\n",
        "#     fp.truncate()\n",
        "\n",
        "#     # start writing lines\n",
        "#     # iterate line and line number\n",
        "#     for number, line in enumerate(lines):\n",
        "#         # delete line number 5 and 8\n",
        "#         # note: list index start from 0\n",
        "#         if number not in [0]:\n",
        "#             fp.write(line)\n"
      ],
      "metadata": {
        "id": "yhVhN_y0hPoV"
      },
      "execution_count": null,
      "outputs": []
    },
    {
      "cell_type": "code",
      "source": [
        "import cv2 \n",
        "import os \n",
        "#from imutils import perspective\n",
        "import numpy as np \n",
        "import json\n",
        "from tqdm import tqdm\n",
        "import matplotlib.pyplot as plt\n",
        "from imutils import perspective"
      ],
      "metadata": {
        "id": "28Uv89JZXX0M"
      },
      "execution_count": 6,
      "outputs": []
    },
    {
      "cell_type": "markdown",
      "source": [
        "**continue trained model**"
      ],
      "metadata": {
        "id": "0YX-zgVtqzjj"
      }
    },
    {
      "cell_type": "code",
      "source": [
        "%cd /content/PaddleOCR"
      ],
      "metadata": {
        "id": "z_m1qp0SOUvg",
        "outputId": "73bd0cc7-1059-4eec-894e-02ccd320d305",
        "colab": {
          "base_uri": "https://localhost:8080/"
        }
      },
      "execution_count": 1,
      "outputs": [
        {
          "output_type": "stream",
          "name": "stdout",
          "text": [
            "/content/PaddleOCR\n"
          ]
        }
      ]
    },
    {
      "cell_type": "code",
      "source": [
        "#!rm -rf /content/drive/MyDrive/output_IDPL"
      ],
      "metadata": {
        "id": "8HZOWF8kRzG2"
      },
      "execution_count": null,
      "outputs": []
    },
    {
      "cell_type": "code",
      "source": [
        "!python3 tools/train.py -c /content/PaddleOCR/pretrained_model/arabic_PP-OCRv3_rec_train/config.yml -o Global.pretrained_model=/content/PaddleOCR/pretrained_model/arabic_PP-OCRv3_rec_train/best_accuracy"
      ],
      "metadata": {
        "id": "_rCsdUovsCpN"
      },
      "execution_count": null,
      "outputs": []
    },
    {
      "cell_type": "code",
      "source": [
        "!python3 tools/train.py -c /content/drive/MyDrive/output_IDPL-2/config.yml -o Global.checkpoints=/content/drive/MyDrive/output_IDPL-2/latest"
      ],
      "metadata": {
        "id": "hf8aeJo1h3cx"
      },
      "execution_count": null,
      "outputs": []
    },
    {
      "cell_type": "code",
      "source": [
        "files=glob.glob(\"/content/drive/MyDrive/output_IDPL/*\")\n",
        "import os\n",
        "for file in files:\n",
        "  if file.find('230')<=0 and file.find('latest')<=0 and file.find('train')<=0 and file.find('best')<=0 and file.find('config')<=0:\n",
        "    os.remove(file)"
      ],
      "metadata": {
        "id": "HDklQR4BK6SQ"
      },
      "execution_count": null,
      "outputs": []
    },
    {
      "cell_type": "markdown",
      "source": [
        "**evaluate dataset shotor**"
      ],
      "metadata": {
        "id": "AoguAI3cfuPG"
      }
    },
    {
      "cell_type": "code",
      "source": [
        "!python3 -m paddle.distributed.launch --gpus '0' tools/eval.py -c /content/drive/MyDrive/output/v3_arabic_mobile/config.yml -o Global.checkpoints=/content/drive/MyDrive/output/v3_arabic_mobile/best_accuracy"
      ],
      "metadata": {
        "id": "sikHwucwlXmY"
      },
      "execution_count": null,
      "outputs": []
    },
    {
      "cell_type": "code",
      "source": [
        "%cd .."
      ],
      "metadata": {
        "id": "4FR2sQzTBv5w",
        "colab": {
          "base_uri": "https://localhost:8080/"
        },
        "outputId": "540c9385-5d49-4158-ca28-dca2c52bb3dd"
      },
      "execution_count": null,
      "outputs": [
        {
          "output_type": "stream",
          "name": "stdout",
          "text": [
            "/content/PaddleOCR\n"
          ]
        }
      ]
    },
    {
      "cell_type": "markdown",
      "source": [
        "**test image uploaded on content**"
      ],
      "metadata": {
        "id": "4Cx74RRBr4Aq"
      }
    },
    {
      "cell_type": "code",
      "source": [
        "!python3 tools/infer_rec.py -c /content/drive/MyDrive/output_my_dataset/v3_arabic_mobile/config.yml -o Global.pretrained_model=/content/drive/MyDrive/output_my_dataset/v3_arabic_mobile/best_accuracy  Global.infer_img=/content/Amin_35993.png"
      ],
      "metadata": {
        "id": "QAChPPnnR1y0",
        "outputId": "dd556e96-1e67-45ef-dfcf-920e12c148ed",
        "colab": {
          "base_uri": "https://localhost:8080/"
        }
      },
      "execution_count": 4,
      "outputs": [
        {
          "output_type": "stream",
          "name": "stdout",
          "text": [
            "[2023/02/17 21:21:42] ppocr INFO: Architecture : \n",
            "[2023/02/17 21:21:42] ppocr INFO:     Backbone : \n",
            "[2023/02/17 21:21:42] ppocr INFO:         last_conv_stride : [1, 2]\n",
            "[2023/02/17 21:21:42] ppocr INFO:         last_pool_type : avg\n",
            "[2023/02/17 21:21:42] ppocr INFO:         name : MobileNetV1Enhance\n",
            "[2023/02/17 21:21:42] ppocr INFO:         scale : 0.5\n",
            "[2023/02/17 21:21:42] ppocr INFO:     Head : \n",
            "[2023/02/17 21:21:42] ppocr INFO:         head_list : \n",
            "[2023/02/17 21:21:42] ppocr INFO:             CTCHead : \n",
            "[2023/02/17 21:21:42] ppocr INFO:                 Head : \n",
            "[2023/02/17 21:21:42] ppocr INFO:                     fc_decay : 1e-05\n",
            "[2023/02/17 21:21:42] ppocr INFO:                 Neck : \n",
            "[2023/02/17 21:21:42] ppocr INFO:                     depth : 2\n",
            "[2023/02/17 21:21:42] ppocr INFO:                     dims : 64\n",
            "[2023/02/17 21:21:42] ppocr INFO:                     hidden_dims : 120\n",
            "[2023/02/17 21:21:42] ppocr INFO:                     name : svtr\n",
            "[2023/02/17 21:21:42] ppocr INFO:                     use_guide : True\n",
            "[2023/02/17 21:21:42] ppocr INFO:             SARHead : \n",
            "[2023/02/17 21:21:42] ppocr INFO:                 enc_dim : 512\n",
            "[2023/02/17 21:21:42] ppocr INFO:                 max_text_length : 25\n",
            "[2023/02/17 21:21:42] ppocr INFO:         name : MultiHead\n",
            "[2023/02/17 21:21:42] ppocr INFO:     Transform : None\n",
            "[2023/02/17 21:21:42] ppocr INFO:     algorithm : SVTR\n",
            "[2023/02/17 21:21:42] ppocr INFO:     model_type : rec\n",
            "[2023/02/17 21:21:42] ppocr INFO: Eval : \n",
            "[2023/02/17 21:21:42] ppocr INFO:     dataset : \n",
            "[2023/02/17 21:21:42] ppocr INFO:         data_dir : /content/PaddleOCR/train_data/MY_dataset/val\n",
            "[2023/02/17 21:21:42] ppocr INFO:         label_file_list : ['/content/PaddleOCR/train_data/MY_dataset/val.txt']\n",
            "[2023/02/17 21:21:42] ppocr INFO:         name : SimpleDataSet\n",
            "[2023/02/17 21:21:42] ppocr INFO:         transforms : \n",
            "[2023/02/17 21:21:42] ppocr INFO:             DecodeImage : \n",
            "[2023/02/17 21:21:42] ppocr INFO:                 channel_first : False\n",
            "[2023/02/17 21:21:42] ppocr INFO:                 img_mode : BGR\n",
            "[2023/02/17 21:21:42] ppocr INFO:             MultiLabelEncode : None\n",
            "[2023/02/17 21:21:42] ppocr INFO:             RecResizeImg : \n",
            "[2023/02/17 21:21:42] ppocr INFO:                 image_shape : [3, 48, 320]\n",
            "[2023/02/17 21:21:42] ppocr INFO:             KeepKeys : \n",
            "[2023/02/17 21:21:42] ppocr INFO:                 keep_keys : ['image', 'label_ctc', 'label_sar', 'length', 'valid_ratio']\n",
            "[2023/02/17 21:21:42] ppocr INFO:     loader : \n",
            "[2023/02/17 21:21:42] ppocr INFO:         batch_size_per_card : 128\n",
            "[2023/02/17 21:21:42] ppocr INFO:         drop_last : False\n",
            "[2023/02/17 21:21:42] ppocr INFO:         num_workers : 4\n",
            "[2023/02/17 21:21:42] ppocr INFO:         shuffle : False\n",
            "[2023/02/17 21:21:42] ppocr INFO: Global : \n",
            "[2023/02/17 21:21:42] ppocr INFO:     cal_metric_during_train : True\n",
            "[2023/02/17 21:21:42] ppocr INFO:     character_dict_path : ppocr/utils/dict/arabic_dict.txt\n",
            "[2023/02/17 21:21:42] ppocr INFO:     checkpoints : None\n",
            "[2023/02/17 21:21:42] ppocr INFO:     debug : False\n",
            "[2023/02/17 21:21:42] ppocr INFO:     distributed : False\n",
            "[2023/02/17 21:21:42] ppocr INFO:     epoch_num : 500\n",
            "[2023/02/17 21:21:42] ppocr INFO:     eval_batch_step : [0, 2000]\n",
            "[2023/02/17 21:21:42] ppocr INFO:     infer_img : /content/Amin_35993.png\n",
            "[2023/02/17 21:21:42] ppocr INFO:     infer_mode : False\n",
            "[2023/02/17 21:21:42] ppocr INFO:     log_smooth_window : 20\n",
            "[2023/02/17 21:21:42] ppocr INFO:     max_text_length : 25\n",
            "[2023/02/17 21:21:42] ppocr INFO:     pretrained_model : /content/drive/MyDrive/output_my_dataset/v3_arabic_mobile/best_accuracy\n",
            "[2023/02/17 21:21:42] ppocr INFO:     print_batch_step : 10\n",
            "[2023/02/17 21:21:42] ppocr INFO:     save_epoch_step : 10\n",
            "[2023/02/17 21:21:42] ppocr INFO:     save_inference_dir : None\n",
            "[2023/02/17 21:21:42] ppocr INFO:     save_model_dir : /content/drive/MyDrive/output_my_dataset/v3_arabic_mobile\n",
            "[2023/02/17 21:21:42] ppocr INFO:     save_res_path : /content/drive/MyDrive/output_my_dataset/rec/predicts_ppocrv3_arabic.txt\n",
            "[2023/02/17 21:21:42] ppocr INFO:     use_gpu : True\n",
            "[2023/02/17 21:21:42] ppocr INFO:     use_space_char : True\n",
            "[2023/02/17 21:21:42] ppocr INFO:     use_visualdl : False\n",
            "[2023/02/17 21:21:42] ppocr INFO: Loss : \n",
            "[2023/02/17 21:21:42] ppocr INFO:     loss_config_list : \n",
            "[2023/02/17 21:21:42] ppocr INFO:         CTCLoss : None\n",
            "[2023/02/17 21:21:42] ppocr INFO:         SARLoss : None\n",
            "[2023/02/17 21:21:42] ppocr INFO:     name : MultiLoss\n",
            "[2023/02/17 21:21:42] ppocr INFO: Metric : \n",
            "[2023/02/17 21:21:42] ppocr INFO:     ignore_space : False\n",
            "[2023/02/17 21:21:42] ppocr INFO:     main_indicator : acc\n",
            "[2023/02/17 21:21:42] ppocr INFO:     name : RecMetric\n",
            "[2023/02/17 21:21:42] ppocr INFO: Optimizer : \n",
            "[2023/02/17 21:21:42] ppocr INFO:     beta1 : 0.9\n",
            "[2023/02/17 21:21:42] ppocr INFO:     beta2 : 0.999\n",
            "[2023/02/17 21:21:42] ppocr INFO:     lr : \n",
            "[2023/02/17 21:21:42] ppocr INFO:         learning_rate : 0.001\n",
            "[2023/02/17 21:21:42] ppocr INFO:         name : Cosine\n",
            "[2023/02/17 21:21:42] ppocr INFO:         warmup_epoch : 5\n",
            "[2023/02/17 21:21:42] ppocr INFO:     name : Adam\n",
            "[2023/02/17 21:21:42] ppocr INFO:     regularizer : \n",
            "[2023/02/17 21:21:42] ppocr INFO:         factor : 3e-05\n",
            "[2023/02/17 21:21:42] ppocr INFO:         name : L2\n",
            "[2023/02/17 21:21:42] ppocr INFO: PostProcess : \n",
            "[2023/02/17 21:21:42] ppocr INFO:     name : CTCLabelDecode\n",
            "[2023/02/17 21:21:42] ppocr INFO: Train : \n",
            "[2023/02/17 21:21:42] ppocr INFO:     dataset : \n",
            "[2023/02/17 21:21:42] ppocr INFO:         data_dir : /content/PaddleOCR/train_data/MY_dataset/Train/\n",
            "[2023/02/17 21:21:42] ppocr INFO:         ext_op_transform_idx : 1\n",
            "[2023/02/17 21:21:42] ppocr INFO:         label_file_list : ['/content/PaddleOCR/train_data/MY_dataset/Train.txt']\n",
            "[2023/02/17 21:21:42] ppocr INFO:         name : SimpleDataSet\n",
            "[2023/02/17 21:21:42] ppocr INFO:         transforms : \n",
            "[2023/02/17 21:21:42] ppocr INFO:             DecodeImage : \n",
            "[2023/02/17 21:21:42] ppocr INFO:                 channel_first : False\n",
            "[2023/02/17 21:21:42] ppocr INFO:                 img_mode : BGR\n",
            "[2023/02/17 21:21:42] ppocr INFO:             RecConAug : \n",
            "[2023/02/17 21:21:42] ppocr INFO:                 ext_data_num : 2\n",
            "[2023/02/17 21:21:42] ppocr INFO:                 image_shape : [48, 320, 3]\n",
            "[2023/02/17 21:21:42] ppocr INFO:                 prob : 0.5\n",
            "[2023/02/17 21:21:42] ppocr INFO:             RecAug : None\n",
            "[2023/02/17 21:21:42] ppocr INFO:             MultiLabelEncode : None\n",
            "[2023/02/17 21:21:42] ppocr INFO:             RecResizeImg : \n",
            "[2023/02/17 21:21:42] ppocr INFO:                 image_shape : [3, 48, 320]\n",
            "[2023/02/17 21:21:42] ppocr INFO:             KeepKeys : \n",
            "[2023/02/17 21:21:42] ppocr INFO:                 keep_keys : ['image', 'label_ctc', 'label_sar', 'length', 'valid_ratio']\n",
            "[2023/02/17 21:21:42] ppocr INFO:     loader : \n",
            "[2023/02/17 21:21:42] ppocr INFO:         batch_size_per_card : 128\n",
            "[2023/02/17 21:21:42] ppocr INFO:         drop_last : True\n",
            "[2023/02/17 21:21:42] ppocr INFO:         num_workers : 4\n",
            "[2023/02/17 21:21:42] ppocr INFO:         shuffle : True\n",
            "[2023/02/17 21:21:42] ppocr INFO: profiler_options : None\n",
            "[2023/02/17 21:21:42] ppocr INFO: train with paddle 2.4.1 and device Place(gpu:0)\n",
            "W0217 21:21:42.186720 31403 gpu_resources.cc:61] Please NOTE: device: 0, GPU Compute Capability: 7.5, Driver API Version: 11.6, Runtime API Version: 11.6\n",
            "W0217 21:21:42.192732 31403 gpu_resources.cc:91] device: 0, cuDNN Version: 8.4.\n",
            "[2023/02/17 21:21:43] ppocr INFO: load pretrain successful from /content/drive/MyDrive/output_my_dataset/v3_arabic_mobile/best_accuracy\n",
            "[2023/02/17 21:21:43] ppocr INFO: infer_img: /content/Amin_35993.png\n",
            "[2023/02/17 21:21:45] ppocr INFO: \t result: یشهوژپ ربتعم\t0.9840652942657471\n",
            "[2023/02/17 21:21:45] ppocr INFO: success!\n"
          ]
        }
      ]
    },
    {
      "cell_type": "markdown",
      "source": [
        "**Recommend:**\n",
        "\n",
        "Please change the (configuration) file for train or evaluation."
      ],
      "metadata": {
        "id": "ys3bLGAusZTR"
      }
    }
  ]
}