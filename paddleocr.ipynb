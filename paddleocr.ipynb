{
  "nbformat": 4,
  "nbformat_minor": 0,
  "metadata": {
    "colab": {
      "provenance": [],
      "include_colab_link": true
    },
    "kernelspec": {
      "name": "python3",
      "display_name": "Python 3"
    },
    "language_info": {
      "name": "python"
    },
    "accelerator": "GPU",
    "gpuClass": "standard"
  },
  "cells": [
    {
      "cell_type": "markdown",
      "metadata": {
        "id": "view-in-github",
        "colab_type": "text"
      },
      "source": [
        "<a href=\"https://colab.research.google.com/github/Aminfaraji/paddleocr_persian/blob/main/paddleocr.ipynb\" target=\"_parent\"><img src=\"https://colab.research.google.com/assets/colab-badge.svg\" alt=\"Open In Colab\"/></a>"
      ]
    },
    {
      "cell_type": "code",
      "source": [
        "from google.colab import drive\n",
        "drive.mount('/content/drive')"
      ],
      "metadata": {
        "colab": {
          "base_uri": "https://localhost:8080/"
        },
        "id": "nW3b-xUNJTHk",
        "outputId": "c6d4b111-db6e-4f24-f7c6-c263c4e69228"
      },
      "execution_count": 1,
      "outputs": [
        {
          "output_type": "stream",
          "name": "stdout",
          "text": [
            "Mounted at /content/drive\n"
          ]
        }
      ]
    },
    {
      "cell_type": "code",
      "source": [
        "# !zip -r \"/content/drive/MyDrive/paddel-ocr-shotor.zip\" \"/content/drive/MyDrive/paddel-ocr-shotor\""
      ],
      "metadata": {
        "id": "6Mu5kAK5jWUE"
      },
      "execution_count": 4,
      "outputs": []
    },
    {
      "cell_type": "markdown",
      "source": [
        "**Install Paddleocr compatible with the system (cuda11.2 & system linux)**\n",
        "\n",
        "\n",
        "**download pretrained model this link**\n",
        "\n",
        "https://drive.google.com/file/d/18wR7X2zDEdWBHBTPXSJT5S5L1_O7rmKh/view?usp=sharing"
      ],
      "metadata": {
        "id": "m4IY7c4lYYj1"
      }
    },
    {
      "cell_type": "code",
      "source": [
        "# !python -m pip install paddlepaddle-gpu==2.4.1.post112 -f https://www.paddlepaddle.org.cn/whl/linux/mkl/avx/stable.html\n",
        "# !git clone https://github.com/PaddlePaddle/PaddleOCR.git\n",
        "# %cd /content/PaddleOCR\n",
        "# !pip install -r requirements.txt\n",
        "# !mkdir pretrained_model\n",
        "# %cd pretrained_model/\n",
        "# !wget https://paddleocr.bj.bcebos.com/PP-OCRv3/multilingual/arabic_PP-OCRv3_rec_train.tar\n",
        "# !tar -xf arabic_PP-OCRv3_rec_train.tar && rm -rf arabic_PP-OCRv3_rec_train.tar\n"
      ],
      "metadata": {
        "id": "0ekJffhICFjJ"
      },
      "execution_count": 5,
      "outputs": []
    },
    {
      "cell_type": "markdown",
      "source": [
        "**download dataset shotor from google drive**"
      ],
      "metadata": {
        "id": "5X05A_qQYzic"
      }
    },
    {
      "cell_type": "markdown",
      "source": [
        "https://drive.google.com/file/d/1kj8wQ45R63Gyp-Qv2mJaa1C4Y0u1JgEC/view?usp=sharing, https://drive.google.com/file/d/1zrZUJjeJgz0iAVeK8QmMZVAUdPDSpman/view?usp=sharing"
      ],
      "metadata": {
        "id": "HccG3p3gZEqD"
      }
    },
    {
      "cell_type": "code",
      "source": [
        "!mkdir /content/PaddleOCR/train_data\n",
        "!unzip /content/drive/MyDrive/en_train_filtered.zip -d /content/PaddleOCR/train_data\n",
        "!unzip /content/drive/MyDrive/en_val.zip -d /content/PaddleOCR/train_data"
      ],
      "metadata": {
        "id": "9ps0NaFfMsRJ"
      },
      "execution_count": null,
      "outputs": []
    },
    {
      "cell_type": "code",
      "source": [],
      "metadata": {
        "id": "wKyujGN9IAW4"
      },
      "execution_count": null,
      "outputs": []
    },
    {
      "cell_type": "markdown",
      "source": [
        "**convert file .csv to .txt for train Paddleocr. (Paddleocr support of format .txt for train model)**\n",
        "\n",
        "**recommend download file .txt**\n",
        "https://drive.google.com/file/d/1-15OsG6mAxBgVXtjCE2bKVKk5Ry_Dcr3/view?usp=sharing,\n",
        "*****************************\n",
        "https://drive.google.com/file/d/1Q4FuTYAKjWtUgGBsAK0blYuSQm8Rme99/view?usp=sharing"
      ],
      "metadata": {
        "id": "IoYBQcNCombD"
      }
    },
    {
      "cell_type": "code",
      "source": [
        "!rm -rf /content/PaddleOCR/train_data/en_train_filtered/labels.csv\n",
        "!rm -rf /content/PaddleOCR/train_data/en_val/labels.csv\n",
        "!cp /content/drive/MyDrive/val.txt -r /content/PaddleOCR/train_data/\n",
        "!cp /content/drive/MyDrive/train.txt -r /content/PaddleOCR/train_data/"
      ],
      "metadata": {
        "id": "58b2CMdONVT7"
      },
      "execution_count": null,
      "outputs": []
    },
    {
      "cell_type": "code",
      "source": [
        "# # Read in the file\n",
        "# with open('/content/drive/MyDrive/val.txt', 'r') as file :\n",
        "#   filedata = file.read()\n",
        "\n",
        "# # Replace the target string\n",
        "# filedata = filedata.replace('.jpg', '.tif')\n",
        "\n",
        "# # Write the file out again\n",
        "# with open('/content/drive/MyDrive/val.txt', 'w') as file:\n",
        "#   file.write(filedata)\n",
        "\n",
        "# # Read in the file\n",
        "# with open('/content/drive/MyDrive/train.txt', 'r') as file :\n",
        "#   filedata = file.read()\n",
        "\n",
        "# # Replace the target string\n",
        "# filedata = filedata.replace('.jpg', '.tif')\n",
        "\n",
        "# # Write the file out again\n",
        "# with open('/content/drive/MyDrive/train.txt', 'w') as file:\n",
        "#   file.write(filedata)"
      ],
      "metadata": {
        "id": "yhVhN_y0hPoV"
      },
      "execution_count": null,
      "outputs": []
    },
    {
      "cell_type": "code",
      "source": [
        "import cv2 \n",
        "import os \n",
        "#from imutils import perspective\n",
        "import numpy as np \n",
        "import json\n",
        "from tqdm import tqdm\n",
        "import matplotlib.pyplot as plt\n",
        "from imutils import perspective"
      ],
      "metadata": {
        "id": "28Uv89JZXX0M"
      },
      "execution_count": 1,
      "outputs": []
    },
    {
      "cell_type": "markdown",
      "source": [
        "**continue trained model**"
      ],
      "metadata": {
        "id": "0YX-zgVtqzjj"
      }
    },
    {
      "cell_type": "code",
      "source": [
        "%cd /content/PaddleOCR"
      ],
      "metadata": {
        "id": "z_m1qp0SOUvg",
        "outputId": "f070dca4-4808-4a47-ebfe-712f077179a4",
        "colab": {
          "base_uri": "https://localhost:8080/"
        }
      },
      "execution_count": 2,
      "outputs": [
        {
          "output_type": "stream",
          "name": "stdout",
          "text": [
            "/content/PaddleOCR\n"
          ]
        }
      ]
    },
    {
      "cell_type": "code",
      "source": [
        "!python3 tools/train.py -c /content/drive/MyDrive/output/v3_arabic_mobile/config.yml -o Global.checkpoints=/content/drive/MyDrive/output/v3_arabic_mobile/latest"
      ],
      "metadata": {
        "id": "hf8aeJo1h3cx"
      },
      "execution_count": null,
      "outputs": []
    },
    {
      "cell_type": "markdown",
      "source": [
        "**evaluate dataset shotor**"
      ],
      "metadata": {
        "id": "AoguAI3cfuPG"
      }
    },
    {
      "cell_type": "code",
      "source": [
        "!python3 -m paddle.distributed.launch --gpus '0' tools/eval.py -c /content/drive/MyDrive/output/v3_arabic_mobile/config.yml -o Global.checkpoints=/content/drive/MyDrive/output/v3_arabic_mobile/best_accuracy"
      ],
      "metadata": {
        "id": "sikHwucwlXmY"
      },
      "execution_count": null,
      "outputs": []
    },
    {
      "cell_type": "code",
      "source": [
        "%cd .."
      ],
      "metadata": {
        "id": "4FR2sQzTBv5w",
        "colab": {
          "base_uri": "https://localhost:8080/"
        },
        "outputId": "540c9385-5d49-4158-ca28-dca2c52bb3dd"
      },
      "execution_count": 14,
      "outputs": [
        {
          "output_type": "stream",
          "name": "stdout",
          "text": [
            "/content/PaddleOCR\n"
          ]
        }
      ]
    },
    {
      "cell_type": "markdown",
      "source": [
        "**test image uploaded on content**"
      ],
      "metadata": {
        "id": "4Cx74RRBr4Aq"
      }
    },
    {
      "cell_type": "code",
      "source": [
        "!python3 tools/infer_rec.py -c /content/drive/MyDrive/output/v3_arabic_mobile/config.yml -o Global.pretrained_model=/content/drive/MyDrive/output/v3_arabic_mobile/best_accuracy  Global.infer_img=/content/download.jpg"
      ],
      "metadata": {
        "id": "QAChPPnnR1y0",
        "outputId": "ceafbb2e-32e9-433a-874d-c2695ebff688",
        "colab": {
          "base_uri": "https://localhost:8080/"
        }
      },
      "execution_count": 7,
      "outputs": [
        {
          "output_type": "stream",
          "name": "stdout",
          "text": [
            "[2023/01/18 12:42:45] ppocr INFO: Architecture : \n",
            "[2023/01/18 12:42:45] ppocr INFO:     Backbone : \n",
            "[2023/01/18 12:42:45] ppocr INFO:         last_conv_stride : [1, 2]\n",
            "[2023/01/18 12:42:45] ppocr INFO:         last_pool_type : avg\n",
            "[2023/01/18 12:42:45] ppocr INFO:         name : MobileNetV1Enhance\n",
            "[2023/01/18 12:42:45] ppocr INFO:         scale : 0.5\n",
            "[2023/01/18 12:42:45] ppocr INFO:     Head : \n",
            "[2023/01/18 12:42:45] ppocr INFO:         head_list : \n",
            "[2023/01/18 12:42:45] ppocr INFO:             CTCHead : \n",
            "[2023/01/18 12:42:45] ppocr INFO:                 Head : \n",
            "[2023/01/18 12:42:45] ppocr INFO:                     fc_decay : 1e-05\n",
            "[2023/01/18 12:42:45] ppocr INFO:                 Neck : \n",
            "[2023/01/18 12:42:45] ppocr INFO:                     depth : 2\n",
            "[2023/01/18 12:42:45] ppocr INFO:                     dims : 64\n",
            "[2023/01/18 12:42:45] ppocr INFO:                     hidden_dims : 120\n",
            "[2023/01/18 12:42:45] ppocr INFO:                     name : svtr\n",
            "[2023/01/18 12:42:45] ppocr INFO:                     use_guide : True\n",
            "[2023/01/18 12:42:45] ppocr INFO:             SARHead : \n",
            "[2023/01/18 12:42:45] ppocr INFO:                 enc_dim : 512\n",
            "[2023/01/18 12:42:45] ppocr INFO:                 max_text_length : 60\n",
            "[2023/01/18 12:42:45] ppocr INFO:         name : MultiHead\n",
            "[2023/01/18 12:42:45] ppocr INFO:     Transform : None\n",
            "[2023/01/18 12:42:45] ppocr INFO:     algorithm : SVTR\n",
            "[2023/01/18 12:42:45] ppocr INFO:     model_type : rec\n",
            "[2023/01/18 12:42:45] ppocr INFO: Eval : \n",
            "[2023/01/18 12:42:45] ppocr INFO:     dataset : \n",
            "[2023/01/18 12:42:45] ppocr INFO:         data_dir : ./train_data/en_val\n",
            "[2023/01/18 12:42:45] ppocr INFO:         label_file_list : ['./train_data/val.txt']\n",
            "[2023/01/18 12:42:45] ppocr INFO:         name : SimpleDataSet\n",
            "[2023/01/18 12:42:45] ppocr INFO:         transforms : \n",
            "[2023/01/18 12:42:45] ppocr INFO:             DecodeImage : \n",
            "[2023/01/18 12:42:45] ppocr INFO:                 channel_first : False\n",
            "[2023/01/18 12:42:45] ppocr INFO:                 img_mode : BGR\n",
            "[2023/01/18 12:42:45] ppocr INFO:             MultiLabelEncode : None\n",
            "[2023/01/18 12:42:45] ppocr INFO:             RecResizeImg : \n",
            "[2023/01/18 12:42:45] ppocr INFO:                 image_shape : [3, 48, 320]\n",
            "[2023/01/18 12:42:45] ppocr INFO:             KeepKeys : \n",
            "[2023/01/18 12:42:45] ppocr INFO:                 keep_keys : ['image', 'label_ctc', 'label_sar', 'length', 'valid_ratio']\n",
            "[2023/01/18 12:42:45] ppocr INFO:     loader : \n",
            "[2023/01/18 12:42:45] ppocr INFO:         batch_size_per_card : 128\n",
            "[2023/01/18 12:42:45] ppocr INFO:         drop_last : False\n",
            "[2023/01/18 12:42:45] ppocr INFO:         num_workers : 8\n",
            "[2023/01/18 12:42:45] ppocr INFO:         shuffle : False\n",
            "[2023/01/18 12:42:45] ppocr INFO: Global : \n",
            "[2023/01/18 12:42:45] ppocr INFO:     cal_metric_during_train : True\n",
            "[2023/01/18 12:42:45] ppocr INFO:     character_dict_path : ppocr/utils/dict/arabic_dict.txt\n",
            "[2023/01/18 12:42:45] ppocr INFO:     checkpoints : None\n",
            "[2023/01/18 12:42:45] ppocr INFO:     debug : False\n",
            "[2023/01/18 12:42:45] ppocr INFO:     distributed : False\n",
            "[2023/01/18 12:42:45] ppocr INFO:     epoch_num : 80\n",
            "[2023/01/18 12:42:45] ppocr INFO:     eval_batch_step : [0, 100]\n",
            "[2023/01/18 12:42:45] ppocr INFO:     infer_img : /content/download.jpg\n",
            "[2023/01/18 12:42:45] ppocr INFO:     infer_mode : False\n",
            "[2023/01/18 12:42:45] ppocr INFO:     log_smooth_window : 20\n",
            "[2023/01/18 12:42:45] ppocr INFO:     max_text_length : 60\n",
            "[2023/01/18 12:42:45] ppocr INFO:     pretrained_model : /content/drive/MyDrive/output/v3_arabic_mobile/best_accuracy\n",
            "[2023/01/18 12:42:45] ppocr INFO:     print_batch_step : 10\n",
            "[2023/01/18 12:42:45] ppocr INFO:     save_epoch_step : 3\n",
            "[2023/01/18 12:42:45] ppocr INFO:     save_inference_dir : None\n",
            "[2023/01/18 12:42:45] ppocr INFO:     save_model_dir : /content/drive/MyDrive/output/v3_arabic_mobile/\n",
            "[2023/01/18 12:42:45] ppocr INFO:     save_res_path : /content/drive/MyDrive/output/rec/predicts_ppocrv3_arabic.txt\n",
            "[2023/01/18 12:42:45] ppocr INFO:     use_gpu : True\n",
            "[2023/01/18 12:42:45] ppocr INFO:     use_space_char : True\n",
            "[2023/01/18 12:42:45] ppocr INFO:     use_visualdl : False\n",
            "[2023/01/18 12:42:45] ppocr INFO: Loss : \n",
            "[2023/01/18 12:42:45] ppocr INFO:     loss_config_list : \n",
            "[2023/01/18 12:42:45] ppocr INFO:         CTCLoss : None\n",
            "[2023/01/18 12:42:45] ppocr INFO:         SARLoss : None\n",
            "[2023/01/18 12:42:45] ppocr INFO:     name : MultiLoss\n",
            "[2023/01/18 12:42:45] ppocr INFO: Metric : \n",
            "[2023/01/18 12:42:45] ppocr INFO:     ignore_space : False\n",
            "[2023/01/18 12:42:45] ppocr INFO:     main_indicator : acc\n",
            "[2023/01/18 12:42:45] ppocr INFO:     name : RecMetric\n",
            "[2023/01/18 12:42:45] ppocr INFO: Optimizer : \n",
            "[2023/01/18 12:42:45] ppocr INFO:     beta1 : 0.9\n",
            "[2023/01/18 12:42:45] ppocr INFO:     beta2 : 0.999\n",
            "[2023/01/18 12:42:45] ppocr INFO:     lr : \n",
            "[2023/01/18 12:42:45] ppocr INFO:         learning_rate : 0.02\n",
            "[2023/01/18 12:42:45] ppocr INFO:         name : Cosine\n",
            "[2023/01/18 12:42:45] ppocr INFO:         warmup_epoch : 5\n",
            "[2023/01/18 12:42:45] ppocr INFO:     name : Adam\n",
            "[2023/01/18 12:42:45] ppocr INFO:     regularizer : \n",
            "[2023/01/18 12:42:45] ppocr INFO:         factor : 3e-05\n",
            "[2023/01/18 12:42:45] ppocr INFO:         name : L2\n",
            "[2023/01/18 12:42:45] ppocr INFO: PostProcess : \n",
            "[2023/01/18 12:42:45] ppocr INFO:     name : CTCLabelDecode\n",
            "[2023/01/18 12:42:45] ppocr INFO: Train : \n",
            "[2023/01/18 12:42:45] ppocr INFO:     dataset : \n",
            "[2023/01/18 12:42:45] ppocr INFO:         data_dir : ./train_data/en_train_filtered\n",
            "[2023/01/18 12:42:45] ppocr INFO:         ext_op_transform_idx : 1\n",
            "[2023/01/18 12:42:45] ppocr INFO:         label_file_list : ['./train_data/train.txt']\n",
            "[2023/01/18 12:42:45] ppocr INFO:         name : SimpleDataSet\n",
            "[2023/01/18 12:42:45] ppocr INFO:         transforms : \n",
            "[2023/01/18 12:42:45] ppocr INFO:             DecodeImage : \n",
            "[2023/01/18 12:42:45] ppocr INFO:                 channel_first : False\n",
            "[2023/01/18 12:42:45] ppocr INFO:                 img_mode : BGR\n",
            "[2023/01/18 12:42:45] ppocr INFO:             RecConAug : \n",
            "[2023/01/18 12:42:45] ppocr INFO:                 ext_data_num : 2\n",
            "[2023/01/18 12:42:45] ppocr INFO:                 image_shape : [48, 320, 3]\n",
            "[2023/01/18 12:42:45] ppocr INFO:                 prob : 0.5\n",
            "[2023/01/18 12:42:45] ppocr INFO:             RecAug : None\n",
            "[2023/01/18 12:42:45] ppocr INFO:             MultiLabelEncode : None\n",
            "[2023/01/18 12:42:45] ppocr INFO:             RecResizeImg : \n",
            "[2023/01/18 12:42:45] ppocr INFO:                 image_shape : [3, 48, 320]\n",
            "[2023/01/18 12:42:45] ppocr INFO:             KeepKeys : \n",
            "[2023/01/18 12:42:45] ppocr INFO:                 keep_keys : ['image', 'label_ctc', 'label_sar', 'length', 'valid_ratio']\n",
            "[2023/01/18 12:42:45] ppocr INFO:     loader : \n",
            "[2023/01/18 12:42:45] ppocr INFO:         batch_size_per_card : 128\n",
            "[2023/01/18 12:42:45] ppocr INFO:         drop_last : True\n",
            "[2023/01/18 12:42:45] ppocr INFO:         num_workers : 8\n",
            "[2023/01/18 12:42:45] ppocr INFO:         shuffle : True\n",
            "[2023/01/18 12:42:45] ppocr INFO: profiler_options : None\n",
            "[2023/01/18 12:42:45] ppocr INFO: train with paddle 2.4.1 and device Place(gpu:0)\n",
            "W0118 12:42:45.588989  9266 gpu_resources.cc:61] Please NOTE: device: 0, GPU Compute Capability: 7.5, Driver API Version: 11.2, Runtime API Version: 11.2\n",
            "W0118 12:42:45.591432  9266 gpu_resources.cc:91] device: 0, cuDNN Version: 8.1.\n",
            "[2023/01/18 12:42:47] ppocr INFO: load pretrain successful from /content/drive/MyDrive/output/v3_arabic_mobile/best_accuracy\n",
            "[2023/01/18 12:42:47] ppocr INFO: infer_img: /content/download.jpg\n",
            "W0118 12:42:47.043232  9266 gpu_resources.cc:217] WARNING: device: \u0000. The installed Paddle is compiled with CUDNN 8.2, but CUDNN version in your machine is 8.1, which may cause serious incompatible bug. Please recompile or reinstall Paddle with compatible CUDNN version.\n",
            "[2023/01/18 12:42:48] ppocr INFO: \t result: ندایم\t0.26813235878944397\n",
            "[2023/01/18 12:42:48] ppocr INFO: success!\n"
          ]
        }
      ]
    },
    {
      "cell_type": "markdown",
      "source": [
        "**Recommend:**\n",
        "\n",
        "Please change the (configuration) file for train or evaluation."
      ],
      "metadata": {
        "id": "ys3bLGAusZTR"
      }
    }
  ]
}