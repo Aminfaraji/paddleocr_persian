{
  "nbformat": 4,
  "nbformat_minor": 0,
  "metadata": {
    "colab": {
      "provenance": [],
      "include_colab_link": true
    },
    "kernelspec": {
      "name": "python3",
      "display_name": "Python 3"
    },
    "language_info": {
      "name": "python"
    },
    "accelerator": "GPU",
    "gpuClass": "standard"
  },
  "cells": [
    {
      "cell_type": "markdown",
      "metadata": {
        "id": "view-in-github",
        "colab_type": "text"
      },
      "source": [
        "<a href=\"https://colab.research.google.com/github/Aminfaraji/paddleocr_persian/blob/main/paddleocr.ipynb\" target=\"_parent\"><img src=\"https://colab.research.google.com/assets/colab-badge.svg\" alt=\"Open In Colab\"/></a>"
      ]
    },
    {
      "cell_type": "code",
      "source": [
        "from google.colab import drive\n",
        "drive.mount('/content/drive')"
      ],
      "metadata": {
        "colab": {
          "base_uri": "https://localhost:8080/"
        },
        "id": "nW3b-xUNJTHk",
        "outputId": "9cc5a75a-545b-4575-e8fe-4cd3202a8c75"
      },
      "execution_count": 1,
      "outputs": [
        {
          "output_type": "stream",
          "name": "stdout",
          "text": [
            "Mounted at /content/drive\n"
          ]
        }
      ]
    },
    {
      "cell_type": "markdown",
      "source": [
        "**Install Paddleocr compatible with the system (cuda11.2 & system linux)**\n",
        "\n",
        "\n",
        "**download pretrained model this link**\n",
        "\n",
        "https://drive.google.com/file/d/18wR7X2zDEdWBHBTPXSJT5S5L1_O7rmKh/view?usp=sharing"
      ],
      "metadata": {
        "id": "m4IY7c4lYYj1"
      }
    },
    {
      "cell_type": "code",
      "source": [
        "!python -m pip install paddlepaddle-gpu==2.4.1.post112 -f https://www.paddlepaddle.org.cn/whl/linux/mkl/avx/stable.html\n",
        "!git clone https://github.com/PaddlePaddle/PaddleOCR.git\n",
        "%cd /content/PaddleOCR\n",
        "!pip install -r requirements.txt\n",
        "!mkdir pretrained_model\n",
        "%cd pretrained_model/\n",
        "!unzip /content/drive/MyDrive/v3_arabic_mobile.zip\n",
        "!rm -rf arabic_PP-OCRv3_rec_train.tar"
      ],
      "metadata": {
        "id": "0ekJffhICFjJ"
      },
      "execution_count": null,
      "outputs": []
    },
    {
      "cell_type": "markdown",
      "source": [
        "**download dataset shotor from google drive**"
      ],
      "metadata": {
        "id": "5X05A_qQYzic"
      }
    },
    {
      "cell_type": "markdown",
      "source": [
        "https://drive.google.com/file/d/1kj8wQ45R63Gyp-Qv2mJaa1C4Y0u1JgEC/view?usp=sharing, https://drive.google.com/file/d/1zrZUJjeJgz0iAVeK8QmMZVAUdPDSpman/view?usp=sharing"
      ],
      "metadata": {
        "id": "HccG3p3gZEqD"
      }
    },
    {
      "cell_type": "code",
      "source": [
        "!mkdir /content/PaddleOCR/train_data\n",
        "!unzip /content/drive/MyDrive/en_train_filtered.zip -d /content/PaddleOCR/train_data\n",
        "!unzip /content/drive/MyDrive/en_val.zip -d /content/PaddleOCR/train_data"
      ],
      "metadata": {
        "id": "9ps0NaFfMsRJ"
      },
      "execution_count": null,
      "outputs": []
    },
    {
      "cell_type": "markdown",
      "source": [
        "**convert file .csv to .txt for train Paddleocr. (Paddleocr support of format .txt for train model)**\n",
        "\n",
        "**recommend download file .txt**\n",
        "https://drive.google.com/file/d/1-15OsG6mAxBgVXtjCE2bKVKk5Ry_Dcr3/view?usp=sharing,\n",
        "*****************************\n",
        "https://drive.google.com/file/d/1Q4FuTYAKjWtUgGBsAK0blYuSQm8Rme99/view?usp=sharing"
      ],
      "metadata": {
        "id": "IoYBQcNCombD"
      }
    },
    {
      "cell_type": "code",
      "source": [
        "!rm -rf /content/PaddleOCR/train_data/en_train_filtered/labels.csv\n",
        "!rm -rf /content/PaddleOCR/train_data/en_val/labels.csv\n",
        "!cp /content/drive/MyDrive/val.txt -r /content/PaddleOCR/train_data/\n",
        "!cp /content/drive/MyDrive/train.txt -r /content/PaddleOCR/train_data/"
      ],
      "metadata": {
        "id": "58b2CMdONVT7"
      },
      "execution_count": null,
      "outputs": []
    },
    {
      "cell_type": "code",
      "source": [
        "# # Read in the file\n",
        "# with open('/content/drive/MyDrive/val.txt', 'r') as file :\n",
        "#   filedata = file.read()\n",
        "\n",
        "# # Replace the target string\n",
        "# filedata = filedata.replace('.jpg', '.tif')\n",
        "\n",
        "# # Write the file out again\n",
        "# with open('/content/drive/MyDrive/val.txt', 'w') as file:\n",
        "#   file.write(filedata)\n",
        "\n",
        "# # Read in the file\n",
        "# with open('/content/drive/MyDrive/train.txt', 'r') as file :\n",
        "#   filedata = file.read()\n",
        "\n",
        "# # Replace the target string\n",
        "# filedata = filedata.replace('.jpg', '.tif')\n",
        "\n",
        "# # Write the file out again\n",
        "# with open('/content/drive/MyDrive/train.txt', 'w') as file:\n",
        "#   file.write(filedata)"
      ],
      "metadata": {
        "id": "yhVhN_y0hPoV"
      },
      "execution_count": 13,
      "outputs": []
    },
    {
      "cell_type": "code",
      "source": [
        "import cv2 \n",
        "import os \n",
        "#from imutils import perspective\n",
        "import numpy as np \n",
        "import json\n",
        "from tqdm import tqdm\n",
        "import matplotlib.pyplot as plt\n",
        "from imutils import perspective"
      ],
      "metadata": {
        "id": "28Uv89JZXX0M"
      },
      "execution_count": null,
      "outputs": []
    },
    {
      "cell_type": "markdown",
      "source": [
        "**continue trained model**"
      ],
      "metadata": {
        "id": "0YX-zgVtqzjj"
      }
    },
    {
      "cell_type": "code",
      "source": [
        "!python3 tools/train.py -c /content/drive/MyDrive/output/v3_arabic_mobile/config.yml -o Global.checkpoints=/content/drive/MyDrive/output/v3_arabic_mobile/latest"
      ],
      "metadata": {
        "id": "hf8aeJo1h3cx"
      },
      "execution_count": null,
      "outputs": []
    },
    {
      "cell_type": "markdown",
      "source": [
        "**evaluate dataset shotor**"
      ],
      "metadata": {
        "id": "AoguAI3cfuPG"
      }
    },
    {
      "cell_type": "code",
      "source": [
        "!python3 -m paddle.distributed.launch --gpus '0' tools/eval.py -c /content/PaddleOCR/pretrained_model/v3_arabic_mobile/config.yml -o Global.checkpoints=/content/PaddleOCR/pretrained_model/arabic_PP-OCRv3_rec_train/best_accuracy"
      ],
      "metadata": {
        "id": "sikHwucwlXmY"
      },
      "execution_count": null,
      "outputs": []
    },
    {
      "cell_type": "markdown",
      "source": [
        "**test image uploaded on content**"
      ],
      "metadata": {
        "id": "4Cx74RRBr4Aq"
      }
    },
    {
      "cell_type": "code",
      "source": [
        "!python3 tools/infer_rec.py -c /content/PaddleOCR/pretrained_model/v3_arabic_mobile/config.yml -o Global.pretrained_model=/content/PaddleOCR/pretrained_model/v3_arabic_mobile/best_accuracy  Global.infer_img=/content/12.jpg"
      ],
      "metadata": {
        "id": "QAChPPnnR1y0"
      },
      "execution_count": null,
      "outputs": []
    },
    {
      "cell_type": "markdown",
      "source": [
        "**Recommend:**\n",
        "\n",
        "Please change the (configuration) file for train or evaluation."
      ],
      "metadata": {
        "id": "ys3bLGAusZTR"
      }
    }
  ]
}