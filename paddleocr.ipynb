{
  "nbformat": 4,
  "nbformat_minor": 0,
  "metadata": {
    "colab": {
      "provenance": [],
      "include_colab_link": true
    },
    "kernelspec": {
      "name": "python3",
      "display_name": "Python 3"
    },
    "language_info": {
      "name": "python"
    },
    "accelerator": "GPU",
    "gpuClass": "standard"
  },
  "cells": [
    {
      "cell_type": "markdown",
      "metadata": {
        "id": "view-in-github",
        "colab_type": "text"
      },
      "source": [
        "<a href=\"https://colab.research.google.com/github/Aminfaraji/paddleocr_persian/blob/main/paddleocr.ipynb\" target=\"_parent\"><img src=\"https://colab.research.google.com/assets/colab-badge.svg\" alt=\"Open In Colab\"/></a>"
      ]
    },
    {
      "cell_type": "code",
      "source": [
        "from google.colab import drive\n",
        "drive.mount('/content/drive')"
      ],
      "metadata": {
        "colab": {
          "base_uri": "https://localhost:8080/"
        },
        "id": "nW3b-xUNJTHk",
        "outputId": "9cc5a75a-545b-4575-e8fe-4cd3202a8c75"
      },
      "execution_count": 1,
      "outputs": [
        {
          "output_type": "stream",
          "name": "stdout",
          "text": [
            "Mounted at /content/drive\n"
          ]
        }
      ]
    },
    {
      "cell_type": "markdown",
      "source": [
        "**Install Paddleocr compatible with the system (cuda11.2 & system linux)**"
      ],
      "metadata": {
        "id": "m4IY7c4lYYj1"
      }
    },
    {
      "cell_type": "code",
      "source": [
        "!python -m pip install paddlepaddle-gpu==2.4.1.post112 -f https://www.paddlepaddle.org.cn/whl/linux/mkl/avx/stable.html\n",
        "!git clone https://github.com/PaddlePaddle/PaddleOCR.git\n",
        "%cd /content/PaddleOCR\n",
        "!pip install -r requirements.txt\n",
        "!mkdir pretrained_model\n",
        "%cd pretrained_model/\n",
        "!unzip /content/drive/MyDrive/v3_arabic_mobile.zip\n",
        "!rm -rf arabic_PP-OCRv3_rec_train.tar"
      ],
      "metadata": {
        "id": "0ekJffhICFjJ"
      },
      "execution_count": null,
      "outputs": []
    },
    {
      "cell_type": "markdown",
      "source": [
        "**download dataset shotor from google drive**"
      ],
      "metadata": {
        "id": "5X05A_qQYzic"
      }
    },
    {
      "cell_type": "markdown",
      "source": [
        "https://drive.google.com/file/d/1kj8wQ45R63Gyp-Qv2mJaa1C4Y0u1JgEC/view?usp=sharing, https://drive.google.com/file/d/1zrZUJjeJgz0iAVeK8QmMZVAUdPDSpman/view?usp=sharing"
      ],
      "metadata": {
        "id": "HccG3p3gZEqD"
      }
    },
    {
      "cell_type": "code",
      "source": [
        "!mkdir /content/PaddleOCR/train_data\n",
        "!unzip /content/drive/MyDrive/en_train_filtered.zip -d /content/PaddleOCR/train_data\n",
        "!unzip /content/drive/MyDrive/en_val.zip -d /content/PaddleOCR/train_data"
      ],
      "metadata": {
        "id": "9ps0NaFfMsRJ"
      },
      "execution_count": null,
      "outputs": []
    },
    {
      "cell_type": "markdown",
      "source": [
        "**convert file .csv to .txt for train Paddleocr. (Paddleocr support of format .txt for train model)**\n",
        "\n",
        "**recommend download file .txt**\n",
        "https://drive.google.com/file/d/1-15OsG6mAxBgVXtjCE2bKVKk5Ry_Dcr3/view?usp=sharing,\n",
        "*****************************\n",
        "https://drive.google.com/file/d/1Q4FuTYAKjWtUgGBsAK0blYuSQm8Rme99/view?usp=sharing"
      ],
      "metadata": {
        "id": "IoYBQcNCombD"
      }
    },
    {
      "cell_type": "code",
      "source": [
        "!rm -rf /content/PaddleOCR/train_data/en_train_filtered/labels.csv\n",
        "!rm -rf /content/PaddleOCR/train_data/en_val/labels.csv\n",
        "!cp /content/drive/MyDrive/val.txt -r /content/PaddleOCR/train_data/\n",
        "!cp /content/drive/MyDrive/train.txt -r /content/PaddleOCR/train_data/"
      ],
      "metadata": {
        "id": "58b2CMdONVT7"
      },
      "execution_count": null,
      "outputs": []
    },
    {
      "cell_type": "code",
      "source": [
        "# # Read in the file\n",
        "# with open('/content/drive/MyDrive/val.txt', 'r') as file :\n",
        "#   filedata = file.read()\n",
        "\n",
        "# # Replace the target string\n",
        "# filedata = filedata.replace('.jpg', '.tif')\n",
        "\n",
        "# # Write the file out again\n",
        "# with open('/content/drive/MyDrive/val.txt', 'w') as file:\n",
        "#   file.write(filedata)\n",
        "\n",
        "# # Read in the file\n",
        "# with open('/content/drive/MyDrive/train.txt', 'r') as file :\n",
        "#   filedata = file.read()\n",
        "\n",
        "# # Replace the target string\n",
        "# filedata = filedata.replace('.jpg', '.tif')\n",
        "\n",
        "# # Write the file out again\n",
        "# with open('/content/drive/MyDrive/train.txt', 'w') as file:\n",
        "#   file.write(filedata)"
      ],
      "metadata": {
        "id": "yhVhN_y0hPoV"
      },
      "execution_count": 13,
      "outputs": []
    },
    {
      "cell_type": "code",
      "source": [
        "import cv2 \n",
        "import os \n",
        "#from imutils import perspective\n",
        "import numpy as np \n",
        "import json\n",
        "from tqdm import tqdm\n",
        "import matplotlib.pyplot as plt\n",
        "from imutils import perspective"
      ],
      "metadata": {
        "id": "28Uv89JZXX0M"
      },
      "execution_count": null,
      "outputs": []
    },
    {
      "cell_type": "markdown",
      "source": [
        "**continue train**"
      ],
      "metadata": {
        "id": "0YX-zgVtqzjj"
      }
    },
    {
      "cell_type": "code",
      "source": [
        "!python3 tools/train.py -c /content/drive/MyDrive/output/v3_arabic_mobile/config.yml -o Global.checkpoints=/content/drive/MyDrive/output/v3_arabic_mobile/latest"
      ],
      "metadata": {
        "id": "hf8aeJo1h3cx"
      },
      "execution_count": null,
      "outputs": []
    },
    {
      "cell_type": "markdown",
      "source": [
        "**evaluate dataset shotor**"
      ],
      "metadata": {
        "id": "AoguAI3cfuPG"
      }
    },
    {
      "cell_type": "code",
      "source": [
        "!python3 -m paddle.distributed.launch --gpus '0' tools/eval.py -c /content/PaddleOCR/pretrained_model/v3_arabic_mobile/config.yml -o Global.checkpoints=/content/PaddleOCR/pretrained_model/arabic_PP-OCRv3_rec_train/best_accuracy"
      ],
      "metadata": {
        "colab": {
          "base_uri": "https://localhost:8080/"
        },
        "id": "sikHwucwlXmY",
        "outputId": "aee3af2d-6c50-44ea-97d6-730bdb5f5da7"
      },
      "execution_count": null,
      "outputs": [
        {
          "output_type": "stream",
          "name": "stdout",
          "text": [
            "LAUNCH INFO 2022-12-25 11:27:15,639 -----------  Configuration  ----------------------\n",
            "LAUNCH INFO 2022-12-25 11:27:15,639 devices: 0\n",
            "LAUNCH INFO 2022-12-25 11:27:15,639 elastic_level: -1\n",
            "LAUNCH INFO 2022-12-25 11:27:15,639 elastic_timeout: 30\n",
            "LAUNCH INFO 2022-12-25 11:27:15,639 gloo_port: 6767\n",
            "LAUNCH INFO 2022-12-25 11:27:15,639 host: None\n",
            "LAUNCH INFO 2022-12-25 11:27:15,639 ips: None\n",
            "LAUNCH INFO 2022-12-25 11:27:15,639 job_id: default\n",
            "LAUNCH INFO 2022-12-25 11:27:15,639 legacy: False\n",
            "LAUNCH INFO 2022-12-25 11:27:15,639 log_dir: log\n",
            "LAUNCH INFO 2022-12-25 11:27:15,639 log_level: INFO\n",
            "LAUNCH INFO 2022-12-25 11:27:15,639 master: None\n",
            "LAUNCH INFO 2022-12-25 11:27:15,639 max_restart: 3\n",
            "LAUNCH INFO 2022-12-25 11:27:15,639 nnodes: 1\n",
            "LAUNCH INFO 2022-12-25 11:27:15,639 nproc_per_node: None\n",
            "LAUNCH INFO 2022-12-25 11:27:15,639 rank: -1\n",
            "LAUNCH INFO 2022-12-25 11:27:15,639 run_mode: collective\n",
            "LAUNCH INFO 2022-12-25 11:27:15,639 server_num: None\n",
            "LAUNCH INFO 2022-12-25 11:27:15,640 servers: \n",
            "LAUNCH INFO 2022-12-25 11:27:15,640 start_port: 6070\n",
            "LAUNCH INFO 2022-12-25 11:27:15,640 trainer_num: None\n",
            "LAUNCH INFO 2022-12-25 11:27:15,640 trainers: \n",
            "LAUNCH INFO 2022-12-25 11:27:15,640 training_script: tools/eval.py\n",
            "LAUNCH INFO 2022-12-25 11:27:15,640 training_script_args: ['-c', '/content/PaddleOCR/pretrained_model/arabic_PP-OCRv3_rec_train/config.yml', '-o', 'Global.checkpoints=/content/PaddleOCR/pretrained_model/arabic_PP-OCRv3_rec_train/best_accuracy']\n",
            "LAUNCH INFO 2022-12-25 11:27:15,640 with_gloo: 1\n",
            "LAUNCH INFO 2022-12-25 11:27:15,640 --------------------------------------------------\n",
            "LAUNCH INFO 2022-12-25 11:27:15,640 Job: default, mode collective, replicas 1[1:1], elastic False\n",
            "LAUNCH INFO 2022-12-25 11:27:15,646 Run Pod: llwikp, replicas 1, status ready\n",
            "LAUNCH INFO 2022-12-25 11:27:15,656 Watching Pod: llwikp, replicas 1, status running\n",
            "[2022/12/25 11:27:17] ppocr INFO: Architecture : \n",
            "[2022/12/25 11:27:17] ppocr INFO:     Backbone : \n",
            "[2022/12/25 11:27:17] ppocr INFO:         last_conv_stride : [1, 2]\n",
            "[2022/12/25 11:27:17] ppocr INFO:         last_pool_type : avg\n",
            "[2022/12/25 11:27:17] ppocr INFO:         name : MobileNetV1Enhance\n",
            "[2022/12/25 11:27:17] ppocr INFO:         scale : 0.5\n",
            "[2022/12/25 11:27:17] ppocr INFO:     Head : \n",
            "[2022/12/25 11:27:17] ppocr INFO:         head_list : \n",
            "[2022/12/25 11:27:17] ppocr INFO:             CTCHead : \n",
            "[2022/12/25 11:27:17] ppocr INFO:                 Head : \n",
            "[2022/12/25 11:27:17] ppocr INFO:                     fc_decay : 1e-05\n",
            "[2022/12/25 11:27:17] ppocr INFO:                 Neck : \n",
            "[2022/12/25 11:27:17] ppocr INFO:                     depth : 2\n",
            "[2022/12/25 11:27:17] ppocr INFO:                     dims : 64\n",
            "[2022/12/25 11:27:17] ppocr INFO:                     hidden_dims : 120\n",
            "[2022/12/25 11:27:17] ppocr INFO:                     name : svtr\n",
            "[2022/12/25 11:27:17] ppocr INFO:                     use_guide : True\n",
            "[2022/12/25 11:27:17] ppocr INFO:             SARHead : \n",
            "[2022/12/25 11:27:17] ppocr INFO:                 enc_dim : 512\n",
            "[2022/12/25 11:27:17] ppocr INFO:                 max_text_length : 25\n",
            "[2022/12/25 11:27:17] ppocr INFO:         name : MultiHead\n",
            "[2022/12/25 11:27:17] ppocr INFO:     Transform : None\n",
            "[2022/12/25 11:27:17] ppocr INFO:     algorithm : SVTR\n",
            "[2022/12/25 11:27:17] ppocr INFO:     model_type : rec\n",
            "[2022/12/25 11:27:17] ppocr INFO: Eval : \n",
            "[2022/12/25 11:27:17] ppocr INFO:     dataset : \n",
            "[2022/12/25 11:27:17] ppocr INFO:         data_dir : ./train_data/en_val\n",
            "[2022/12/25 11:27:17] ppocr INFO:         label_file_list : ['./train_data/val.txt']\n",
            "[2022/12/25 11:27:17] ppocr INFO:         name : SimpleDataSet\n",
            "[2022/12/25 11:27:17] ppocr INFO:         transforms : \n",
            "[2022/12/25 11:27:17] ppocr INFO:             DecodeImage : \n",
            "[2022/12/25 11:27:17] ppocr INFO:                 channel_first : False\n",
            "[2022/12/25 11:27:17] ppocr INFO:                 img_mode : BGR\n",
            "[2022/12/25 11:27:17] ppocr INFO:             MultiLabelEncode : None\n",
            "[2022/12/25 11:27:17] ppocr INFO:             RecResizeImg : \n",
            "[2022/12/25 11:27:17] ppocr INFO:                 image_shape : [3, 48, 320]\n",
            "[2022/12/25 11:27:17] ppocr INFO:             KeepKeys : \n",
            "[2022/12/25 11:27:17] ppocr INFO:                 keep_keys : ['image', 'label_ctc', 'label_sar', 'length', 'valid_ratio']\n",
            "[2022/12/25 11:27:17] ppocr INFO:     loader : \n",
            "[2022/12/25 11:27:17] ppocr INFO:         batch_size_per_card : 128\n",
            "[2022/12/25 11:27:17] ppocr INFO:         drop_last : False\n",
            "[2022/12/25 11:27:17] ppocr INFO:         num_workers : 4\n",
            "[2022/12/25 11:27:17] ppocr INFO:         shuffle : False\n",
            "[2022/12/25 11:27:17] ppocr INFO: Global : \n",
            "[2022/12/25 11:27:17] ppocr INFO:     cal_metric_during_train : True\n",
            "[2022/12/25 11:27:17] ppocr INFO:     character_dict_path : ppocr/utils/dict/arabic_dict.txt\n",
            "[2022/12/25 11:27:17] ppocr INFO:     checkpoints : /content/PaddleOCR/pretrained_model/arabic_PP-OCRv3_rec_train/best_accuracy\n",
            "[2022/12/25 11:27:17] ppocr INFO:     debug : False\n",
            "[2022/12/25 11:27:17] ppocr INFO:     distributed : False\n",
            "[2022/12/25 11:27:17] ppocr INFO:     epoch_num : 500\n",
            "[2022/12/25 11:27:17] ppocr INFO:     eval_batch_step : [0, 2000]\n",
            "[2022/12/25 11:27:17] ppocr INFO:     infer_img : ./doc/imgs_words/arabic/ar_2.jpg\n",
            "[2022/12/25 11:27:17] ppocr INFO:     infer_mode : False\n",
            "[2022/12/25 11:27:17] ppocr INFO:     log_smooth_window : 20\n",
            "[2022/12/25 11:27:17] ppocr INFO:     max_text_length : 25\n",
            "[2022/12/25 11:27:17] ppocr INFO:     pretrained_model : None\n",
            "[2022/12/25 11:27:17] ppocr INFO:     print_batch_step : 10\n",
            "[2022/12/25 11:27:17] ppocr INFO:     save_epoch_step : 3\n",
            "[2022/12/25 11:27:17] ppocr INFO:     save_inference_dir : None\n",
            "[2022/12/25 11:27:17] ppocr INFO:     save_model_dir : ./output/v3_arabic_mobile\n",
            "[2022/12/25 11:27:17] ppocr INFO:     save_res_path : ./output/rec/predicts_ppocrv3_arabic.txt\n",
            "[2022/12/25 11:27:17] ppocr INFO:     use_gpu : True\n",
            "[2022/12/25 11:27:17] ppocr INFO:     use_space_char : True\n",
            "[2022/12/25 11:27:17] ppocr INFO:     use_visualdl : False\n",
            "[2022/12/25 11:27:17] ppocr INFO: Loss : \n",
            "[2022/12/25 11:27:17] ppocr INFO:     loss_config_list : \n",
            "[2022/12/25 11:27:17] ppocr INFO:         CTCLoss : None\n",
            "[2022/12/25 11:27:17] ppocr INFO:         SARLoss : None\n",
            "[2022/12/25 11:27:17] ppocr INFO:     name : MultiLoss\n",
            "[2022/12/25 11:27:17] ppocr INFO: Metric : \n",
            "[2022/12/25 11:27:17] ppocr INFO:     ignore_space : False\n",
            "[2022/12/25 11:27:17] ppocr INFO:     main_indicator : acc\n",
            "[2022/12/25 11:27:17] ppocr INFO:     name : RecMetric\n",
            "[2022/12/25 11:27:17] ppocr INFO: Optimizer : \n",
            "[2022/12/25 11:27:17] ppocr INFO:     beta1 : 0.9\n",
            "[2022/12/25 11:27:17] ppocr INFO:     beta2 : 0.999\n",
            "[2022/12/25 11:27:17] ppocr INFO:     lr : \n",
            "[2022/12/25 11:27:17] ppocr INFO:         learning_rate : 0.001\n",
            "[2022/12/25 11:27:17] ppocr INFO:         name : Cosine\n",
            "[2022/12/25 11:27:17] ppocr INFO:         warmup_epoch : 5\n",
            "[2022/12/25 11:27:17] ppocr INFO:     name : Adam\n",
            "[2022/12/25 11:27:17] ppocr INFO:     regularizer : \n",
            "[2022/12/25 11:27:17] ppocr INFO:         factor : 3e-05\n",
            "[2022/12/25 11:27:17] ppocr INFO:         name : L2\n",
            "[2022/12/25 11:27:17] ppocr INFO: PostProcess : \n",
            "[2022/12/25 11:27:17] ppocr INFO:     name : CTCLabelDecode\n",
            "[2022/12/25 11:27:17] ppocr INFO: Train : \n",
            "[2022/12/25 11:27:17] ppocr INFO:     dataset : \n",
            "[2022/12/25 11:27:17] ppocr INFO:         data_dir : ./train_data/en_train_filtered\n",
            "[2022/12/25 11:27:17] ppocr INFO:         ext_op_transform_idx : 1\n",
            "[2022/12/25 11:27:17] ppocr INFO:         label_file_list : ['./train_data/train.txt']\n",
            "[2022/12/25 11:27:17] ppocr INFO:         name : SimpleDataSet\n",
            "[2022/12/25 11:27:17] ppocr INFO:         transforms : \n",
            "[2022/12/25 11:27:17] ppocr INFO:             DecodeImage : \n",
            "[2022/12/25 11:27:17] ppocr INFO:                 channel_first : False\n",
            "[2022/12/25 11:27:17] ppocr INFO:                 img_mode : BGR\n",
            "[2022/12/25 11:27:17] ppocr INFO:             RecConAug : \n",
            "[2022/12/25 11:27:17] ppocr INFO:                 ext_data_num : 2\n",
            "[2022/12/25 11:27:17] ppocr INFO:                 image_shape : [48, 320, 3]\n",
            "[2022/12/25 11:27:17] ppocr INFO:                 prob : 0.5\n",
            "[2022/12/25 11:27:17] ppocr INFO:             RecAug : None\n",
            "[2022/12/25 11:27:17] ppocr INFO:             MultiLabelEncode : None\n",
            "[2022/12/25 11:27:17] ppocr INFO:             RecResizeImg : \n",
            "[2022/12/25 11:27:17] ppocr INFO:                 image_shape : [3, 48, 320]\n",
            "[2022/12/25 11:27:17] ppocr INFO:             KeepKeys : \n",
            "[2022/12/25 11:27:17] ppocr INFO:                 keep_keys : ['image', 'label_ctc', 'label_sar', 'length', 'valid_ratio']\n",
            "[2022/12/25 11:27:17] ppocr INFO:     loader : \n",
            "[2022/12/25 11:27:17] ppocr INFO:         batch_size_per_card : 128\n",
            "[2022/12/25 11:27:17] ppocr INFO:         drop_last : True\n",
            "[2022/12/25 11:27:17] ppocr INFO:         num_workers : 4\n",
            "[2022/12/25 11:27:17] ppocr INFO:         shuffle : True\n",
            "[2022/12/25 11:27:17] ppocr INFO: profiler_options : None\n",
            "[2022/12/25 11:27:17] ppocr INFO: train with paddle 2.4.1 and device Place(gpu:0)\n",
            "[2022/12/25 11:27:17] ppocr INFO: Initialize indexs of datasets:['./train_data/val.txt']\n",
            "W1225 11:27:17.644176  6282 gpu_resources.cc:61] Please NOTE: device: 0, GPU Compute Capability: 7.5, Driver API Version: 11.2, Runtime API Version: 11.2\n",
            "W1225 11:27:17.706316  6282 gpu_resources.cc:91] device: 0, cuDNN Version: 8.1.\n",
            "[2022/12/25 11:27:19] ppocr INFO: resume from /content/PaddleOCR/pretrained_model/arabic_PP-OCRv3_rec_train/best_accuracy\n",
            "[2022/12/25 11:27:19] ppocr INFO: metric in ckpt ***************\n",
            "[2022/12/25 11:27:19] ppocr INFO: acc:0.7291242288276555\n",
            "[2022/12/25 11:27:19] ppocr INFO: norm_edit_dis:0.8958143049964393\n",
            "[2022/12/25 11:27:19] ppocr INFO: fps:1097.6956444567631\n",
            "[2022/12/25 11:27:19] ppocr INFO: best_epoch:97\n",
            "[2022/12/25 11:27:19] ppocr INFO: start_epoch:98\n",
            "[2022/12/25 11:27:19] ppocr INFO: is_float16:False\n",
            "\n",
            "eval model::   0%|          | 0/71 [00:00<?, ?it/s]W1225 11:27:20.328950  6282 gpu_resources.cc:217] WARNING: device: \u0000. The installed Paddle is compiled with CUDNN 8.2, but CUDNN version in your machine is 8.1, which may cause serious incompatible bug. Please recompile or reinstall Paddle with compatible CUDNN version.\n",
            "\n",
            "eval model::   1%|▏         | 1/71 [00:06<08:07,  6.97s/it]\n",
            "eval model::   3%|▎         | 2/71 [00:07<03:26,  3.00s/it]\n",
            "eval model::   4%|▍         | 3/71 [00:07<01:55,  1.69s/it]\n",
            "eval model::   6%|▌         | 4/71 [00:07<01:12,  1.08s/it]\n",
            "eval model::   7%|▋         | 5/71 [00:07<00:49,  1.35it/s]\n",
            "eval model::   8%|▊         | 6/71 [00:07<00:35,  1.86it/s]\n",
            "eval model::  10%|▉         | 7/71 [00:07<00:26,  2.42it/s]\n",
            "eval model::  11%|█▏        | 8/71 [00:08<00:20,  3.05it/s]\n",
            "eval model::  13%|█▎        | 9/71 [00:08<00:16,  3.71it/s]\n",
            "eval model::  14%|█▍        | 10/71 [00:08<00:14,  4.30it/s]\n",
            "eval model::  15%|█▌        | 11/71 [00:08<00:12,  4.81it/s]\n",
            "eval model::  17%|█▋        | 12/71 [00:08<00:11,  5.34it/s]\n",
            "eval model::  18%|█▊        | 13/71 [00:08<00:10,  5.43it/s]\n",
            "eval model::  20%|█▉        | 14/71 [00:08<00:09,  5.76it/s]\n",
            "eval model::  21%|██        | 15/71 [00:09<00:09,  6.04it/s]\n",
            "eval model::  23%|██▎       | 16/71 [00:09<00:08,  6.31it/s]\n",
            "eval model::  24%|██▍       | 17/71 [00:09<00:08,  6.50it/s]\n",
            "eval model::  25%|██▌       | 18/71 [00:09<00:08,  6.61it/s]\n",
            "eval model::  27%|██▋       | 19/71 [00:09<00:07,  6.60it/s]\n",
            "eval model::  28%|██▊       | 20/71 [00:09<00:07,  6.62it/s]\n",
            "eval model::  30%|██▉       | 21/71 [00:09<00:07,  6.74it/s]\n",
            "eval model::  31%|███       | 22/71 [00:10<00:07,  6.71it/s]\n",
            "eval model::  32%|███▏      | 23/71 [00:10<00:07,  6.81it/s]\n",
            "eval model::  34%|███▍      | 24/71 [00:10<00:06,  6.77it/s]\n",
            "eval model::  35%|███▌      | 25/71 [00:10<00:06,  6.82it/s]\n",
            "eval model::  37%|███▋      | 26/71 [00:10<00:06,  6.73it/s]\n",
            "eval model::  38%|███▊      | 27/71 [00:10<00:06,  6.81it/s]\n",
            "eval model::  39%|███▉      | 28/71 [00:11<00:06,  6.87it/s]\n",
            "eval model::  41%|████      | 29/71 [00:11<00:06,  6.92it/s]\n",
            "eval model::  42%|████▏     | 30/71 [00:11<00:06,  6.82it/s]\n",
            "eval model::  44%|████▎     | 31/71 [00:11<00:05,  6.76it/s]\n",
            "eval model::  45%|████▌     | 32/71 [00:11<00:05,  6.70it/s]\n",
            "eval model::  46%|████▋     | 33/71 [00:11<00:05,  6.69it/s]\n",
            "eval model::  48%|████▊     | 34/71 [00:11<00:05,  6.77it/s]\n",
            "eval model::  49%|████▉     | 35/71 [00:12<00:05,  6.69it/s]\n",
            "eval model::  51%|█████     | 36/71 [00:12<00:05,  6.78it/s]\n",
            "eval model::  52%|█████▏    | 37/71 [00:12<00:04,  6.85it/s]\n",
            "eval model::  54%|█████▎    | 38/71 [00:12<00:04,  6.77it/s]\n",
            "eval model::  55%|█████▍    | 39/71 [00:12<00:04,  6.85it/s]\n",
            "eval model::  56%|█████▋    | 40/71 [00:12<00:04,  6.77it/s]\n",
            "eval model::  58%|█████▊    | 41/71 [00:12<00:04,  6.71it/s]\n",
            "eval model::  59%|█████▉    | 42/71 [00:13<00:04,  6.80it/s]\n",
            "eval model::  61%|██████    | 43/71 [00:13<00:04,  6.70it/s]\n",
            "eval model::  62%|██████▏   | 44/71 [00:13<00:03,  6.77it/s]\n",
            "eval model::  63%|██████▎   | 45/71 [00:13<00:03,  6.81it/s]\n",
            "eval model::  65%|██████▍   | 46/71 [00:13<00:03,  6.68it/s]\n",
            "eval model::  66%|██████▌   | 47/71 [00:13<00:03,  6.67it/s]\n",
            "eval model::  68%|██████▊   | 48/71 [00:13<00:03,  6.77it/s]\n",
            "eval model::  69%|██████▉   | 49/71 [00:14<00:03,  6.85it/s]\n",
            "eval model::  70%|███████   | 50/71 [00:14<00:03,  6.90it/s]\n",
            "eval model::  72%|███████▏  | 51/71 [00:14<00:02,  6.78it/s]\n",
            "eval model::  73%|███████▎  | 52/71 [00:14<00:02,  6.72it/s]\n",
            "eval model::  75%|███████▍  | 53/71 [00:14<00:02,  6.82it/s]\n",
            "eval model::  76%|███████▌  | 54/71 [00:14<00:02,  6.74it/s]\n",
            "eval model::  77%|███████▋  | 55/71 [00:15<00:02,  6.81it/s]\n",
            "eval model::  79%|███████▉  | 56/71 [00:15<00:02,  6.76it/s]\n",
            "eval model::  80%|████████  | 57/71 [00:15<00:02,  6.83it/s]\n",
            "eval model::  82%|████████▏ | 58/71 [00:15<00:01,  6.71it/s]\n",
            "eval model::  83%|████████▎ | 59/71 [00:15<00:01,  6.77it/s]\n",
            "eval model::  85%|████████▍ | 60/71 [00:15<00:01,  6.83it/s]\n",
            "eval model::  86%|████████▌ | 61/71 [00:15<00:01,  6.85it/s]\n",
            "eval model::  87%|████████▋ | 62/71 [00:16<00:01,  6.79it/s]\n",
            "eval model::  89%|████████▊ | 63/71 [00:16<00:01,  6.82it/s]\n",
            "eval model::  90%|█████████ | 64/71 [00:16<00:01,  6.89it/s]\n",
            "eval model::  92%|█████████▏| 65/71 [00:16<00:00,  6.93it/s]\n",
            "eval model::  93%|█████████▎| 66/71 [00:16<00:00,  6.97it/s]\n",
            "eval model::  94%|█████████▍| 67/71 [00:16<00:00,  6.95it/s]\n",
            "eval model::  96%|█████████▌| 68/71 [00:16<00:00,  6.98it/s]\n",
            "eval model::  97%|█████████▋| 69/71 [00:17<00:00,  7.00it/s]\n",
            "eval model::  99%|█████████▊| 70/71 [00:17<00:00,  6.92it/s]\n",
            "eval model:: 100%|██████████| 71/71 [00:17<00:00,  4.10it/s]\n",
            "[2022/12/25 11:27:36] ppocr INFO: metric eval ***************\n",
            "[2022/12/25 11:27:36] ppocr INFO: acc:0.0007778642062697364\n",
            "[2022/12/25 11:27:36] ppocr INFO: norm_edit_dis:0.1527240530127243\n",
            "[2022/12/25 11:27:36] ppocr INFO: fps:569.9612087347114\n",
            "LAUNCH INFO 2022-12-25 11:27:38,680 Pod completed\n",
            "LAUNCH INFO 2022-12-25 11:27:38,680 Exit code 0\n"
          ]
        }
      ]
    },
    {
      "cell_type": "markdown",
      "source": [
        "**test image uploaded on content**"
      ],
      "metadata": {
        "id": "4Cx74RRBr4Aq"
      }
    },
    {
      "cell_type": "code",
      "source": [
        "!python3 tools/infer_rec.py -c /content/PaddleOCR/pretrained_model/v3_arabic_mobile/config.yml -o Global.pretrained_model=/content/PaddleOCR/pretrained_model/v3_arabic_mobile/best_accuracy  Global.infer_img=/content/12.jpg"
      ],
      "metadata": {
        "colab": {
          "base_uri": "https://localhost:8080/"
        },
        "id": "QAChPPnnR1y0",
        "outputId": "86a31e34-ae14-4a6e-ea5a-7bd30ce67899"
      },
      "execution_count": null,
      "outputs": [
        {
          "output_type": "stream",
          "name": "stdout",
          "text": [
            "[2022/12/24 16:02:00] ppocr INFO: Architecture : \n",
            "[2022/12/24 16:02:00] ppocr INFO:     Backbone : \n",
            "[2022/12/24 16:02:00] ppocr INFO:         last_conv_stride : [1, 2]\n",
            "[2022/12/24 16:02:00] ppocr INFO:         last_pool_type : avg\n",
            "[2022/12/24 16:02:00] ppocr INFO:         name : MobileNetV1Enhance\n",
            "[2022/12/24 16:02:00] ppocr INFO:         scale : 0.5\n",
            "[2022/12/24 16:02:00] ppocr INFO:     Head : \n",
            "[2022/12/24 16:02:00] ppocr INFO:         head_list : \n",
            "[2022/12/24 16:02:00] ppocr INFO:             CTCHead : \n",
            "[2022/12/24 16:02:00] ppocr INFO:                 Head : \n",
            "[2022/12/24 16:02:00] ppocr INFO:                     fc_decay : 1e-05\n",
            "[2022/12/24 16:02:00] ppocr INFO:                 Neck : \n",
            "[2022/12/24 16:02:00] ppocr INFO:                     depth : 2\n",
            "[2022/12/24 16:02:00] ppocr INFO:                     dims : 64\n",
            "[2022/12/24 16:02:00] ppocr INFO:                     hidden_dims : 120\n",
            "[2022/12/24 16:02:00] ppocr INFO:                     name : svtr\n",
            "[2022/12/24 16:02:00] ppocr INFO:                     use_guide : True\n",
            "[2022/12/24 16:02:00] ppocr INFO:             SARHead : \n",
            "[2022/12/24 16:02:00] ppocr INFO:                 enc_dim : 512\n",
            "[2022/12/24 16:02:00] ppocr INFO:                 max_text_length : 25\n",
            "[2022/12/24 16:02:00] ppocr INFO:         name : MultiHead\n",
            "[2022/12/24 16:02:00] ppocr INFO:     Transform : None\n",
            "[2022/12/24 16:02:00] ppocr INFO:     algorithm : SVTR\n",
            "[2022/12/24 16:02:00] ppocr INFO:     model_type : rec\n",
            "[2022/12/24 16:02:00] ppocr INFO: Eval : \n",
            "[2022/12/24 16:02:00] ppocr INFO:     dataset : \n",
            "[2022/12/24 16:02:00] ppocr INFO:         data_dir : ./train_data/en_val\n",
            "[2022/12/24 16:02:00] ppocr INFO:         label_file_list : ['./train_data/val.txt']\n",
            "[2022/12/24 16:02:00] ppocr INFO:         name : SimpleDataSet\n",
            "[2022/12/24 16:02:00] ppocr INFO:         transforms : \n",
            "[2022/12/24 16:02:00] ppocr INFO:             DecodeImage : \n",
            "[2022/12/24 16:02:00] ppocr INFO:                 channel_first : False\n",
            "[2022/12/24 16:02:00] ppocr INFO:                 img_mode : BGR\n",
            "[2022/12/24 16:02:00] ppocr INFO:             MultiLabelEncode : None\n",
            "[2022/12/24 16:02:00] ppocr INFO:             RecResizeImg : \n",
            "[2022/12/24 16:02:00] ppocr INFO:                 image_shape : [3, 48, 320]\n",
            "[2022/12/24 16:02:00] ppocr INFO:             KeepKeys : \n",
            "[2022/12/24 16:02:00] ppocr INFO:                 keep_keys : ['image', 'label_ctc', 'label_sar', 'length', 'valid_ratio']\n",
            "[2022/12/24 16:02:00] ppocr INFO:     loader : \n",
            "[2022/12/24 16:02:00] ppocr INFO:         batch_size_per_card : 128\n",
            "[2022/12/24 16:02:00] ppocr INFO:         drop_last : False\n",
            "[2022/12/24 16:02:00] ppocr INFO:         num_workers : 8\n",
            "[2022/12/24 16:02:00] ppocr INFO:         shuffle : False\n",
            "[2022/12/24 16:02:00] ppocr INFO: Global : \n",
            "[2022/12/24 16:02:00] ppocr INFO:     cal_metric_during_train : True\n",
            "[2022/12/24 16:02:00] ppocr INFO:     character_dict_path : ppocr/utils/dict/arabic_dict.txt\n",
            "[2022/12/24 16:02:00] ppocr INFO:     checkpoints : /content/drive/MyDrive/output/v3_arabic_mobile/latest\n",
            "[2022/12/24 16:02:00] ppocr INFO:     debug : False\n",
            "[2022/12/24 16:02:00] ppocr INFO:     distributed : False\n",
            "[2022/12/24 16:02:00] ppocr INFO:     epoch_num : 20\n",
            "[2022/12/24 16:02:00] ppocr INFO:     eval_batch_step : [0, 100]\n",
            "[2022/12/24 16:02:00] ppocr INFO:     infer_img : /content/12.jpg\n",
            "[2022/12/24 16:02:00] ppocr INFO:     infer_mode : False\n",
            "[2022/12/24 16:02:00] ppocr INFO:     log_smooth_window : 20\n",
            "[2022/12/24 16:02:00] ppocr INFO:     max_text_length : 25\n",
            "[2022/12/24 16:02:00] ppocr INFO:     pretrained_model : /content/drive/MyDrive/output/v3_arabic_mobile/best_accuracy\n",
            "[2022/12/24 16:02:00] ppocr INFO:     print_batch_step : 10\n",
            "[2022/12/24 16:02:00] ppocr INFO:     save_epoch_step : 3\n",
            "[2022/12/24 16:02:00] ppocr INFO:     save_inference_dir : None\n",
            "[2022/12/24 16:02:00] ppocr INFO:     save_model_dir : /content/drive/MyDrive/output/v3_arabic_mobile/\n",
            "[2022/12/24 16:02:00] ppocr INFO:     save_res_path : /content/drive/MyDrive/output/rec/predicts_ppocrv3_arabic.txt\n",
            "[2022/12/24 16:02:00] ppocr INFO:     use_gpu : True\n",
            "[2022/12/24 16:02:00] ppocr INFO:     use_space_char : True\n",
            "[2022/12/24 16:02:00] ppocr INFO:     use_visualdl : False\n",
            "[2022/12/24 16:02:00] ppocr INFO: Loss : \n",
            "[2022/12/24 16:02:00] ppocr INFO:     loss_config_list : \n",
            "[2022/12/24 16:02:00] ppocr INFO:         CTCLoss : None\n",
            "[2022/12/24 16:02:00] ppocr INFO:         SARLoss : None\n",
            "[2022/12/24 16:02:00] ppocr INFO:     name : MultiLoss\n",
            "[2022/12/24 16:02:00] ppocr INFO: Metric : \n",
            "[2022/12/24 16:02:00] ppocr INFO:     ignore_space : False\n",
            "[2022/12/24 16:02:00] ppocr INFO:     main_indicator : acc\n",
            "[2022/12/24 16:02:00] ppocr INFO:     name : RecMetric\n",
            "[2022/12/24 16:02:00] ppocr INFO: Optimizer : \n",
            "[2022/12/24 16:02:00] ppocr INFO:     beta1 : 0.9\n",
            "[2022/12/24 16:02:00] ppocr INFO:     beta2 : 0.999\n",
            "[2022/12/24 16:02:00] ppocr INFO:     lr : \n",
            "[2022/12/24 16:02:00] ppocr INFO:         learning_rate : 0.003\n",
            "[2022/12/24 16:02:00] ppocr INFO:         name : Cosine\n",
            "[2022/12/24 16:02:00] ppocr INFO:         warmup_epoch : 5\n",
            "[2022/12/24 16:02:00] ppocr INFO:     name : Adam\n",
            "[2022/12/24 16:02:00] ppocr INFO:     regularizer : \n",
            "[2022/12/24 16:02:00] ppocr INFO:         factor : 3e-05\n",
            "[2022/12/24 16:02:00] ppocr INFO:         name : L2\n",
            "[2022/12/24 16:02:00] ppocr INFO: PostProcess : \n",
            "[2022/12/24 16:02:00] ppocr INFO:     name : CTCLabelDecode\n",
            "[2022/12/24 16:02:00] ppocr INFO: Train : \n",
            "[2022/12/24 16:02:00] ppocr INFO:     dataset : \n",
            "[2022/12/24 16:02:00] ppocr INFO:         data_dir : ./train_data/en_train_filtered\n",
            "[2022/12/24 16:02:00] ppocr INFO:         ext_op_transform_idx : 1\n",
            "[2022/12/24 16:02:00] ppocr INFO:         label_file_list : ['./train_data/train.txt']\n",
            "[2022/12/24 16:02:00] ppocr INFO:         name : SimpleDataSet\n",
            "[2022/12/24 16:02:00] ppocr INFO:         transforms : \n",
            "[2022/12/24 16:02:00] ppocr INFO:             DecodeImage : \n",
            "[2022/12/24 16:02:00] ppocr INFO:                 channel_first : False\n",
            "[2022/12/24 16:02:00] ppocr INFO:                 img_mode : BGR\n",
            "[2022/12/24 16:02:00] ppocr INFO:             RecConAug : \n",
            "[2022/12/24 16:02:00] ppocr INFO:                 ext_data_num : 2\n",
            "[2022/12/24 16:02:00] ppocr INFO:                 image_shape : [48, 320, 3]\n",
            "[2022/12/24 16:02:00] ppocr INFO:                 prob : 0.5\n",
            "[2022/12/24 16:02:00] ppocr INFO:             RecAug : None\n",
            "[2022/12/24 16:02:00] ppocr INFO:             MultiLabelEncode : None\n",
            "[2022/12/24 16:02:00] ppocr INFO:             RecResizeImg : \n",
            "[2022/12/24 16:02:00] ppocr INFO:                 image_shape : [3, 48, 320]\n",
            "[2022/12/24 16:02:00] ppocr INFO:             KeepKeys : \n",
            "[2022/12/24 16:02:00] ppocr INFO:                 keep_keys : ['image', 'label_ctc', 'label_sar', 'length', 'valid_ratio']\n",
            "[2022/12/24 16:02:00] ppocr INFO:     loader : \n",
            "[2022/12/24 16:02:00] ppocr INFO:         batch_size_per_card : 128\n",
            "[2022/12/24 16:02:00] ppocr INFO:         drop_last : True\n",
            "[2022/12/24 16:02:00] ppocr INFO:         num_workers : 8\n",
            "[2022/12/24 16:02:00] ppocr INFO:         shuffle : True\n",
            "[2022/12/24 16:02:00] ppocr INFO: profiler_options : None\n",
            "[2022/12/24 16:02:00] ppocr INFO: train with paddle 2.4.1 and device Place(gpu:0)\n",
            "W1224 16:02:00.769292 19753 gpu_resources.cc:61] Please NOTE: device: 0, GPU Compute Capability: 7.5, Driver API Version: 11.2, Runtime API Version: 11.2\n",
            "W1224 16:02:00.771945 19753 gpu_resources.cc:91] device: 0, cuDNN Version: 8.1.\n",
            "[2022/12/24 16:02:02] ppocr INFO: resume from /content/drive/MyDrive/output/v3_arabic_mobile/latest\n",
            "[2022/12/24 16:02:02] ppocr INFO: infer_img: /content/12.jpg\n",
            "W1224 16:02:02.244830 19753 gpu_resources.cc:217] WARNING: device: \u0000. The installed Paddle is compiled with CUDNN 8.2, but CUDNN version in your machine is 8.1, which may cause serious incompatible bug. Please recompile or reinstall Paddle with compatible CUDNN version.\n",
            "[2022/12/24 16:02:03] ppocr INFO: \t result: گرمان\t0.9899997711181641\n",
            "[2022/12/24 16:02:03] ppocr INFO: success!\n"
          ]
        }
      ]
    },
    {
      "cell_type": "markdown",
      "source": [
        "**Recommend:**\n",
        "\n",
        "Please change the (configuration) file for train or evaluation."
      ],
      "metadata": {
        "id": "ys3bLGAusZTR"
      }
    }
  ]
}