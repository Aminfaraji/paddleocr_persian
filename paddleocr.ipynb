{
  "nbformat": 4,
  "nbformat_minor": 0,
  "metadata": {
    "colab": {
      "provenance": [],
      "include_colab_link": true
    },
    "kernelspec": {
      "name": "python3",
      "display_name": "Python 3"
    },
    "language_info": {
      "name": "python"
    },
    "accelerator": "GPU",
    "gpuClass": "standard"
  },
  "cells": [
    {
      "cell_type": "markdown",
      "metadata": {
        "id": "view-in-github",
        "colab_type": "text"
      },
      "source": [
        "<a href=\"https://colab.research.google.com/github/Aminfaraji/paddleocr_persian/blob/main/paddleocr.ipynb\" target=\"_parent\"><img src=\"https://colab.research.google.com/assets/colab-badge.svg\" alt=\"Open In Colab\"/></a>"
      ]
    },
    {
      "cell_type": "code",
      "source": [
        "from google.colab import drive\n",
        "drive.mount('/content/drive')"
      ],
      "metadata": {
        "colab": {
          "base_uri": "https://localhost:8080/"
        },
        "id": "nW3b-xUNJTHk",
        "outputId": "33edd3e1-fbc3-497c-a5d6-8d8d95c0c438"
      },
      "execution_count": 1,
      "outputs": [
        {
          "output_type": "stream",
          "name": "stdout",
          "text": [
            "Mounted at /content/drive\n"
          ]
        }
      ]
    },
    {
      "cell_type": "code",
      "source": [
        "# !zip -r \"/content/drive/MyDrive/paddel-ocr-shotor.zip\" \"/content/drive/MyDrive/paddel-ocr-shotor\""
      ],
      "metadata": {
        "id": "6Mu5kAK5jWUE"
      },
      "execution_count": null,
      "outputs": []
    },
    {
      "cell_type": "markdown",
      "source": [
        "**Install Paddleocr compatible with the system (cuda11.2 & system linux)**\n",
        "\n",
        "\n",
        "**download pretrained model this link**\n",
        "\n",
        "https://drive.google.com/file/d/18wR7X2zDEdWBHBTPXSJT5S5L1_O7rmKh/view?usp=sharing"
      ],
      "metadata": {
        "id": "m4IY7c4lYYj1"
      }
    },
    {
      "cell_type": "code",
      "source": [
        "!python -m pip install paddlepaddle-gpu==2.4.1.post112 -f https://www.paddlepaddle.org.cn/whl/linux/mkl/avx/stable.html\n",
        "!git clone https://github.com/PaddlePaddle/PaddleOCR.git\n",
        "%cd /content/PaddleOCR\n",
        "!pip install -r requirements.txt"
      ],
      "metadata": {
        "id": "0ekJffhICFjJ"
      },
      "execution_count": null,
      "outputs": []
    },
    {
      "cell_type": "code",
      "source": [
        "!mkdir pretrained_model\n",
        "%cd pretrained_model/\n",
        "!wget https://paddleocr.bj.bcebos.com/PP-OCRv3/multilingual/arabic_PP-OCRv3_rec_train.tar\n",
        "!tar -xf arabic_PP-OCRv3_rec_train.tar && rm -rf arabic_PP-OCRv3_rec_train.tar"
      ],
      "metadata": {
        "id": "i1_sSUEHjk9g"
      },
      "execution_count": null,
      "outputs": []
    },
    {
      "cell_type": "markdown",
      "source": [
        "**download dataset shotor from google drive**"
      ],
      "metadata": {
        "id": "5X05A_qQYzic"
      }
    },
    {
      "cell_type": "markdown",
      "source": [
        "https://drive.google.com/file/d/1kj8wQ45R63Gyp-Qv2mJaa1C4Y0u1JgEC/view?usp=sharing, https://drive.google.com/file/d/1zrZUJjeJgz0iAVeK8QmMZVAUdPDSpman/view?usp=sharing"
      ],
      "metadata": {
        "id": "HccG3p3gZEqD"
      }
    },
    {
      "cell_type": "code",
      "source": [
        "!mkdir /content/PaddleOCR/train_data\n",
        "!unzip /content/drive/MyDrive/MY_dataset.zip -d /content/PaddleOCR/train_data\n",
        "# !unzip /content/drive/MyDrive/IDPL_train.zip -d /content/PaddleOCR/train_data\n",
        "# !unzip /content/drive/MyDrive/IDPL_eval.zip -d /content/PaddleOCR/train_data"
      ],
      "metadata": {
        "id": "9ps0NaFfMsRJ"
      },
      "execution_count": null,
      "outputs": []
    },
    {
      "cell_type": "code",
      "source": [
        "import glob,pandas,shutil\n",
        "# a=glob.glob(\"/content/PaddleOCR/train_data/en_train_filtered/*.csv\")\n",
        "# shutil.move(a[0],'/content/PaddleOCR/train_data')\n",
        "#a=glob.glob(\"/content/PaddleOCR/train_data/en_val/*.csv\")\n",
        "#shutil.move(a[0],'/content/PaddleOCR/train_data')"
      ],
      "metadata": {
        "id": "1U0LItDDpfgd"
      },
      "execution_count": 5,
      "outputs": []
    },
    {
      "cell_type": "markdown",
      "source": [
        "**convert file .csv to .txt for train Paddleocr. (Paddleocr support of format .txt for train model)**\n",
        "\n",
        "**recommend download file .txt**\n",
        "https://drive.google.com/file/d/1-15OsG6mAxBgVXtjCE2bKVKk5Ry_Dcr3/view?usp=sharing,\n",
        "*****************************\n",
        "https://drive.google.com/file/d/1Q4FuTYAKjWtUgGBsAK0blYuSQm8Rme99/view?usp=sharing"
      ],
      "metadata": {
        "id": "IoYBQcNCombD"
      }
    },
    {
      "cell_type": "code",
      "source": [
        "# !rm -rf /content/PaddleOCR/train_data/en_train_filtered/labels.csv\n",
        "# !rm -rf /content/PaddleOCR/train_data/en_val/labels.csv\n",
        "# !cp /content/drive/MyDrive/val.txt -r /content/PaddleOCR/train_data/\n",
        "# !cp /content/drive/MyDrive/train.txt -r /content/PaddleOCR/train_data/"
      ],
      "metadata": {
        "id": "58b2CMdONVT7"
      },
      "execution_count": null,
      "outputs": []
    },
    {
      "cell_type": "code",
      "source": [
        "# # # Read in the file\n",
        "# # with open('/content/drive/MyDrive/val.txt', 'r') as file :\n",
        "# #   filedata = file.read()\n",
        "\n",
        "# # # Replace the target string\n",
        "# # filedata = filedata.replace('.jpg', '.tif')\n",
        "\n",
        "# # # Write the file out again\n",
        "# # with open('/content/drive/MyDrive/val.txt', 'w') as file:\n",
        "# #   file.write(filedata)\n",
        "\n",
        "# # # Read in the file\n",
        "# # with open('/content/drive/MyDrive/train.txt', 'r') as file :\n",
        "# #   filedata = file.read()\n",
        "\n",
        "# # # Replace the target string\n",
        "# # filedata = filedata.replace('.jpg', '.tif')\n",
        "\n",
        "# # # Write the file out again\n",
        "# # with open('/content/drive/MyDrive/train.txt', 'w') as file:\n",
        "# #   file.write(filedata)\n",
        "# # 1. Open the CSV file in reading mode and the TXT file in writing mode\n",
        "# with open('/content/PaddleOCR/train_data/train.csv', 'r') as f_in, open('/content/PaddleOCR/train_data/train.txt', 'w') as f_out:\n",
        "\n",
        "#     # 2. Read the CSV file and store in variable\n",
        "#     content = f_in.read()\n",
        "\n",
        "#     # 3. Write the content into the TXT file\n",
        "#     f_out.write(content)\n",
        "# !rm -rf /content/PaddleOCR/train_data/train.csv\n",
        "# with open(r\"/content/PaddleOCR/train_data/train.txt\", 'r+') as fp:\n",
        "#     # read an store all lines into list\n",
        "#     lines = fp.readlines()\n",
        "#     # move file pointer to the beginning of a file\n",
        "#     fp.seek(0)\n",
        "#     # truncate the file\n",
        "#     fp.truncate()\n",
        "\n",
        "#     # start writing lines\n",
        "#     # iterate line and line number\n",
        "#     for number, line in enumerate(lines):\n",
        "#         # delete line number 5 and 8\n",
        "#         # note: list index start from 0\n",
        "#         if number not in [0]:\n",
        "#             fp.write(line)\n"
      ],
      "metadata": {
        "id": "yhVhN_y0hPoV"
      },
      "execution_count": null,
      "outputs": []
    },
    {
      "cell_type": "code",
      "source": [
        "import cv2 \n",
        "import os \n",
        "#from imutils import perspective\n",
        "import numpy as np \n",
        "import json\n",
        "from tqdm import tqdm\n",
        "import matplotlib.pyplot as plt\n",
        "from imutils import perspective"
      ],
      "metadata": {
        "id": "28Uv89JZXX0M"
      },
      "execution_count": 6,
      "outputs": []
    },
    {
      "cell_type": "markdown",
      "source": [
        "**continue trained model**"
      ],
      "metadata": {
        "id": "0YX-zgVtqzjj"
      }
    },
    {
      "cell_type": "code",
      "source": [
        "%cd /content/PaddleOCR"
      ],
      "metadata": {
        "id": "z_m1qp0SOUvg",
        "outputId": "707db0ef-1de4-4dac-a9da-cc1670823f4b",
        "colab": {
          "base_uri": "https://localhost:8080/"
        }
      },
      "execution_count": 7,
      "outputs": [
        {
          "output_type": "stream",
          "name": "stdout",
          "text": [
            "/content/PaddleOCR\n"
          ]
        }
      ]
    },
    {
      "cell_type": "code",
      "source": [
        "#!rm -rf /content/drive/MyDrive/output_IDPL"
      ],
      "metadata": {
        "id": "8HZOWF8kRzG2"
      },
      "execution_count": null,
      "outputs": []
    },
    {
      "cell_type": "code",
      "source": [
        "!python3 tools/train.py -c /content/PaddleOCR/pretrained_model/arabic_PP-OCRv3_rec_train/config.yml -o Global.pretrained_model=/content/PaddleOCR/pretrained_model/arabic_PP-OCRv3_rec_train/best_accuracy"
      ],
      "metadata": {
        "id": "_rCsdUovsCpN",
        "outputId": "9b165ec0-b0e4-413a-dd7d-ad593b8a70c2",
        "colab": {
          "base_uri": "https://localhost:8080/"
        }
      },
      "execution_count": null,
      "outputs": [
        {
          "output_type": "stream",
          "name": "stdout",
          "text": [
            "[2023/02/17 19:37:33] ppocr INFO: Architecture : \n",
            "[2023/02/17 19:37:33] ppocr INFO:     Backbone : \n",
            "[2023/02/17 19:37:33] ppocr INFO:         last_conv_stride : [1, 2]\n",
            "[2023/02/17 19:37:33] ppocr INFO:         last_pool_type : avg\n",
            "[2023/02/17 19:37:33] ppocr INFO:         name : MobileNetV1Enhance\n",
            "[2023/02/17 19:37:33] ppocr INFO:         scale : 0.5\n",
            "[2023/02/17 19:37:33] ppocr INFO:     Head : \n",
            "[2023/02/17 19:37:33] ppocr INFO:         head_list : \n",
            "[2023/02/17 19:37:33] ppocr INFO:             CTCHead : \n",
            "[2023/02/17 19:37:33] ppocr INFO:                 Head : \n",
            "[2023/02/17 19:37:33] ppocr INFO:                     fc_decay : 1e-05\n",
            "[2023/02/17 19:37:33] ppocr INFO:                 Neck : \n",
            "[2023/02/17 19:37:33] ppocr INFO:                     depth : 2\n",
            "[2023/02/17 19:37:33] ppocr INFO:                     dims : 64\n",
            "[2023/02/17 19:37:33] ppocr INFO:                     hidden_dims : 120\n",
            "[2023/02/17 19:37:33] ppocr INFO:                     name : svtr\n",
            "[2023/02/17 19:37:33] ppocr INFO:                     use_guide : True\n",
            "[2023/02/17 19:37:33] ppocr INFO:             SARHead : \n",
            "[2023/02/17 19:37:33] ppocr INFO:                 enc_dim : 512\n",
            "[2023/02/17 19:37:33] ppocr INFO:                 max_text_length : 25\n",
            "[2023/02/17 19:37:33] ppocr INFO:         name : MultiHead\n",
            "[2023/02/17 19:37:33] ppocr INFO:     Transform : None\n",
            "[2023/02/17 19:37:33] ppocr INFO:     algorithm : SVTR\n",
            "[2023/02/17 19:37:33] ppocr INFO:     model_type : rec\n",
            "[2023/02/17 19:37:33] ppocr INFO: Eval : \n",
            "[2023/02/17 19:37:33] ppocr INFO:     dataset : \n",
            "[2023/02/17 19:37:33] ppocr INFO:         data_dir : /content/PaddleOCR/train_data/MY_dataset/val\n",
            "[2023/02/17 19:37:33] ppocr INFO:         label_file_list : ['/content/PaddleOCR/train_data/MY_dataset/val.txt']\n",
            "[2023/02/17 19:37:33] ppocr INFO:         name : SimpleDataSet\n",
            "[2023/02/17 19:37:33] ppocr INFO:         transforms : \n",
            "[2023/02/17 19:37:33] ppocr INFO:             DecodeImage : \n",
            "[2023/02/17 19:37:33] ppocr INFO:                 channel_first : False\n",
            "[2023/02/17 19:37:33] ppocr INFO:                 img_mode : BGR\n",
            "[2023/02/17 19:37:33] ppocr INFO:             MultiLabelEncode : None\n",
            "[2023/02/17 19:37:33] ppocr INFO:             RecResizeImg : \n",
            "[2023/02/17 19:37:33] ppocr INFO:                 image_shape : [3, 48, 320]\n",
            "[2023/02/17 19:37:33] ppocr INFO:             KeepKeys : \n",
            "[2023/02/17 19:37:33] ppocr INFO:                 keep_keys : ['image', 'label_ctc', 'label_sar', 'length', 'valid_ratio']\n",
            "[2023/02/17 19:37:33] ppocr INFO:     loader : \n",
            "[2023/02/17 19:37:33] ppocr INFO:         batch_size_per_card : 128\n",
            "[2023/02/17 19:37:33] ppocr INFO:         drop_last : False\n",
            "[2023/02/17 19:37:33] ppocr INFO:         num_workers : 4\n",
            "[2023/02/17 19:37:33] ppocr INFO:         shuffle : False\n",
            "[2023/02/17 19:37:33] ppocr INFO: Global : \n",
            "[2023/02/17 19:37:33] ppocr INFO:     cal_metric_during_train : True\n",
            "[2023/02/17 19:37:33] ppocr INFO:     character_dict_path : ppocr/utils/dict/arabic_dict.txt\n",
            "[2023/02/17 19:37:33] ppocr INFO:     checkpoints : None\n",
            "[2023/02/17 19:37:33] ppocr INFO:     debug : False\n",
            "[2023/02/17 19:37:33] ppocr INFO:     distributed : False\n",
            "[2023/02/17 19:37:33] ppocr INFO:     epoch_num : 500\n",
            "[2023/02/17 19:37:33] ppocr INFO:     eval_batch_step : [0, 2000]\n",
            "[2023/02/17 19:37:33] ppocr INFO:     infer_img : None\n",
            "[2023/02/17 19:37:33] ppocr INFO:     infer_mode : False\n",
            "[2023/02/17 19:37:33] ppocr INFO:     log_smooth_window : 20\n",
            "[2023/02/17 19:37:33] ppocr INFO:     max_text_length : 25\n",
            "[2023/02/17 19:37:33] ppocr INFO:     pretrained_model : /content/PaddleOCR/pretrained_model/arabic_PP-OCRv3_rec_train/best_accuracy\n",
            "[2023/02/17 19:37:33] ppocr INFO:     print_batch_step : 10\n",
            "[2023/02/17 19:37:33] ppocr INFO:     save_epoch_step : 10\n",
            "[2023/02/17 19:37:33] ppocr INFO:     save_inference_dir : None\n",
            "[2023/02/17 19:37:33] ppocr INFO:     save_model_dir : /content/drive/MyDrive/output_my_dataset/v3_arabic_mobile\n",
            "[2023/02/17 19:37:33] ppocr INFO:     save_res_path : /content/drive/MyDrive/output_my_dataset/rec/predicts_ppocrv3_arabic.txt\n",
            "[2023/02/17 19:37:33] ppocr INFO:     use_gpu : True\n",
            "[2023/02/17 19:37:33] ppocr INFO:     use_space_char : True\n",
            "[2023/02/17 19:37:33] ppocr INFO:     use_visualdl : False\n",
            "[2023/02/17 19:37:33] ppocr INFO: Loss : \n",
            "[2023/02/17 19:37:33] ppocr INFO:     loss_config_list : \n",
            "[2023/02/17 19:37:33] ppocr INFO:         CTCLoss : None\n",
            "[2023/02/17 19:37:33] ppocr INFO:         SARLoss : None\n",
            "[2023/02/17 19:37:33] ppocr INFO:     name : MultiLoss\n",
            "[2023/02/17 19:37:33] ppocr INFO: Metric : \n",
            "[2023/02/17 19:37:33] ppocr INFO:     ignore_space : False\n",
            "[2023/02/17 19:37:33] ppocr INFO:     main_indicator : acc\n",
            "[2023/02/17 19:37:33] ppocr INFO:     name : RecMetric\n",
            "[2023/02/17 19:37:33] ppocr INFO: Optimizer : \n",
            "[2023/02/17 19:37:33] ppocr INFO:     beta1 : 0.9\n",
            "[2023/02/17 19:37:33] ppocr INFO:     beta2 : 0.999\n",
            "[2023/02/17 19:37:33] ppocr INFO:     lr : \n",
            "[2023/02/17 19:37:33] ppocr INFO:         learning_rate : 0.001\n",
            "[2023/02/17 19:37:33] ppocr INFO:         name : Cosine\n",
            "[2023/02/17 19:37:33] ppocr INFO:         warmup_epoch : 5\n",
            "[2023/02/17 19:37:33] ppocr INFO:     name : Adam\n",
            "[2023/02/17 19:37:33] ppocr INFO:     regularizer : \n",
            "[2023/02/17 19:37:33] ppocr INFO:         factor : 3e-05\n",
            "[2023/02/17 19:37:33] ppocr INFO:         name : L2\n",
            "[2023/02/17 19:37:33] ppocr INFO: PostProcess : \n",
            "[2023/02/17 19:37:33] ppocr INFO:     name : CTCLabelDecode\n",
            "[2023/02/17 19:37:33] ppocr INFO: Train : \n",
            "[2023/02/17 19:37:33] ppocr INFO:     dataset : \n",
            "[2023/02/17 19:37:33] ppocr INFO:         data_dir : /content/PaddleOCR/train_data/MY_dataset/Train/\n",
            "[2023/02/17 19:37:33] ppocr INFO:         ext_op_transform_idx : 1\n",
            "[2023/02/17 19:37:33] ppocr INFO:         label_file_list : ['/content/PaddleOCR/train_data/MY_dataset/Train.txt']\n",
            "[2023/02/17 19:37:33] ppocr INFO:         name : SimpleDataSet\n",
            "[2023/02/17 19:37:33] ppocr INFO:         transforms : \n",
            "[2023/02/17 19:37:33] ppocr INFO:             DecodeImage : \n",
            "[2023/02/17 19:37:33] ppocr INFO:                 channel_first : False\n",
            "[2023/02/17 19:37:33] ppocr INFO:                 img_mode : BGR\n",
            "[2023/02/17 19:37:33] ppocr INFO:             RecConAug : \n",
            "[2023/02/17 19:37:33] ppocr INFO:                 ext_data_num : 2\n",
            "[2023/02/17 19:37:33] ppocr INFO:                 image_shape : [48, 320, 3]\n",
            "[2023/02/17 19:37:33] ppocr INFO:                 prob : 0.5\n",
            "[2023/02/17 19:37:33] ppocr INFO:             RecAug : None\n",
            "[2023/02/17 19:37:33] ppocr INFO:             MultiLabelEncode : None\n",
            "[2023/02/17 19:37:33] ppocr INFO:             RecResizeImg : \n",
            "[2023/02/17 19:37:33] ppocr INFO:                 image_shape : [3, 48, 320]\n",
            "[2023/02/17 19:37:33] ppocr INFO:             KeepKeys : \n",
            "[2023/02/17 19:37:33] ppocr INFO:                 keep_keys : ['image', 'label_ctc', 'label_sar', 'length', 'valid_ratio']\n",
            "[2023/02/17 19:37:33] ppocr INFO:     loader : \n",
            "[2023/02/17 19:37:33] ppocr INFO:         batch_size_per_card : 128\n",
            "[2023/02/17 19:37:33] ppocr INFO:         drop_last : True\n",
            "[2023/02/17 19:37:33] ppocr INFO:         num_workers : 4\n",
            "[2023/02/17 19:37:33] ppocr INFO:         shuffle : True\n",
            "[2023/02/17 19:37:33] ppocr INFO: profiler_options : None\n",
            "[2023/02/17 19:37:33] ppocr INFO: train with paddle 2.4.1 and device Place(gpu:0)\n",
            "[2023/02/17 19:37:33] ppocr INFO: Initialize indexs of datasets:['/content/PaddleOCR/train_data/MY_dataset/Train.txt']\n",
            "[2023/02/17 19:37:33] ppocr INFO: Initialize indexs of datasets:['/content/PaddleOCR/train_data/MY_dataset/val.txt']\n",
            "W0217 19:37:33.783910  4929 gpu_resources.cc:61] Please NOTE: device: 0, GPU Compute Capability: 7.5, Driver API Version: 11.6, Runtime API Version: 11.6\n",
            "W0217 19:37:33.930955  4929 gpu_resources.cc:91] device: 0, cuDNN Version: 8.4.\n",
            "[2023/02/17 19:37:35] ppocr INFO: train dataloader has 241 iters\n",
            "[2023/02/17 19:37:35] ppocr INFO: valid dataloader has 52 iters\n",
            "[2023/02/17 19:37:35] ppocr INFO: load pretrain successful from /content/PaddleOCR/pretrained_model/arabic_PP-OCRv3_rec_train/best_accuracy\n",
            "[2023/02/17 19:37:35] ppocr INFO: During the training process, after the 0th iteration, an evaluation is run every 2000 iterations\n",
            "[2023/02/17 19:37:58] ppocr INFO: epoch: [1/500], global_step: 10, lr: 0.000004, acc: 0.000000, norm_edit_dis: 0.143454, CTCLoss: 103.309105, SARLoss: 6.523324, loss: 109.976288, avg_reader_cost: 0.34491 s, avg_batch_cost: 2.28367 s, avg_samples: 128.0, ips: 56.05010 samples/s, eta: 3 days, 4:25:59\n",
            "[2023/02/17 19:38:10] ppocr INFO: epoch: [1/500], global_step: 20, lr: 0.000008, acc: 0.000000, norm_edit_dis: 0.146084, CTCLoss: 101.802399, SARLoss: 6.162977, loss: 107.894463, avg_reader_cost: 0.00572 s, avg_batch_cost: 1.22939 s, avg_samples: 128.0, ips: 104.11695 samples/s, eta: 2 days, 10:47:06\n",
            "[2023/02/17 19:38:20] ppocr INFO: epoch: [1/500], global_step: 30, lr: 0.000016, acc: 0.000000, norm_edit_dis: 0.145927, CTCLoss: 98.930717, SARLoss: 4.987016, loss: 104.002655, avg_reader_cost: 0.00676 s, avg_batch_cost: 1.00568 s, avg_samples: 128.0, ips: 127.27697 samples/s, eta: 2 days, 2:24:17\n",
            "[2023/02/17 19:38:32] ppocr INFO: epoch: [1/500], global_step: 40, lr: 0.000024, acc: 0.000000, norm_edit_dis: 0.145841, CTCLoss: 93.687874, SARLoss: 4.320698, loss: 98.095306, avg_reader_cost: 0.00809 s, avg_batch_cost: 1.19402 s, avg_samples: 128.0, ips: 107.20113 samples/s, eta: 1 day, 23:47:19\n",
            "[2023/02/17 19:38:43] ppocr INFO: epoch: [1/500], global_step: 50, lr: 0.000033, acc: 0.000000, norm_edit_dis: 0.145486, CTCLoss: 85.204422, SARLoss: 3.966706, loss: 89.313721, avg_reader_cost: 0.00747 s, avg_batch_cost: 1.11278 s, avg_samples: 128.0, ips: 115.02741 samples/s, eta: 1 day, 21:40:27\n",
            "[2023/02/17 19:38:54] ppocr INFO: epoch: [1/500], global_step: 60, lr: 0.000041, acc: 0.000000, norm_edit_dis: 0.140327, CTCLoss: 74.704491, SARLoss: 3.819717, loss: 78.601990, avg_reader_cost: 0.00516 s, avg_batch_cost: 1.10502 s, avg_samples: 128.0, ips: 115.83489 samples/s, eta: 1 day, 20:13:12\n",
            "[2023/02/17 19:39:06] ppocr INFO: epoch: [1/500], global_step: 70, lr: 0.000049, acc: 0.000000, norm_edit_dis: 0.120219, CTCLoss: 57.025948, SARLoss: 3.563057, loss: 60.601189, avg_reader_cost: 0.00484 s, avg_batch_cost: 1.15552 s, avg_samples: 128.0, ips: 110.77301 samples/s, eta: 1 day, 19:25:19\n",
            "[2023/02/17 19:39:16] ppocr INFO: epoch: [1/500], global_step: 80, lr: 0.000058, acc: 0.000000, norm_edit_dis: 0.078905, CTCLoss: 45.394859, SARLoss: 3.267098, loss: 48.667698, avg_reader_cost: 0.00779 s, avg_batch_cost: 0.99853 s, avg_samples: 128.0, ips: 128.18843 samples/s, eta: 1 day, 18:09:58\n",
            "[2023/02/17 19:39:28] ppocr INFO: epoch: [1/500], global_step: 90, lr: 0.000066, acc: 0.000000, norm_edit_dis: 0.062333, CTCLoss: 41.371536, SARLoss: 3.055006, loss: 44.446541, avg_reader_cost: 0.00892 s, avg_batch_cost: 1.23085 s, avg_samples: 128.0, ips: 103.99288 samples/s, eta: 1 day, 18:03:08\n",
            "[2023/02/17 19:39:40] ppocr INFO: epoch: [1/500], global_step: 100, lr: 0.000074, acc: 0.000000, norm_edit_dis: 0.057283, CTCLoss: 40.389954, SARLoss: 2.970609, loss: 43.398438, avg_reader_cost: 0.00878 s, avg_batch_cost: 1.11568 s, avg_samples: 128.0, ips: 114.72841 samples/s, eta: 1 day, 17:34:30\n",
            "[2023/02/17 19:39:51] ppocr INFO: epoch: [1/500], global_step: 110, lr: 0.000083, acc: 0.000000, norm_edit_dis: 0.050231, CTCLoss: 37.878029, SARLoss: 2.902002, loss: 40.800873, avg_reader_cost: 0.00679 s, avg_batch_cost: 1.15562 s, avg_samples: 128.0, ips: 110.76324 samples/s, eta: 1 day, 17:18:20\n",
            "[2023/02/17 19:40:02] ppocr INFO: epoch: [1/500], global_step: 120, lr: 0.000091, acc: 0.000000, norm_edit_dis: 0.052234, CTCLoss: 36.256607, SARLoss: 2.864600, loss: 39.111584, avg_reader_cost: 0.00392 s, avg_batch_cost: 1.13644 s, avg_samples: 128.0, ips: 112.63236 samples/s, eta: 1 day, 17:01:38\n",
            "[2023/02/17 19:40:13] ppocr INFO: epoch: [1/500], global_step: 130, lr: 0.000099, acc: 0.000000, norm_edit_dis: 0.059061, CTCLoss: 33.931293, SARLoss: 2.704151, loss: 36.633080, avg_reader_cost: 0.00645 s, avg_batch_cost: 1.07605 s, avg_samples: 128.0, ips: 118.95401 samples/s, eta: 1 day, 16:38:08\n",
            "[2023/02/17 19:40:25] ppocr INFO: epoch: [1/500], global_step: 140, lr: 0.000107, acc: 0.000000, norm_edit_dis: 0.077769, CTCLoss: 32.084690, SARLoss: 2.483170, loss: 34.587944, avg_reader_cost: 0.00652 s, avg_batch_cost: 1.22192 s, avg_samples: 128.0, ips: 104.75336 samples/s, eta: 1 day, 16:38:53\n",
            "[2023/02/17 19:40:36] ppocr INFO: epoch: [1/500], global_step: 150, lr: 0.000116, acc: 0.000000, norm_edit_dis: 0.090131, CTCLoss: 32.002380, SARLoss: 2.178099, loss: 33.955555, avg_reader_cost: 0.00585 s, avg_batch_cost: 1.01184 s, avg_samples: 128.0, ips: 126.50228 samples/s, eta: 1 day, 16:11:24\n",
            "[2023/02/17 19:40:48] ppocr INFO: epoch: [1/500], global_step: 160, lr: 0.000124, acc: 0.000000, norm_edit_dis: 0.108633, CTCLoss: 31.417486, SARLoss: 1.872604, loss: 33.516121, avg_reader_cost: 0.00917 s, avg_batch_cost: 1.22955 s, avg_samples: 128.0, ips: 104.10282 samples/s, eta: 1 day, 16:14:38\n",
            "[2023/02/17 19:40:59] ppocr INFO: epoch: [1/500], global_step: 170, lr: 0.000132, acc: 0.000000, norm_edit_dis: 0.111705, CTCLoss: 30.066372, SARLoss: 1.555381, loss: 31.441277, avg_reader_cost: 0.00903 s, avg_batch_cost: 1.11446 s, avg_samples: 128.0, ips: 114.85356 samples/s, eta: 1 day, 16:03:53\n",
            "[2023/02/17 19:41:10] ppocr INFO: epoch: [1/500], global_step: 180, lr: 0.000141, acc: 0.000000, norm_edit_dis: 0.112963, CTCLoss: 29.432390, SARLoss: 1.281448, loss: 30.814308, avg_reader_cost: 0.00710 s, avg_batch_cost: 1.13548 s, avg_samples: 128.0, ips: 112.72804 samples/s, eta: 1 day, 15:56:39\n",
            "[2023/02/17 19:41:23] ppocr INFO: epoch: [1/500], global_step: 190, lr: 0.000149, acc: 0.000000, norm_edit_dis: 0.123180, CTCLoss: 28.603952, SARLoss: 1.162714, loss: 29.661409, avg_reader_cost: 0.00941 s, avg_batch_cost: 1.23987 s, avg_samples: 128.0, ips: 103.23699 samples/s, eta: 1 day, 16:01:10\n",
            "[2023/02/17 19:41:33] ppocr INFO: epoch: [1/500], global_step: 200, lr: 0.000157, acc: 0.000000, norm_edit_dis: 0.133498, CTCLoss: 28.150539, SARLoss: 0.985714, loss: 29.184273, avg_reader_cost: 0.00773 s, avg_batch_cost: 1.00872 s, avg_samples: 128.0, ips: 126.89404 samples/s, eta: 1 day, 15:42:02\n",
            "[2023/02/17 19:41:45] ppocr INFO: epoch: [1/500], global_step: 210, lr: 0.000166, acc: 0.000000, norm_edit_dis: 0.140658, CTCLoss: 27.187075, SARLoss: 0.895385, loss: 28.124195, avg_reader_cost: 0.00841 s, avg_batch_cost: 1.19005 s, avg_samples: 128.0, ips: 107.55812 samples/s, eta: 1 day, 15:42:02\n",
            "[2023/02/17 19:41:55] ppocr INFO: epoch: [1/500], global_step: 220, lr: 0.000174, acc: 0.000000, norm_edit_dis: 0.150348, CTCLoss: 26.491531, SARLoss: 0.795143, loss: 27.300591, avg_reader_cost: 0.00698 s, avg_batch_cost: 1.06059 s, avg_samples: 128.0, ips: 120.68772 samples/s, eta: 1 day, 15:30:13\n",
            "[2023/02/17 19:42:07] ppocr INFO: epoch: [1/500], global_step: 230, lr: 0.000182, acc: 0.000000, norm_edit_dis: 0.155893, CTCLoss: 26.323038, SARLoss: 0.741096, loss: 27.038424, avg_reader_cost: 0.00969 s, avg_batch_cost: 1.15893 s, avg_samples: 128.0, ips: 110.44712 samples/s, eta: 1 day, 15:27:58\n",
            "[2023/02/17 19:42:16] ppocr INFO: epoch: [1/500], global_step: 240, lr: 0.000190, acc: 0.000000, norm_edit_dis: 0.158401, CTCLoss: 26.323038, SARLoss: 0.724926, loss: 27.038424, avg_reader_cost: 0.00450 s, avg_batch_cost: 0.86347 s, avg_samples: 128.0, ips: 148.23940 samples/s, eta: 1 day, 15:01:14\n",
            "[2023/02/17 19:42:17] ppocr INFO: epoch: [1/500], global_step: 241, lr: 0.000191, acc: 0.000000, norm_edit_dis: 0.160370, CTCLoss: 26.388466, SARLoss: 0.718879, loss: 27.094780, avg_reader_cost: 0.00002 s, avg_batch_cost: 0.08283 s, avg_samples: 12.8, ips: 154.53832 samples/s, eta: 1 day, 14:58:23\n",
            "[2023/02/17 19:42:17] ppocr INFO: save model in /content/drive/MyDrive/output_my_dataset/v3_arabic_mobile/latest\n",
            "[2023/02/17 19:42:33] ppocr INFO: epoch: [2/500], global_step: 250, lr: 0.000199, acc: 0.000000, norm_edit_dis: 0.171344, CTCLoss: 26.081461, SARLoss: 0.670553, loss: 26.718019, avg_reader_cost: 0.40841 s, avg_batch_cost: 1.67537 s, avg_samples: 115.2, ips: 68.76084 samples/s, eta: 1 day, 15:48:20\n",
            "[2023/02/17 19:42:44] ppocr INFO: epoch: [2/500], global_step: 260, lr: 0.000207, acc: 0.000000, norm_edit_dis: 0.180373, CTCLoss: 25.584305, SARLoss: 0.618481, loss: 26.175636, avg_reader_cost: 0.00671 s, avg_batch_cost: 1.11269 s, avg_samples: 128.0, ips: 115.03647 samples/s, eta: 1 day, 15:42:03\n",
            "[2023/02/17 19:42:56] ppocr INFO: epoch: [2/500], global_step: 270, lr: 0.000215, acc: 0.000000, norm_edit_dis: 0.187054, CTCLoss: 25.097061, SARLoss: 0.603302, loss: 25.670738, avg_reader_cost: 0.00797 s, avg_batch_cost: 1.19792 s, avg_samples: 128.0, ips: 106.85232 samples/s, eta: 1 day, 15:42:33\n",
            "[2023/02/17 19:43:06] ppocr INFO: epoch: [2/500], global_step: 280, lr: 0.000224, acc: 0.000000, norm_edit_dis: 0.197066, CTCLoss: 25.251373, SARLoss: 0.583474, loss: 25.843918, avg_reader_cost: 0.00751 s, avg_batch_cost: 0.98856 s, avg_samples: 128.0, ips: 129.48126 samples/s, eta: 1 day, 15:28:00\n",
            "[2023/02/17 19:43:19] ppocr INFO: epoch: [2/500], global_step: 290, lr: 0.000232, acc: 0.000000, norm_edit_dis: 0.207289, CTCLoss: 24.757812, SARLoss: 0.557144, loss: 25.318913, avg_reader_cost: 0.00955 s, avg_batch_cost: 1.24183 s, avg_samples: 128.0, ips: 103.07351 samples/s, eta: 1 day, 15:31:57\n",
            "[2023/02/17 19:43:30] ppocr INFO: epoch: [2/500], global_step: 300, lr: 0.000240, acc: 0.000000, norm_edit_dis: 0.217790, CTCLoss: 24.551125, SARLoss: 0.554054, loss: 25.101738, avg_reader_cost: 0.01007 s, avg_batch_cost: 1.10797 s, avg_samples: 128.0, ips: 115.52685 samples/s, eta: 1 day, 15:26:41\n",
            "[2023/02/17 19:43:41] ppocr INFO: epoch: [2/500], global_step: 310, lr: 0.000249, acc: 0.000000, norm_edit_dis: 0.229119, CTCLoss: 24.402975, SARLoss: 0.538638, loss: 24.939911, avg_reader_cost: 0.00716 s, avg_batch_cost: 1.09068 s, avg_samples: 128.0, ips: 117.35759 samples/s, eta: 1 day, 15:20:37\n",
            "[2023/02/17 19:43:53] ppocr INFO: epoch: [2/500], global_step: 320, lr: 0.000257, acc: 0.000000, norm_edit_dis: 0.228096, CTCLoss: 24.175161, SARLoss: 0.519894, loss: 24.733047, avg_reader_cost: 0.01152 s, avg_batch_cost: 1.22831 s, avg_samples: 128.0, ips: 104.20785 samples/s, eta: 1 day, 15:23:33\n",
            "[2023/02/17 19:44:03] ppocr INFO: epoch: [2/500], global_step: 330, lr: 0.000265, acc: 0.000000, norm_edit_dis: 0.235339, CTCLoss: 23.837696, SARLoss: 0.500818, loss: 24.301729, avg_reader_cost: 0.00436 s, avg_batch_cost: 1.00654 s, avg_samples: 128.0, ips: 127.16890 samples/s, eta: 1 day, 15:12:49\n",
            "[2023/02/17 19:44:16] ppocr INFO: epoch: [2/500], global_step: 340, lr: 0.000273, acc: 0.000000, norm_edit_dis: 0.241785, CTCLoss: 23.811287, SARLoss: 0.480463, loss: 24.250462, avg_reader_cost: 0.00662 s, avg_batch_cost: 1.24113 s, avg_samples: 128.0, ips: 103.13189 samples/s, eta: 1 day, 15:16:32\n",
            "[2023/02/17 19:44:27] ppocr INFO: epoch: [2/500], global_step: 350, lr: 0.000282, acc: 0.000000, norm_edit_dis: 0.250266, CTCLoss: 23.921169, SARLoss: 0.500840, loss: 24.392681, avg_reader_cost: 0.00884 s, avg_batch_cost: 1.12077 s, avg_samples: 128.0, ips: 114.20769 samples/s, eta: 1 day, 15:13:08\n",
            "[2023/02/17 19:44:38] ppocr INFO: epoch: [2/500], global_step: 360, lr: 0.000290, acc: 0.000000, norm_edit_dis: 0.252318, CTCLoss: 23.729826, SARLoss: 0.496201, loss: 24.236217, avg_reader_cost: 0.00783 s, avg_batch_cost: 1.10745 s, avg_samples: 128.0, ips: 115.58040 samples/s, eta: 1 day, 15:09:11\n",
            "[2023/02/17 19:44:50] ppocr INFO: epoch: [2/500], global_step: 370, lr: 0.000298, acc: 0.000000, norm_edit_dis: 0.253272, CTCLoss: 23.201233, SARLoss: 0.466043, loss: 23.661118, avg_reader_cost: 0.01046 s, avg_batch_cost: 1.23314 s, avg_samples: 128.0, ips: 103.80007 samples/s, eta: 1 day, 15:12:14\n",
            "[2023/02/17 19:45:00] ppocr INFO: epoch: [2/500], global_step: 380, lr: 0.000307, acc: 0.000000, norm_edit_dis: 0.270970, CTCLoss: 22.799335, SARLoss: 0.470075, loss: 23.269032, avg_reader_cost: 0.00753 s, avg_batch_cost: 0.99403 s, avg_samples: 128.0, ips: 128.76916 samples/s, eta: 1 day, 15:02:30\n",
            "[2023/02/17 19:45:13] ppocr INFO: epoch: [2/500], global_step: 390, lr: 0.000315, acc: 0.000000, norm_edit_dis: 0.283572, CTCLoss: 22.346596, SARLoss: 0.472112, loss: 22.799198, avg_reader_cost: 0.01093 s, avg_batch_cost: 1.23733 s, avg_samples: 128.0, ips: 103.44875 samples/s, eta: 1 day, 15:05:46\n",
            "[2023/02/17 19:45:23] ppocr INFO: epoch: [2/500], global_step: 400, lr: 0.000323, acc: 0.000000, norm_edit_dis: 0.308940, CTCLoss: 21.951721, SARLoss: 0.464490, loss: 22.377365, avg_reader_cost: 0.00831 s, avg_batch_cost: 1.06641 s, avg_samples: 128.0, ips: 120.02842 samples/s, eta: 1 day, 15:00:18\n",
            "[2023/02/17 19:45:35] ppocr INFO: epoch: [2/500], global_step: 410, lr: 0.000332, acc: 0.000000, norm_edit_dis: 0.323830, CTCLoss: 21.246063, SARLoss: 0.445866, loss: 21.671839, avg_reader_cost: 0.00368 s, avg_batch_cost: 1.15300 s, avg_samples: 128.0, ips: 111.01486 samples/s, eta: 1 day, 14:59:19\n",
            "[2023/02/17 19:45:47] ppocr INFO: epoch: [2/500], global_step: 420, lr: 0.000340, acc: 0.000000, norm_edit_dis: 0.339972, CTCLoss: 21.034834, SARLoss: 0.442505, loss: 21.507135, avg_reader_cost: 0.00570 s, avg_batch_cost: 1.25258 s, avg_samples: 128.0, ips: 102.18872 samples/s, eta: 1 day, 15:03:06\n",
            "[2023/02/17 19:45:57] ppocr INFO: epoch: [2/500], global_step: 430, lr: 0.000348, acc: 0.000000, norm_edit_dis: 0.364881, CTCLoss: 20.814835, SARLoss: 0.451692, loss: 21.251463, avg_reader_cost: 0.00686 s, avg_batch_cost: 0.98464 s, avg_samples: 128.0, ips: 129.99730 samples/s, eta: 1 day, 14:54:15\n",
            "[2023/02/17 19:46:10] ppocr INFO: epoch: [2/500], global_step: 440, lr: 0.000356, acc: 0.007812, norm_edit_dis: 0.391590, CTCLoss: 19.958055, SARLoss: 0.449978, loss: 20.401739, avg_reader_cost: 0.00832 s, avg_batch_cost: 1.23748 s, avg_samples: 128.0, ips: 103.43631 samples/s, eta: 1 day, 14:57:17\n",
            "[2023/02/17 19:46:20] ppocr INFO: epoch: [2/500], global_step: 450, lr: 0.000365, acc: 0.007812, norm_edit_dis: 0.426052, CTCLoss: 18.810551, SARLoss: 0.423123, loss: 19.237728, avg_reader_cost: 0.00827 s, avg_batch_cost: 1.07736 s, avg_samples: 128.0, ips: 118.80854 samples/s, eta: 1 day, 14:53:03\n",
            "[2023/02/17 19:46:32] ppocr INFO: epoch: [2/500], global_step: 460, lr: 0.000373, acc: 0.007812, norm_edit_dis: 0.457462, CTCLoss: 18.315071, SARLoss: 0.422743, loss: 18.752653, avg_reader_cost: 0.00899 s, avg_batch_cost: 1.14665 s, avg_samples: 128.0, ips: 111.62907 samples/s, eta: 1 day, 14:52:01\n",
            "[2023/02/17 19:46:44] ppocr INFO: epoch: [2/500], global_step: 470, lr: 0.000381, acc: 0.015625, norm_edit_dis: 0.482161, CTCLoss: 17.783907, SARLoss: 0.428977, loss: 18.197533, avg_reader_cost: 0.00964 s, avg_batch_cost: 1.22924 s, avg_samples: 128.0, ips: 104.12918 samples/s, eta: 1 day, 14:54:32\n",
            "[2023/02/17 19:46:53] ppocr INFO: epoch: [2/500], global_step: 480, lr: 0.000390, acc: 0.015625, norm_edit_dis: 0.506828, CTCLoss: 17.083132, SARLoss: 0.439247, loss: 17.549212, avg_reader_cost: 0.00353 s, avg_batch_cost: 0.87408 s, avg_samples: 128.0, ips: 146.44019 samples/s, eta: 1 day, 14:42:08\n",
            "[2023/02/17 19:46:54] ppocr INFO: epoch: [2/500], global_step: 482, lr: 0.000391, acc: 0.019531, norm_edit_dis: 0.513051, CTCLoss: 16.911749, SARLoss: 0.442564, loss: 17.363653, avg_reader_cost: 0.00004 s, avg_batch_cost: 0.14996 s, avg_samples: 25.6, ips: 170.71100 samples/s, eta: 1 day, 14:38:41\n",
            "[2023/02/17 19:46:55] ppocr INFO: save model in /content/drive/MyDrive/output_my_dataset/v3_arabic_mobile/latest\n",
            "[2023/02/17 19:47:11] ppocr INFO: epoch: [3/500], global_step: 490, lr: 0.000398, acc: 0.027344, norm_edit_dis: 0.531174, CTCLoss: 16.092962, SARLoss: 0.454420, loss: 16.572109, avg_reader_cost: 0.58132 s, avg_batch_cost: 1.63988 s, avg_samples: 102.4, ips: 62.44355 samples/s, eta: 1 day, 15:07:37\n",
            "[2023/02/17 19:47:24] ppocr INFO: epoch: [3/500], global_step: 500, lr: 0.000406, acc: 0.039062, norm_edit_dis: 0.550955, CTCLoss: 15.339232, SARLoss: 0.440172, loss: 15.770829, avg_reader_cost: 0.00522 s, avg_batch_cost: 1.27609 s, avg_samples: 128.0, ips: 100.30639 samples/s, eta: 1 day, 15:11:31\n",
            "[2023/02/17 19:47:34] ppocr INFO: epoch: [3/500], global_step: 510, lr: 0.000415, acc: 0.039062, norm_edit_dis: 0.581342, CTCLoss: 14.315868, SARLoss: 0.407893, loss: 14.687987, avg_reader_cost: 0.00610 s, avg_batch_cost: 1.03386 s, avg_samples: 128.0, ips: 123.80747 samples/s, eta: 1 day, 15:05:45\n",
            "[2023/02/17 19:47:46] ppocr INFO: epoch: [3/500], global_step: 520, lr: 0.000423, acc: 0.046875, norm_edit_dis: 0.610796, CTCLoss: 13.549099, SARLoss: 0.409988, loss: 13.945596, avg_reader_cost: 0.00884 s, avg_batch_cost: 1.21442 s, avg_samples: 128.0, ips: 105.40015 samples/s, eta: 1 day, 15:07:09\n",
            "[2023/02/17 19:47:57] ppocr INFO: epoch: [3/500], global_step: 530, lr: 0.000431, acc: 0.062500, norm_edit_dis: 0.621539, CTCLoss: 12.829728, SARLoss: 0.425677, loss: 13.260225, avg_reader_cost: 0.00725 s, avg_batch_cost: 1.12120 s, avg_samples: 128.0, ips: 114.16353 samples/s, eta: 1 day, 15:04:58\n",
            "[2023/02/17 19:48:08] ppocr INFO: epoch: [3/500], global_step: 540, lr: 0.000439, acc: 0.078125, norm_edit_dis: 0.632271, CTCLoss: 12.894033, SARLoss: 0.422814, loss: 13.284876, avg_reader_cost: 0.00775 s, avg_batch_cost: 1.08979 s, avg_samples: 128.0, ips: 117.45351 samples/s, eta: 1 day, 15:01:42\n",
            "[2023/02/17 19:48:20] ppocr INFO: epoch: [3/500], global_step: 550, lr: 0.000448, acc: 0.085937, norm_edit_dis: 0.643565, CTCLoss: 12.591517, SARLoss: 0.405919, loss: 12.993057, avg_reader_cost: 0.00850 s, avg_batch_cost: 1.18682 s, avg_samples: 128.0, ips: 107.85090 samples/s, eta: 1 day, 15:02:04\n",
            "[2023/02/17 19:48:30] ppocr INFO: epoch: [3/500], global_step: 560, lr: 0.000456, acc: 0.089844, norm_edit_dis: 0.670766, CTCLoss: 11.706173, SARLoss: 0.409331, loss: 12.122650, avg_reader_cost: 0.00817 s, avg_batch_cost: 1.03708 s, avg_samples: 128.0, ips: 123.42399 samples/s, eta: 1 day, 14:57:05\n",
            "[2023/02/17 19:48:43] ppocr INFO: epoch: [3/500], global_step: 570, lr: 0.000464, acc: 0.105469, norm_edit_dis: 0.679570, CTCLoss: 11.295794, SARLoss: 0.425134, loss: 11.719357, avg_reader_cost: 0.01454 s, avg_batch_cost: 1.25757 s, avg_samples: 128.0, ips: 101.78381 samples/s, eta: 1 day, 14:59:59\n",
            "[2023/02/17 19:48:54] ppocr INFO: epoch: [3/500], global_step: 580, lr: 0.000473, acc: 0.109375, norm_edit_dis: 0.692838, CTCLoss: 10.754216, SARLoss: 0.414340, loss: 11.230316, avg_reader_cost: 0.00516 s, avg_batch_cost: 1.05413 s, avg_samples: 128.0, ips: 121.42707 samples/s, eta: 1 day, 14:55:46\n",
            "[2023/02/17 19:49:06] ppocr INFO: epoch: [3/500], global_step: 590, lr: 0.000481, acc: 0.125000, norm_edit_dis: 0.711589, CTCLoss: 10.051283, SARLoss: 0.407838, loss: 10.447664, avg_reader_cost: 0.00881 s, avg_batch_cost: 1.20361 s, avg_samples: 128.0, ips: 106.34679 samples/s, eta: 1 day, 14:56:46\n",
            "[2023/02/17 19:49:17] ppocr INFO: epoch: [3/500], global_step: 600, lr: 0.000489, acc: 0.125000, norm_edit_dis: 0.723094, CTCLoss: 9.836048, SARLoss: 0.414908, loss: 10.241831, avg_reader_cost: 0.00885 s, avg_batch_cost: 1.18571 s, avg_samples: 128.0, ips: 107.95253 samples/s, eta: 1 day, 14:57:07\n",
            "[2023/02/17 19:49:28] ppocr INFO: epoch: [3/500], global_step: 610, lr: 0.000498, acc: 0.144531, norm_edit_dis: 0.735331, CTCLoss: 9.674570, SARLoss: 0.419180, loss: 10.096905, avg_reader_cost: 0.00658 s, avg_batch_cost: 1.04977 s, avg_samples: 128.0, ips: 121.93192 samples/s, eta: 1 day, 14:53:00\n",
            "[2023/02/17 19:49:40] ppocr INFO: epoch: [3/500], global_step: 620, lr: 0.000506, acc: 0.171875, norm_edit_dis: 0.747451, CTCLoss: 8.781097, SARLoss: 0.394811, loss: 9.169420, avg_reader_cost: 0.00943 s, avg_batch_cost: 1.22844 s, avg_samples: 128.0, ips: 104.19696 samples/s, eta: 1 day, 14:54:46\n",
            "[2023/02/17 19:49:51] ppocr INFO: epoch: [3/500], global_step: 630, lr: 0.000514, acc: 0.171875, norm_edit_dis: 0.755820, CTCLoss: 8.648129, SARLoss: 0.401804, loss: 9.040400, avg_reader_cost: 0.00806 s, avg_batch_cost: 1.05097 s, avg_samples: 128.0, ips: 121.79237 samples/s, eta: 1 day, 14:50:50\n",
            "[2023/02/17 19:50:03] ppocr INFO: epoch: [3/500], global_step: 640, lr: 0.000522, acc: 0.179687, norm_edit_dis: 0.768537, CTCLoss: 8.394041, SARLoss: 0.407274, loss: 8.828674, avg_reader_cost: 0.00698 s, avg_batch_cost: 1.19261 s, avg_samples: 128.0, ips: 107.32758 samples/s, eta: 1 day, 14:51:27\n",
            "[2023/02/17 19:50:14] ppocr INFO: epoch: [3/500], global_step: 650, lr: 0.000531, acc: 0.207031, norm_edit_dis: 0.777338, CTCLoss: 7.952315, SARLoss: 0.409636, loss: 8.352146, avg_reader_cost: 0.00892 s, avg_batch_cost: 1.15474 s, avg_samples: 128.0, ips: 110.84756 samples/s, eta: 1 day, 14:50:53\n",
            "[2023/02/17 19:50:25] ppocr INFO: epoch: [3/500], global_step: 660, lr: 0.000539, acc: 0.214844, norm_edit_dis: 0.788295, CTCLoss: 7.567194, SARLoss: 0.399250, loss: 7.983708, avg_reader_cost: 0.00834 s, avg_batch_cost: 1.07545 s, avg_samples: 128.0, ips: 119.01960 samples/s, eta: 1 day, 14:47:55\n",
            "[2023/02/17 19:50:38] ppocr INFO: epoch: [3/500], global_step: 670, lr: 0.000547, acc: 0.218750, norm_edit_dis: 0.791777, CTCLoss: 7.466447, SARLoss: 0.395733, loss: 7.820416, avg_reader_cost: 0.00440 s, avg_batch_cost: 1.25363 s, avg_samples: 128.0, ips: 102.10321 samples/s, eta: 1 day, 14:50:21\n",
            "[2023/02/17 19:50:48] ppocr INFO: epoch: [3/500], global_step: 680, lr: 0.000556, acc: 0.230469, norm_edit_dis: 0.793388, CTCLoss: 7.030739, SARLoss: 0.390250, loss: 7.411417, avg_reader_cost: 0.00427 s, avg_batch_cost: 1.02683 s, avg_samples: 128.0, ips: 124.65602 samples/s, eta: 1 day, 14:46:03\n",
            "[2023/02/17 19:51:00] ppocr INFO: epoch: [3/500], global_step: 690, lr: 0.000564, acc: 0.234375, norm_edit_dis: 0.809261, CTCLoss: 6.713048, SARLoss: 0.394849, loss: 7.118318, avg_reader_cost: 0.00715 s, avg_batch_cost: 1.20990 s, avg_samples: 128.0, ips: 105.79351 samples/s, eta: 1 day, 14:47:09\n",
            "[2023/02/17 19:51:12] ppocr INFO: epoch: [3/500], global_step: 700, lr: 0.000572, acc: 0.246094, norm_edit_dis: 0.812872, CTCLoss: 6.687336, SARLoss: 0.398726, loss: 7.095653, avg_reader_cost: 0.00887 s, avg_batch_cost: 1.17435 s, avg_samples: 128.0, ips: 108.99608 samples/s, eta: 1 day, 14:47:13\n",
            "[2023/02/17 19:51:23] ppocr INFO: epoch: [3/500], global_step: 710, lr: 0.000580, acc: 0.265625, norm_edit_dis: 0.812296, CTCLoss: 6.593830, SARLoss: 0.392140, loss: 7.013950, avg_reader_cost: 0.00976 s, avg_batch_cost: 1.15260 s, avg_samples: 128.0, ips: 111.05368 samples/s, eta: 1 day, 14:46:40\n",
            "[2023/02/17 19:51:34] ppocr INFO: epoch: [3/500], global_step: 720, lr: 0.000589, acc: 0.265625, norm_edit_dis: 0.819683, CTCLoss: 6.434212, SARLoss: 0.382944, loss: 6.803412, avg_reader_cost: 0.00747 s, avg_batch_cost: 1.06227 s, avg_samples: 128.0, ips: 120.49645 samples/s, eta: 1 day, 14:43:36\n",
            "[2023/02/17 19:51:36] ppocr INFO: epoch: [3/500], global_step: 723, lr: 0.000591, acc: 0.269531, norm_edit_dis: 0.820451, CTCLoss: 6.384358, SARLoss: 0.384180, loss: 6.743688, avg_reader_cost: 0.00006 s, avg_batch_cost: 0.22511 s, avg_samples: 38.4, ips: 170.58417 samples/s, eta: 1 day, 14:40:07\n",
            "[2023/02/17 19:51:37] ppocr INFO: save model in /content/drive/MyDrive/output_my_dataset/v3_arabic_mobile/latest\n",
            "[2023/02/17 19:51:52] ppocr INFO: epoch: [4/500], global_step: 730, lr: 0.000597, acc: 0.292969, norm_edit_dis: 0.827580, CTCLoss: 6.250274, SARLoss: 0.376299, loss: 6.647834, avg_reader_cost: 0.44221 s, avg_batch_cost: 1.53844 s, avg_samples: 89.6, ips: 58.24078 samples/s, eta: 1 day, 14:59:49\n",
            "[2023/02/17 19:52:03] ppocr INFO: epoch: [4/500], global_step: 740, lr: 0.000605, acc: 0.308594, norm_edit_dis: 0.832093, CTCLoss: 6.069474, SARLoss: 0.390022, loss: 6.448054, avg_reader_cost: 0.00642 s, avg_batch_cost: 1.13935 s, avg_samples: 128.0, ips: 112.34513 samples/s, eta: 1 day, 14:58:44\n",
            "[2023/02/17 19:52:15] ppocr INFO: epoch: [4/500], global_step: 750, lr: 0.000614, acc: 0.312500, norm_edit_dis: 0.838834, CTCLoss: 5.976034, SARLoss: 0.378817, loss: 6.375708, avg_reader_cost: 0.01315 s, avg_batch_cost: 1.24672 s, avg_samples: 128.0, ips: 102.66947 samples/s, eta: 1 day, 15:00:32\n",
            "[2023/02/17 19:52:26] ppocr INFO: epoch: [4/500], global_step: 760, lr: 0.000622, acc: 0.308594, norm_edit_dis: 0.838989, CTCLoss: 5.952242, SARLoss: 0.379350, loss: 6.365324, avg_reader_cost: 0.00926 s, avg_batch_cost: 1.09869 s, avg_samples: 128.0, ips: 116.50238 samples/s, eta: 1 day, 14:58:23\n",
            "[2023/02/17 19:52:38] ppocr INFO: epoch: [4/500], global_step: 770, lr: 0.000630, acc: 0.312500, norm_edit_dis: 0.838431, CTCLoss: 5.570976, SARLoss: 0.388673, loss: 5.947391, avg_reader_cost: 0.00838 s, avg_batch_cost: 1.19812 s, avg_samples: 128.0, ips: 106.83383 samples/s, eta: 1 day, 14:58:53\n",
            "[2023/02/17 19:52:51] ppocr INFO: epoch: [4/500], global_step: 780, lr: 0.000639, acc: 0.316406, norm_edit_dis: 0.847785, CTCLoss: 5.402313, SARLoss: 0.391962, loss: 5.805464, avg_reader_cost: 0.01021 s, avg_batch_cost: 1.22314 s, avg_samples: 128.0, ips: 104.64860 samples/s, eta: 1 day, 14:59:59\n",
            "[2023/02/17 19:53:01] ppocr INFO: epoch: [4/500], global_step: 790, lr: 0.000647, acc: 0.332031, norm_edit_dis: 0.849187, CTCLoss: 5.467644, SARLoss: 0.403032, loss: 5.873118, avg_reader_cost: 0.00865 s, avg_batch_cost: 1.05526 s, avg_samples: 128.0, ips: 121.29659 samples/s, eta: 1 day, 14:56:50\n",
            "[2023/02/17 19:53:14] ppocr INFO: epoch: [4/500], global_step: 800, lr: 0.000655, acc: 0.363281, norm_edit_dis: 0.855296, CTCLoss: 5.358216, SARLoss: 0.376420, loss: 5.735678, avg_reader_cost: 0.01298 s, avg_batch_cost: 1.29902 s, avg_samples: 128.0, ips: 98.53571 samples/s, eta: 1 day, 14:59:49\n",
            "[2023/02/17 19:53:25] ppocr INFO: epoch: [4/500], global_step: 810, lr: 0.000663, acc: 0.359375, norm_edit_dis: 0.859895, CTCLoss: 5.177989, SARLoss: 0.370783, loss: 5.563816, avg_reader_cost: 0.00744 s, avg_batch_cost: 1.10357 s, avg_samples: 128.0, ips: 115.98771 samples/s, eta: 1 day, 14:57:55\n",
            "[2023/02/17 19:53:38] ppocr INFO: epoch: [4/500], global_step: 820, lr: 0.000672, acc: 0.359375, norm_edit_dis: 0.861787, CTCLoss: 4.859371, SARLoss: 0.371951, loss: 5.238654, avg_reader_cost: 0.00600 s, avg_batch_cost: 1.24339 s, avg_samples: 128.0, ips: 102.94443 samples/s, eta: 1 day, 14:59:27\n",
            "[2023/02/17 19:53:50] ppocr INFO: epoch: [4/500], global_step: 830, lr: 0.000680, acc: 0.394531, norm_edit_dis: 0.870648, CTCLoss: 4.514462, SARLoss: 0.378836, loss: 4.875404, avg_reader_cost: 0.00790 s, avg_batch_cost: 1.22900 s, avg_samples: 128.0, ips: 104.14969 samples/s, eta: 1 day, 15:00:37\n",
            "[2023/02/17 19:54:01] ppocr INFO: epoch: [4/500], global_step: 840, lr: 0.000688, acc: 0.390625, norm_edit_dis: 0.873185, CTCLoss: 4.481335, SARLoss: 0.377740, loss: 4.817525, avg_reader_cost: 0.00633 s, avg_batch_cost: 1.07813 s, avg_samples: 128.0, ips: 118.72435 samples/s, eta: 1 day, 14:58:09\n",
            "[2023/02/17 19:54:14] ppocr INFO: epoch: [4/500], global_step: 850, lr: 0.000697, acc: 0.406250, norm_edit_dis: 0.873294, CTCLoss: 4.604284, SARLoss: 0.374528, loss: 4.973158, avg_reader_cost: 0.01141 s, avg_batch_cost: 1.27043 s, avg_samples: 128.0, ips: 100.75322 samples/s, eta: 1 day, 15:00:15\n",
            "[2023/02/17 19:54:24] ppocr INFO: epoch: [4/500], global_step: 860, lr: 0.000705, acc: 0.410156, norm_edit_dis: 0.874514, CTCLoss: 4.627078, SARLoss: 0.389480, loss: 5.025758, avg_reader_cost: 0.00763 s, avg_batch_cost: 1.06378 s, avg_samples: 128.0, ips: 120.32607 samples/s, eta: 1 day, 14:57:31\n",
            "[2023/02/17 19:54:36] ppocr INFO: epoch: [4/500], global_step: 870, lr: 0.000713, acc: 0.406250, norm_edit_dis: 0.867945, CTCLoss: 4.748812, SARLoss: 0.395976, loss: 5.165012, avg_reader_cost: 0.01113 s, avg_batch_cost: 1.20996 s, avg_samples: 128.0, ips: 105.78833 samples/s, eta: 1 day, 14:58:11\n",
            "[2023/02/17 19:54:48] ppocr INFO: epoch: [4/500], global_step: 880, lr: 0.000722, acc: 0.406250, norm_edit_dis: 0.872091, CTCLoss: 4.627990, SARLoss: 0.395629, loss: 5.039746, avg_reader_cost: 0.00551 s, avg_batch_cost: 1.19023 s, avg_samples: 128.0, ips: 107.54250 samples/s, eta: 1 day, 14:58:23\n",
            "[2023/02/17 19:54:59] ppocr INFO: epoch: [4/500], global_step: 890, lr: 0.000730, acc: 0.421875, norm_edit_dis: 0.882465, CTCLoss: 4.345713, SARLoss: 0.382865, loss: 4.735049, avg_reader_cost: 0.00585 s, avg_batch_cost: 1.07111 s, avg_samples: 128.0, ips: 119.50237 samples/s, eta: 1 day, 14:55:54\n",
            "[2023/02/17 19:55:12] ppocr INFO: epoch: [4/500], global_step: 900, lr: 0.000738, acc: 0.429687, norm_edit_dis: 0.882134, CTCLoss: 4.398020, SARLoss: 0.382865, loss: 4.775801, avg_reader_cost: 0.01238 s, avg_batch_cost: 1.29940 s, avg_samples: 128.0, ips: 98.50727 samples/s, eta: 1 day, 14:58:32\n",
            "[2023/02/17 19:55:23] ppocr INFO: epoch: [4/500], global_step: 910, lr: 0.000746, acc: 0.437500, norm_edit_dis: 0.882091, CTCLoss: 4.329545, SARLoss: 0.391926, loss: 4.727867, avg_reader_cost: 0.00705 s, avg_batch_cost: 1.05831 s, avg_samples: 128.0, ips: 120.94785 samples/s, eta: 1 day, 14:55:50\n",
            "[2023/02/17 19:55:35] ppocr INFO: epoch: [4/500], global_step: 920, lr: 0.000755, acc: 0.437500, norm_edit_dis: 0.882447, CTCLoss: 4.154851, SARLoss: 0.399109, loss: 4.549026, avg_reader_cost: 0.00944 s, avg_batch_cost: 1.22582 s, avg_samples: 128.0, ips: 104.42030 samples/s, eta: 1 day, 14:56:48\n",
            "[2023/02/17 19:55:48] ppocr INFO: epoch: [4/500], global_step: 930, lr: 0.000763, acc: 0.433594, norm_edit_dis: 0.884870, CTCLoss: 4.011222, SARLoss: 0.394647, loss: 4.409807, avg_reader_cost: 0.00913 s, avg_batch_cost: 1.27228 s, avg_samples: 128.0, ips: 100.60656 samples/s, eta: 1 day, 14:58:45\n",
            "[2023/02/17 19:55:59] ppocr INFO: epoch: [4/500], global_step: 940, lr: 0.000771, acc: 0.433594, norm_edit_dis: 0.885319, CTCLoss: 4.051918, SARLoss: 0.382259, loss: 4.455823, avg_reader_cost: 0.00700 s, avg_batch_cost: 1.11268 s, avg_samples: 128.0, ips: 115.03753 samples/s, eta: 1 day, 14:57:15\n",
            "[2023/02/17 19:56:12] ppocr INFO: epoch: [4/500], global_step: 950, lr: 0.000780, acc: 0.437500, norm_edit_dis: 0.886004, CTCLoss: 4.218538, SARLoss: 0.377609, loss: 4.585258, avg_reader_cost: 0.00888 s, avg_batch_cost: 1.32387 s, avg_samples: 128.0, ips: 96.68625 samples/s, eta: 1 day, 15:00:14\n",
            "[2023/02/17 19:56:21] ppocr INFO: epoch: [4/500], global_step: 960, lr: 0.000788, acc: 0.449219, norm_edit_dis: 0.887413, CTCLoss: 4.112000, SARLoss: 0.380219, loss: 4.452016, avg_reader_cost: 0.00557 s, avg_batch_cost: 0.92700 s, avg_samples: 128.0, ips: 138.07943 samples/s, eta: 1 day, 14:54:54\n",
            "[2023/02/17 19:56:25] ppocr INFO: epoch: [4/500], global_step: 964, lr: 0.000791, acc: 0.472656, norm_edit_dis: 0.890350, CTCLoss: 4.048251, SARLoss: 0.363044, loss: 4.401950, avg_reader_cost: 0.00145 s, avg_batch_cost: 0.33646 s, avg_samples: 51.2, ips: 152.17252 samples/s, eta: 1 day, 14:52:05\n",
            "[2023/02/17 19:56:26] ppocr INFO: save model in /content/drive/MyDrive/output_my_dataset/v3_arabic_mobile/latest\n",
            "[2023/02/17 19:56:37] ppocr INFO: epoch: [5/500], global_step: 970, lr: 0.000796, acc: 0.476562, norm_edit_dis: 0.892921, CTCLoss: 3.846223, SARLoss: 0.356743, loss: 4.230209, avg_reader_cost: 0.44321 s, avg_batch_cost: 1.23070 s, avg_samples: 76.8, ips: 62.40357 samples/s, eta: 1 day, 15:02:49\n",
            "[2023/02/17 19:56:51] ppocr INFO: epoch: [5/500], global_step: 980, lr: 0.000805, acc: 0.480469, norm_edit_dis: 0.895580, CTCLoss: 3.805452, SARLoss: 0.361969, loss: 4.172026, avg_reader_cost: 0.01194 s, avg_batch_cost: 1.42984 s, avg_samples: 128.0, ips: 89.52073 samples/s, eta: 1 day, 15:07:47\n",
            "[2023/02/17 19:57:04] ppocr INFO: epoch: [5/500], global_step: 990, lr: 0.000813, acc: 0.472656, norm_edit_dis: 0.893175, CTCLoss: 3.609970, SARLoss: 0.366419, loss: 4.011521, avg_reader_cost: 0.00834 s, avg_batch_cost: 1.26924 s, avg_samples: 128.0, ips: 100.84799 samples/s, eta: 1 day, 15:09:24\n",
            "[2023/02/17 19:57:15] ppocr INFO: epoch: [5/500], global_step: 1000, lr: 0.000821, acc: 0.472656, norm_edit_dis: 0.894739, CTCLoss: 3.551437, SARLoss: 0.384650, loss: 3.940995, avg_reader_cost: 0.00812 s, avg_batch_cost: 1.05488 s, avg_samples: 128.0, ips: 121.34040 samples/s, eta: 1 day, 15:06:44\n",
            "[2023/02/17 19:57:27] ppocr INFO: epoch: [5/500], global_step: 1010, lr: 0.000829, acc: 0.496094, norm_edit_dis: 0.894739, CTCLoss: 3.556868, SARLoss: 0.381024, loss: 3.945566, avg_reader_cost: 0.00690 s, avg_batch_cost: 1.28121 s, avg_samples: 128.0, ips: 99.90536 samples/s, eta: 1 day, 15:08:34\n",
            "[2023/02/17 19:57:38] ppocr INFO: epoch: [5/500], global_step: 1020, lr: 0.000838, acc: 0.484375, norm_edit_dis: 0.897745, CTCLoss: 3.681878, SARLoss: 0.376841, loss: 4.069394, avg_reader_cost: 0.00801 s, avg_batch_cost: 1.10559 s, avg_samples: 128.0, ips: 115.77569 samples/s, eta: 1 day, 15:06:55\n",
            "[2023/02/17 19:57:50] ppocr INFO: epoch: [5/500], global_step: 1030, lr: 0.000846, acc: 0.492187, norm_edit_dis: 0.899313, CTCLoss: 3.668257, SARLoss: 0.380511, loss: 4.048768, avg_reader_cost: 0.00896 s, avg_batch_cost: 1.17556 s, avg_samples: 128.0, ips: 108.88407 samples/s, eta: 1 day, 15:06:40\n",
            "[2023/02/17 19:58:02] ppocr INFO: epoch: [5/500], global_step: 1040, lr: 0.000854, acc: 0.496094, norm_edit_dis: 0.901036, CTCLoss: 3.465790, SARLoss: 0.378013, loss: 3.826890, avg_reader_cost: 0.00431 s, avg_batch_cost: 1.21516 s, avg_samples: 128.0, ips: 105.33601 samples/s, eta: 1 day, 15:07:10\n",
            "[2023/02/17 19:58:13] ppocr INFO: epoch: [5/500], global_step: 1050, lr: 0.000863, acc: 0.492187, norm_edit_dis: 0.896715, CTCLoss: 3.509590, SARLoss: 0.369495, loss: 3.858271, avg_reader_cost: 0.00360 s, avg_batch_cost: 1.06498 s, avg_samples: 128.0, ips: 120.19049 samples/s, eta: 1 day, 15:04:49\n",
            "[2023/02/17 19:58:26] ppocr INFO: epoch: [5/500], global_step: 1060, lr: 0.000871, acc: 0.468750, norm_edit_dis: 0.894059, CTCLoss: 3.661080, SARLoss: 0.380755, loss: 4.045502, avg_reader_cost: 0.00953 s, avg_batch_cost: 1.26262 s, avg_samples: 128.0, ips: 101.37623 samples/s, eta: 1 day, 15:06:13\n",
            "[2023/02/17 19:58:37] ppocr INFO: epoch: [5/500], global_step: 1070, lr: 0.000879, acc: 0.503906, norm_edit_dis: 0.899699, CTCLoss: 3.571124, SARLoss: 0.380755, loss: 3.961229, avg_reader_cost: 0.00810 s, avg_batch_cost: 1.12105 s, avg_samples: 128.0, ips: 114.17876 samples/s, eta: 1 day, 15:04:57\n",
            "[2023/02/17 19:58:49] ppocr INFO: epoch: [5/500], global_step: 1080, lr: 0.000888, acc: 0.500000, norm_edit_dis: 0.900893, CTCLoss: 3.471723, SARLoss: 0.369362, loss: 3.855521, avg_reader_cost: 0.00485 s, avg_batch_cost: 1.18325 s, avg_samples: 128.0, ips: 108.17654 samples/s, eta: 1 day, 15:04:51\n",
            "[2023/02/17 19:59:01] ppocr INFO: epoch: [5/500], global_step: 1090, lr: 0.000896, acc: 0.496094, norm_edit_dis: 0.902212, CTCLoss: 3.385636, SARLoss: 0.367171, loss: 3.734174, avg_reader_cost: 0.00800 s, avg_batch_cost: 1.22534 s, avg_samples: 128.0, ips: 104.46097 samples/s, eta: 1 day, 15:05:31\n",
            "[2023/02/17 19:59:12] ppocr INFO: epoch: [5/500], global_step: 1100, lr: 0.000904, acc: 0.492187, norm_edit_dis: 0.903027, CTCLoss: 3.314949, SARLoss: 0.369204, loss: 3.696523, avg_reader_cost: 0.00660 s, avg_batch_cost: 1.07377 s, avg_samples: 128.0, ips: 119.20626 samples/s, eta: 1 day, 15:03:25\n",
            "[2023/02/17 19:59:25] ppocr INFO: epoch: [5/500], global_step: 1110, lr: 0.000912, acc: 0.492187, norm_edit_dis: 0.900100, CTCLoss: 3.364961, SARLoss: 0.379360, loss: 3.737172, avg_reader_cost: 0.00725 s, avg_batch_cost: 1.28025 s, avg_samples: 128.0, ips: 99.98035 samples/s, eta: 1 day, 15:05:04\n",
            "[2023/02/17 19:59:36] ppocr INFO: epoch: [5/500], global_step: 1120, lr: 0.000921, acc: 0.500000, norm_edit_dis: 0.905958, CTCLoss: 3.293584, SARLoss: 0.368149, loss: 3.659572, avg_reader_cost: 0.00617 s, avg_batch_cost: 1.18180 s, avg_samples: 128.0, ips: 108.30968 samples/s, eta: 1 day, 15:04:56\n",
            "[2023/02/17 19:59:48] ppocr INFO: epoch: [5/500], global_step: 1130, lr: 0.000929, acc: 0.511719, norm_edit_dis: 0.905958, CTCLoss: 3.343499, SARLoss: 0.365746, loss: 3.691270, avg_reader_cost: 0.00880 s, avg_batch_cost: 1.13328 s, avg_samples: 128.0, ips: 112.94631 samples/s, eta: 1 day, 15:03:56\n",
            "[2023/02/17 20:00:01] ppocr INFO: epoch: [5/500], global_step: 1140, lr: 0.000937, acc: 0.507812, norm_edit_dis: 0.902885, CTCLoss: 3.441816, SARLoss: 0.368332, loss: 3.787714, avg_reader_cost: 0.00980 s, avg_batch_cost: 1.27609 s, avg_samples: 128.0, ips: 100.30637 samples/s, eta: 1 day, 15:05:27\n",
            "[2023/02/17 20:00:11] ppocr INFO: epoch: [5/500], global_step: 1150, lr: 0.000946, acc: 0.523437, norm_edit_dis: 0.905404, CTCLoss: 3.344524, SARLoss: 0.374488, loss: 3.716798, avg_reader_cost: 0.00489 s, avg_batch_cost: 1.03611 s, avg_samples: 128.0, ips: 123.53875 samples/s, eta: 1 day, 15:02:47\n",
            "[2023/02/17 20:00:23] ppocr INFO: epoch: [5/500], global_step: 1160, lr: 0.000954, acc: 0.523437, norm_edit_dis: 0.906549, CTCLoss: 3.429093, SARLoss: 0.377076, loss: 3.791714, avg_reader_cost: 0.00447 s, avg_batch_cost: 1.22744 s, avg_samples: 128.0, ips: 104.28196 samples/s, eta: 1 day, 15:03:26\n",
            "[2023/02/17 20:00:35] ppocr INFO: epoch: [5/500], global_step: 1170, lr: 0.000962, acc: 0.519531, norm_edit_dis: 0.906644, CTCLoss: 3.369197, SARLoss: 0.377076, loss: 3.719277, avg_reader_cost: 0.00751 s, avg_batch_cost: 1.16617 s, avg_samples: 128.0, ips: 109.76133 samples/s, eta: 1 day, 15:03:02\n",
            "[2023/02/17 20:00:46] ppocr INFO: epoch: [5/500], global_step: 1180, lr: 0.000971, acc: 0.523437, norm_edit_dis: 0.909060, CTCLoss: 3.298492, SARLoss: 0.380458, loss: 3.673896, avg_reader_cost: 0.00689 s, avg_batch_cost: 1.10665 s, avg_samples: 128.0, ips: 115.66416 samples/s, eta: 1 day, 15:01:38\n",
            "[2023/02/17 20:00:58] ppocr INFO: epoch: [5/500], global_step: 1190, lr: 0.000979, acc: 0.546875, norm_edit_dis: 0.916926, CTCLoss: 3.000546, SARLoss: 0.378035, loss: 3.390324, avg_reader_cost: 0.00911 s, avg_batch_cost: 1.24537 s, avg_samples: 128.0, ips: 102.78068 samples/s, eta: 1 day, 15:02:34\n",
            "[2023/02/17 20:01:08] ppocr INFO: epoch: [5/500], global_step: 1200, lr: 0.000987, acc: 0.546875, norm_edit_dis: 0.914569, CTCLoss: 3.000546, SARLoss: 0.363221, loss: 3.390324, avg_reader_cost: 0.00364 s, avg_batch_cost: 0.94185 s, avg_samples: 128.0, ips: 135.90304 samples/s, eta: 1 day, 14:58:27\n",
            "[2023/02/17 20:01:12] ppocr INFO: epoch: [5/500], global_step: 1205, lr: 0.000991, acc: 0.539062, norm_edit_dis: 0.910417, CTCLoss: 3.033676, SARLoss: 0.368009, loss: 3.419070, avg_reader_cost: 0.00276 s, avg_batch_cost: 0.40797 s, avg_samples: 64.0, ips: 156.87480 samples/s, eta: 1 day, 14:55:23\n",
            "[2023/02/17 20:01:13] ppocr INFO: save model in /content/drive/MyDrive/output_my_dataset/v3_arabic_mobile/latest\n",
            "[2023/02/17 20:01:23] ppocr INFO: epoch: [6/500], global_step: 1210, lr: 0.000995, acc: 0.527344, norm_edit_dis: 0.910869, CTCLoss: 2.975602, SARLoss: 0.363045, loss: 3.354222, avg_reader_cost: 0.42909 s, avg_batch_cost: 1.06002 s, avg_samples: 64.0, ips: 60.37601 samples/s, eta: 1 day, 15:03:03\n",
            "[2023/02/17 20:01:37] ppocr INFO: epoch: [6/500], global_step: 1220, lr: 0.001000, acc: 0.519531, norm_edit_dis: 0.912841, CTCLoss: 2.943540, SARLoss: 0.366526, loss: 3.326977, avg_reader_cost: 0.00924 s, avg_batch_cost: 1.43927 s, avg_samples: 128.0, ips: 88.93393 samples/s, eta: 1 day, 15:07:07\n",
            "[2023/02/17 20:01:49] ppocr INFO: epoch: [6/500], global_step: 1230, lr: 0.001000, acc: 0.542969, norm_edit_dis: 0.913829, CTCLoss: 2.928690, SARLoss: 0.365751, loss: 3.330269, avg_reader_cost: 0.00397 s, avg_batch_cost: 1.18394 s, avg_samples: 128.0, ips: 108.11376 samples/s, eta: 1 day, 15:06:58\n",
            "[2023/02/17 20:02:00] ppocr INFO: epoch: [6/500], global_step: 1240, lr: 0.001000, acc: 0.546875, norm_edit_dis: 0.913575, CTCLoss: 3.064756, SARLoss: 0.361460, loss: 3.458746, avg_reader_cost: 0.00413 s, avg_batch_cost: 1.16050 s, avg_samples: 128.0, ips: 110.29758 samples/s, eta: 1 day, 15:06:27\n",
            "[2023/02/17 20:02:13] ppocr INFO: epoch: [6/500], global_step: 1250, lr: 0.001000, acc: 0.550781, norm_edit_dis: 0.913563, CTCLoss: 3.175866, SARLoss: 0.360110, loss: 3.534052, avg_reader_cost: 0.00782 s, avg_batch_cost: 1.27506 s, avg_samples: 128.0, ips: 100.38709 samples/s, eta: 1 day, 15:07:45\n",
            "[2023/02/17 20:02:24] ppocr INFO: epoch: [6/500], global_step: 1260, lr: 0.001000, acc: 0.542969, norm_edit_dis: 0.914477, CTCLoss: 3.181237, SARLoss: 0.359850, loss: 3.541086, avg_reader_cost: 0.00605 s, avg_batch_cost: 1.04608 s, avg_samples: 128.0, ips: 122.36131 samples/s, eta: 1 day, 15:05:25\n",
            "[2023/02/17 20:02:36] ppocr INFO: epoch: [6/500], global_step: 1270, lr: 0.001000, acc: 0.539062, norm_edit_dis: 0.913518, CTCLoss: 3.131354, SARLoss: 0.360435, loss: 3.487011, avg_reader_cost: 0.00795 s, avg_batch_cost: 1.23572 s, avg_samples: 128.0, ips: 103.58300 samples/s, eta: 1 day, 15:06:06\n",
            "[2023/02/17 20:02:48] ppocr INFO: epoch: [6/500], global_step: 1280, lr: 0.001000, acc: 0.542969, norm_edit_dis: 0.914395, CTCLoss: 2.904369, SARLoss: 0.373255, loss: 3.268263, avg_reader_cost: 0.01062 s, avg_batch_cost: 1.23608 s, avg_samples: 128.0, ips: 103.55342 samples/s, eta: 1 day, 15:06:46\n",
            "[2023/02/17 20:02:59] ppocr INFO: epoch: [6/500], global_step: 1290, lr: 0.001000, acc: 0.566406, norm_edit_dis: 0.916970, CTCLoss: 2.859778, SARLoss: 0.382951, loss: 3.238977, avg_reader_cost: 0.00673 s, avg_batch_cost: 1.06099 s, avg_samples: 128.0, ips: 120.64191 samples/s, eta: 1 day, 15:04:43\n",
            "[2023/02/17 20:03:12] ppocr INFO: epoch: [6/500], global_step: 1300, lr: 0.001000, acc: 0.578125, norm_edit_dis: 0.919336, CTCLoss: 2.955964, SARLoss: 0.368017, loss: 3.307933, avg_reader_cost: 0.00692 s, avg_batch_cost: 1.29744 s, avg_samples: 128.0, ips: 98.65560 samples/s, eta: 1 day, 15:06:19\n",
            "[2023/02/17 20:03:23] ppocr INFO: epoch: [6/500], global_step: 1310, lr: 0.001000, acc: 0.539062, norm_edit_dis: 0.914353, CTCLoss: 3.013064, SARLoss: 0.366823, loss: 3.364750, avg_reader_cost: 0.00654 s, avg_batch_cost: 1.07886 s, avg_samples: 128.0, ips: 118.64353 samples/s, eta: 1 day, 15:04:34\n",
            "[2023/02/17 20:03:35] ppocr INFO: epoch: [6/500], global_step: 1320, lr: 0.001000, acc: 0.535156, norm_edit_dis: 0.914353, CTCLoss: 3.056088, SARLoss: 0.365909, loss: 3.390108, avg_reader_cost: 0.00502 s, avg_batch_cost: 1.19429 s, avg_samples: 128.0, ips: 107.17653 samples/s, eta: 1 day, 15:04:35\n",
            "[2023/02/17 20:03:47] ppocr INFO: epoch: [6/500], global_step: 1330, lr: 0.001000, acc: 0.539062, norm_edit_dis: 0.913542, CTCLoss: 2.946718, SARLoss: 0.368335, loss: 3.344536, avg_reader_cost: 0.00919 s, avg_batch_cost: 1.23448 s, avg_samples: 128.0, ips: 103.68730 samples/s, eta: 1 day, 15:05:11\n",
            "[2023/02/17 20:03:58] ppocr INFO: epoch: [6/500], global_step: 1340, lr: 0.001000, acc: 0.554687, norm_edit_dis: 0.918254, CTCLoss: 2.822876, SARLoss: 0.367582, loss: 3.193664, avg_reader_cost: 0.00733 s, avg_batch_cost: 1.04480 s, avg_samples: 128.0, ips: 122.51173 samples/s, eta: 1 day, 15:02:59\n",
            "[2023/02/17 20:04:11] ppocr INFO: epoch: [6/500], global_step: 1350, lr: 0.001000, acc: 0.574219, norm_edit_dis: 0.918760, CTCLoss: 2.905333, SARLoss: 0.362811, loss: 3.253439, avg_reader_cost: 0.00861 s, avg_batch_cost: 1.31253 s, avg_samples: 128.0, ips: 97.52168 samples/s, eta: 1 day, 15:04:44\n",
            "[2023/02/17 20:04:22] ppocr INFO: epoch: [6/500], global_step: 1360, lr: 0.001000, acc: 0.570312, norm_edit_dis: 0.916242, CTCLoss: 2.907727, SARLoss: 0.367730, loss: 3.282636, avg_reader_cost: 0.00996 s, avg_batch_cost: 1.12960 s, avg_samples: 128.0, ips: 113.31479 samples/s, eta: 1 day, 15:03:48\n",
            "[2023/02/17 20:04:34] ppocr INFO: epoch: [6/500], global_step: 1370, lr: 0.001000, acc: 0.570312, norm_edit_dis: 0.923955, CTCLoss: 2.631020, SARLoss: 0.369777, loss: 2.984947, avg_reader_cost: 0.00735 s, avg_batch_cost: 1.16723 s, avg_samples: 128.0, ips: 109.66152 samples/s, eta: 1 day, 15:03:24\n",
            "[2023/02/17 20:04:46] ppocr INFO: epoch: [6/500], global_step: 1380, lr: 0.001000, acc: 0.597656, norm_edit_dis: 0.927783, CTCLoss: 2.789893, SARLoss: 0.369130, loss: 3.151297, avg_reader_cost: 0.00816 s, avg_batch_cost: 1.26101 s, avg_samples: 128.0, ips: 101.50587 samples/s, eta: 1 day, 15:04:22\n",
            "[2023/02/17 20:04:57] ppocr INFO: epoch: [6/500], global_step: 1390, lr: 0.001000, acc: 0.570312, norm_edit_dis: 0.921529, CTCLoss: 2.825832, SARLoss: 0.394333, loss: 3.202453, avg_reader_cost: 0.00621 s, avg_batch_cost: 1.03673 s, avg_samples: 128.0, ips: 123.46474 samples/s, eta: 1 day, 15:02:07\n",
            "[2023/02/17 20:05:09] ppocr INFO: epoch: [6/500], global_step: 1400, lr: 0.001000, acc: 0.546875, norm_edit_dis: 0.915608, CTCLoss: 2.912524, SARLoss: 0.403853, loss: 3.385740, avg_reader_cost: 0.00777 s, avg_batch_cost: 1.26083 s, avg_samples: 128.0, ips: 101.52025 samples/s, eta: 1 day, 15:03:04\n",
            "[2023/02/17 20:05:21] ppocr INFO: epoch: [6/500], global_step: 1410, lr: 0.001000, acc: 0.562500, norm_edit_dis: 0.925324, CTCLoss: 2.608598, SARLoss: 0.392853, loss: 2.991544, avg_reader_cost: 0.00418 s, avg_batch_cost: 1.12820 s, avg_samples: 128.0, ips: 113.45548 samples/s, eta: 1 day, 15:02:08\n",
            "[2023/02/17 20:05:32] ppocr INFO: epoch: [6/500], global_step: 1420, lr: 0.001000, acc: 0.578125, norm_edit_dis: 0.926808, CTCLoss: 2.600433, SARLoss: 0.378208, loss: 2.980186, avg_reader_cost: 0.00861 s, avg_batch_cost: 1.17780 s, avg_samples: 128.0, ips: 108.67684 samples/s, eta: 1 day, 15:01:54\n",
            "[2023/02/17 20:05:45] ppocr INFO: epoch: [6/500], global_step: 1430, lr: 0.001000, acc: 0.570312, norm_edit_dis: 0.923508, CTCLoss: 2.668145, SARLoss: 0.380680, loss: 3.030061, avg_reader_cost: 0.00970 s, avg_batch_cost: 1.24188 s, avg_samples: 128.0, ips: 103.06959 samples/s, eta: 1 day, 15:02:34\n",
            "[2023/02/17 20:05:55] ppocr INFO: epoch: [6/500], global_step: 1440, lr: 0.001000, acc: 0.578125, norm_edit_dis: 0.925579, CTCLoss: 2.382718, SARLoss: 0.357961, loss: 2.744176, avg_reader_cost: 0.00813 s, avg_batch_cost: 0.97990 s, avg_samples: 128.0, ips: 130.62612 samples/s, eta: 1 day, 14:59:37\n",
            "[2023/02/17 20:06:00] ppocr INFO: epoch: [6/500], global_step: 1446, lr: 0.001000, acc: 0.621094, norm_edit_dis: 0.932089, CTCLoss: 2.382718, SARLoss: 0.351479, loss: 2.743193, avg_reader_cost: 0.00262 s, avg_batch_cost: 0.48782 s, avg_samples: 76.8, ips: 157.43453 samples/s, eta: 1 day, 14:56:29\n",
            "[2023/02/17 20:06:01] ppocr INFO: save model in /content/drive/MyDrive/output_my_dataset/v3_arabic_mobile/latest\n",
            "[2023/02/17 20:06:09] ppocr INFO: epoch: [7/500], global_step: 1450, lr: 0.001000, acc: 0.628906, norm_edit_dis: 0.933390, CTCLoss: 2.552830, SARLoss: 0.350686, loss: 2.881654, avg_reader_cost: 0.42237 s, avg_batch_cost: 0.91095 s, avg_samples: 51.2, ips: 56.20501 samples/s, eta: 1 day, 15:02:25\n",
            "[2023/02/17 20:06:23] ppocr INFO: epoch: [7/500], global_step: 1460, lr: 0.001000, acc: 0.625000, norm_edit_dis: 0.931626, CTCLoss: 2.590464, SARLoss: 0.356228, loss: 2.940050, avg_reader_cost: 0.01088 s, avg_batch_cost: 1.42560 s, avg_samples: 128.0, ips: 89.78698 samples/s, eta: 1 day, 15:05:33\n",
            "[2023/02/17 20:06:34] ppocr INFO: epoch: [7/500], global_step: 1470, lr: 0.001000, acc: 0.621094, norm_edit_dis: 0.932639, CTCLoss: 2.528671, SARLoss: 0.356228, loss: 2.894487, avg_reader_cost: 0.00574 s, avg_batch_cost: 1.06468 s, avg_samples: 128.0, ips: 120.22376 samples/s, eta: 1 day, 15:03:46\n",
            "[2023/02/17 20:06:46] ppocr INFO: epoch: [7/500], global_step: 1480, lr: 0.001000, acc: 0.605469, norm_edit_dis: 0.930322, CTCLoss: 2.528671, SARLoss: 0.360957, loss: 2.894487, avg_reader_cost: 0.00997 s, avg_batch_cost: 1.22197 s, avg_samples: 128.0, ips: 104.74903 samples/s, eta: 1 day, 15:04:07\n",
            "[2023/02/17 20:06:58] ppocr INFO: epoch: [7/500], global_step: 1490, lr: 0.001000, acc: 0.589844, norm_edit_dis: 0.925652, CTCLoss: 2.692920, SARLoss: 0.365978, loss: 3.046767, avg_reader_cost: 0.00653 s, avg_batch_cost: 1.23394 s, avg_samples: 128.0, ips: 103.73271 samples/s, eta: 1 day, 15:04:37\n",
            "[2023/02/17 20:07:09] ppocr INFO: epoch: [7/500], global_step: 1500, lr: 0.001000, acc: 0.601562, norm_edit_dis: 0.925257, CTCLoss: 2.643030, SARLoss: 0.367440, loss: 3.010228, avg_reader_cost: 0.00853 s, avg_batch_cost: 1.02982 s, avg_samples: 128.0, ips: 124.29409 samples/s, eta: 1 day, 15:02:24\n",
            "[2023/02/17 20:07:21] ppocr INFO: epoch: [7/500], global_step: 1510, lr: 0.001000, acc: 0.605469, norm_edit_dis: 0.930358, CTCLoss: 2.433980, SARLoss: 0.346348, loss: 2.766127, avg_reader_cost: 0.01043 s, avg_batch_cost: 1.26523 s, avg_samples: 128.0, ips: 101.16706 samples/s, eta: 1 day, 15:03:19\n",
            "[2023/02/17 20:07:32] ppocr INFO: epoch: [7/500], global_step: 1520, lr: 0.001000, acc: 0.613281, norm_edit_dis: 0.931117, CTCLoss: 2.248882, SARLoss: 0.337618, loss: 2.624184, avg_reader_cost: 0.00435 s, avg_batch_cost: 1.11801 s, avg_samples: 128.0, ips: 114.48882 samples/s, eta: 1 day, 15:02:17\n",
            "[2023/02/17 20:07:44] ppocr INFO: epoch: [7/500], global_step: 1530, lr: 0.001000, acc: 0.625000, norm_edit_dis: 0.932680, CTCLoss: 2.225744, SARLoss: 0.338445, loss: 2.599928, avg_reader_cost: 0.00894 s, avg_batch_cost: 1.14553 s, avg_samples: 128.0, ips: 111.73884 samples/s, eta: 1 day, 15:01:38\n",
            "[2023/02/17 20:07:56] ppocr INFO: epoch: [7/500], global_step: 1540, lr: 0.001000, acc: 0.625000, norm_edit_dis: 0.929836, CTCLoss: 2.562554, SARLoss: 0.340826, loss: 2.903436, avg_reader_cost: 0.00895 s, avg_batch_cost: 1.24323 s, avg_samples: 128.0, ips: 102.95741 samples/s, eta: 1 day, 15:02:14\n",
            "[2023/02/17 20:08:07] ppocr INFO: epoch: [7/500], global_step: 1550, lr: 0.001000, acc: 0.628906, norm_edit_dis: 0.931214, CTCLoss: 2.420822, SARLoss: 0.347232, loss: 2.763586, avg_reader_cost: 0.00649 s, avg_batch_cost: 1.02814 s, avg_samples: 128.0, ips: 124.49669 samples/s, eta: 1 day, 15:00:05\n",
            "[2023/02/17 20:08:19] ppocr INFO: epoch: [7/500], global_step: 1560, lr: 0.001000, acc: 0.609375, norm_edit_dis: 0.929308, CTCLoss: 2.373111, SARLoss: 0.343418, loss: 2.698599, avg_reader_cost: 0.00493 s, avg_batch_cost: 1.27304 s, avg_samples: 128.0, ips: 100.54703 samples/s, eta: 1 day, 15:01:03\n",
            "[2023/02/17 20:08:31] ppocr INFO: epoch: [7/500], global_step: 1570, lr: 0.001000, acc: 0.609375, norm_edit_dis: 0.928272, CTCLoss: 2.382203, SARLoss: 0.349916, loss: 2.718229, avg_reader_cost: 0.00772 s, avg_batch_cost: 1.13292 s, avg_samples: 128.0, ips: 112.98281 samples/s, eta: 1 day, 15:00:15\n",
            "[2023/02/17 20:08:42] ppocr INFO: epoch: [7/500], global_step: 1580, lr: 0.001000, acc: 0.628906, norm_edit_dis: 0.932839, CTCLoss: 2.220374, SARLoss: 0.356993, loss: 2.574842, avg_reader_cost: 0.00786 s, avg_batch_cost: 1.15660 s, avg_samples: 128.0, ips: 110.66873 samples/s, eta: 1 day, 14:59:45\n",
            "[2023/02/17 20:08:55] ppocr INFO: epoch: [7/500], global_step: 1590, lr: 0.001000, acc: 0.636719, norm_edit_dis: 0.939669, CTCLoss: 2.220374, SARLoss: 0.345299, loss: 2.558434, avg_reader_cost: 0.01099 s, avg_batch_cost: 1.26750 s, avg_samples: 128.0, ips: 100.98624 samples/s, eta: 1 day, 15:00:39\n",
            "[2023/02/17 20:09:05] ppocr INFO: epoch: [7/500], global_step: 1600, lr: 0.001000, acc: 0.644531, norm_edit_dis: 0.940536, CTCLoss: 2.232532, SARLoss: 0.346361, loss: 2.596669, avg_reader_cost: 0.00410 s, avg_batch_cost: 1.02975 s, avg_samples: 128.0, ips: 124.30149 samples/s, eta: 1 day, 14:58:34\n",
            "[2023/02/17 20:09:18] ppocr INFO: epoch: [7/500], global_step: 1610, lr: 0.001000, acc: 0.640625, norm_edit_dis: 0.939845, CTCLoss: 2.077036, SARLoss: 0.344287, loss: 2.411653, avg_reader_cost: 0.00628 s, avg_batch_cost: 1.26900 s, avg_samples: 128.0, ips: 100.86698 samples/s, eta: 1 day, 14:59:28\n",
            "[2023/02/17 20:09:29] ppocr INFO: epoch: [7/500], global_step: 1620, lr: 0.001000, acc: 0.648437, norm_edit_dis: 0.939002, CTCLoss: 2.220938, SARLoss: 0.343631, loss: 2.576722, avg_reader_cost: 0.00705 s, avg_batch_cost: 1.13819 s, avg_samples: 128.0, ips: 112.45951 samples/s, eta: 1 day, 14:58:45\n",
            "[2023/02/17 20:09:41] ppocr INFO: epoch: [7/500], global_step: 1630, lr: 0.001000, acc: 0.664062, norm_edit_dis: 0.941462, CTCLoss: 2.209283, SARLoss: 0.348359, loss: 2.568616, avg_reader_cost: 0.00554 s, avg_batch_cost: 1.12086 s, avg_samples: 128.0, ips: 114.19772 samples/s, eta: 1 day, 14:57:50\n",
            "[2023/02/17 20:09:53] ppocr INFO: epoch: [7/500], global_step: 1640, lr: 0.001000, acc: 0.660156, norm_edit_dis: 0.942394, CTCLoss: 2.056539, SARLoss: 0.356695, loss: 2.433586, avg_reader_cost: 0.01092 s, avg_batch_cost: 1.27488 s, avg_samples: 128.0, ips: 100.40171 samples/s, eta: 1 day, 14:58:47\n",
            "[2023/02/17 20:10:03] ppocr INFO: epoch: [7/500], global_step: 1650, lr: 0.001000, acc: 0.660156, norm_edit_dis: 0.938484, CTCLoss: 1.939993, SARLoss: 0.360439, loss: 2.310221, avg_reader_cost: 0.00697 s, avg_batch_cost: 1.00959 s, avg_samples: 128.0, ips: 126.78428 samples/s, eta: 1 day, 14:56:32\n",
            "[2023/02/17 20:10:16] ppocr INFO: epoch: [7/500], global_step: 1660, lr: 0.001000, acc: 0.660156, norm_edit_dis: 0.936126, CTCLoss: 2.135618, SARLoss: 0.347842, loss: 2.455612, avg_reader_cost: 0.01123 s, avg_batch_cost: 1.27904 s, avg_samples: 128.0, ips: 100.07467 samples/s, eta: 1 day, 14:57:31\n",
            "[2023/02/17 20:10:28] ppocr INFO: epoch: [7/500], global_step: 1670, lr: 0.001000, acc: 0.656250, norm_edit_dis: 0.936747, CTCLoss: 2.135618, SARLoss: 0.339646, loss: 2.455612, avg_reader_cost: 0.00610 s, avg_batch_cost: 1.16259 s, avg_samples: 128.0, ips: 110.09897 samples/s, eta: 1 day, 14:57:07\n",
            "[2023/02/17 20:10:39] ppocr INFO: epoch: [7/500], global_step: 1680, lr: 0.001000, acc: 0.652344, norm_edit_dis: 0.937497, CTCLoss: 2.052544, SARLoss: 0.348920, loss: 2.383468, avg_reader_cost: 0.00774 s, avg_batch_cost: 1.06500 s, avg_samples: 128.0, ips: 120.18740 samples/s, eta: 1 day, 14:55:34\n",
            "[2023/02/17 20:10:44] ppocr INFO: epoch: [7/500], global_step: 1687, lr: 0.001000, acc: 0.644531, norm_edit_dis: 0.937341, CTCLoss: 2.104152, SARLoss: 0.351761, loss: 2.454186, avg_reader_cost: 0.00161 s, avg_batch_cost: 0.54729 s, avg_samples: 89.6, ips: 163.71701 samples/s, eta: 1 day, 14:52:10\n",
            "[2023/02/17 20:10:45] ppocr INFO: save model in /content/drive/MyDrive/output_my_dataset/v3_arabic_mobile/latest\n",
            "[2023/02/17 20:10:54] ppocr INFO: epoch: [8/500], global_step: 1690, lr: 0.001000, acc: 0.648437, norm_edit_dis: 0.938314, CTCLoss: 2.101451, SARLoss: 0.345843, loss: 2.454186, avg_reader_cost: 0.59039 s, avg_batch_cost: 0.96008 s, avg_samples: 38.4, ips: 39.99646 samples/s, eta: 1 day, 14:59:13\n",
            "[2023/02/17 20:11:08] ppocr INFO: epoch: [8/500], global_step: 1700, lr: 0.001000, acc: 0.644531, norm_edit_dis: 0.937577, CTCLoss: 2.133155, SARLoss: 0.336048, loss: 2.489904, avg_reader_cost: 0.00713 s, avg_batch_cost: 1.41409 s, avg_samples: 128.0, ips: 90.51728 samples/s, eta: 1 day, 15:01:43\n",
            "[2023/02/17 20:11:19] ppocr INFO: epoch: [8/500], global_step: 1710, lr: 0.001000, acc: 0.632812, norm_edit_dis: 0.937854, CTCLoss: 2.105997, SARLoss: 0.338299, loss: 2.480696, avg_reader_cost: 0.00554 s, avg_batch_cost: 1.07836 s, avg_samples: 128.0, ips: 118.69870 samples/s, eta: 1 day, 15:00:19\n",
            "[2023/02/17 20:11:31] ppocr INFO: epoch: [8/500], global_step: 1720, lr: 0.001000, acc: 0.648437, norm_edit_dis: 0.941216, CTCLoss: 1.923339, SARLoss: 0.342993, loss: 2.288753, avg_reader_cost: 0.00409 s, avg_batch_cost: 1.25151 s, avg_samples: 128.0, ips: 102.27681 samples/s, eta: 1 day, 15:00:55\n",
            "[2023/02/17 20:11:43] ppocr INFO: epoch: [8/500], global_step: 1730, lr: 0.001000, acc: 0.652344, norm_edit_dis: 0.938959, CTCLoss: 2.147237, SARLoss: 0.342979, loss: 2.511221, avg_reader_cost: 0.00680 s, avg_batch_cost: 1.13234 s, avg_samples: 128.0, ips: 113.03977 samples/s, eta: 1 day, 15:00:09\n",
            "[2023/02/17 20:11:54] ppocr INFO: epoch: [8/500], global_step: 1740, lr: 0.001000, acc: 0.648437, norm_edit_dis: 0.941393, CTCLoss: 1.971959, SARLoss: 0.337825, loss: 2.313172, avg_reader_cost: 0.00403 s, avg_batch_cost: 1.16376 s, avg_samples: 128.0, ips: 109.98815 samples/s, eta: 1 day, 14:59:45\n",
            "[2023/02/17 20:12:07] ppocr INFO: epoch: [8/500], global_step: 1750, lr: 0.001000, acc: 0.648437, norm_edit_dis: 0.942408, CTCLoss: 1.950849, SARLoss: 0.328143, loss: 2.281059, avg_reader_cost: 0.00664 s, avg_batch_cost: 1.24407 s, avg_samples: 128.0, ips: 102.88821 samples/s, eta: 1 day, 15:00:15\n",
            "[2023/02/17 20:12:17] ppocr INFO: epoch: [8/500], global_step: 1760, lr: 0.001000, acc: 0.664062, norm_edit_dis: 0.940101, CTCLoss: 1.988047, SARLoss: 0.336510, loss: 2.326464, avg_reader_cost: 0.00848 s, avg_batch_cost: 1.03751 s, avg_samples: 128.0, ips: 123.37254 samples/s, eta: 1 day, 14:58:25\n",
            "[2023/02/17 20:12:30] ppocr INFO: epoch: [8/500], global_step: 1770, lr: 0.001000, acc: 0.664062, norm_edit_dis: 0.940047, CTCLoss: 2.007896, SARLoss: 0.329107, loss: 2.329956, avg_reader_cost: 0.00661 s, avg_batch_cost: 1.26813 s, avg_samples: 128.0, ips: 100.93611 samples/s, eta: 1 day, 14:59:11\n",
            "[2023/02/17 20:12:41] ppocr INFO: epoch: [8/500], global_step: 1780, lr: 0.001000, acc: 0.640625, norm_edit_dis: 0.939851, CTCLoss: 2.087569, SARLoss: 0.329107, loss: 2.444058, avg_reader_cost: 0.00941 s, avg_batch_cost: 1.10369 s, avg_samples: 128.0, ips: 115.97469 samples/s, eta: 1 day, 14:58:07\n",
            "[2023/02/17 20:12:53] ppocr INFO: epoch: [8/500], global_step: 1790, lr: 0.001000, acc: 0.656250, norm_edit_dis: 0.942214, CTCLoss: 2.040962, SARLoss: 0.348326, loss: 2.398737, avg_reader_cost: 0.00877 s, avg_batch_cost: 1.19704 s, avg_samples: 128.0, ips: 106.93085 samples/s, eta: 1 day, 14:58:06\n",
            "[2023/02/17 20:13:05] ppocr INFO: epoch: [8/500], global_step: 1800, lr: 0.001000, acc: 0.671875, norm_edit_dis: 0.942624, CTCLoss: 1.861587, SARLoss: 0.348461, loss: 2.199770, avg_reader_cost: 0.00703 s, avg_batch_cost: 1.19408 s, avg_samples: 128.0, ips: 107.19514 samples/s, eta: 1 day, 14:58:02\n",
            "[2023/02/17 20:13:15] ppocr INFO: epoch: [8/500], global_step: 1810, lr: 0.001000, acc: 0.644531, norm_edit_dis: 0.941957, CTCLoss: 1.868761, SARLoss: 0.344987, loss: 2.199770, avg_reader_cost: 0.00777 s, avg_batch_cost: 1.02066 s, avg_samples: 128.0, ips: 125.40934 samples/s, eta: 1 day, 14:56:04\n",
            "[2023/02/17 20:13:28] ppocr INFO: epoch: [8/500], global_step: 1820, lr: 0.001000, acc: 0.675781, norm_edit_dis: 0.945843, CTCLoss: 1.853439, SARLoss: 0.332088, loss: 2.190046, avg_reader_cost: 0.00944 s, avg_batch_cost: 1.27006 s, avg_samples: 128.0, ips: 100.78252 samples/s, eta: 1 day, 14:56:51\n",
            "[2023/02/17 20:13:39] ppocr INFO: epoch: [8/500], global_step: 1830, lr: 0.001000, acc: 0.691406, norm_edit_dis: 0.948263, CTCLoss: 1.688870, SARLoss: 0.326302, loss: 1.979058, avg_reader_cost: 0.00741 s, avg_batch_cost: 1.14492 s, avg_samples: 128.0, ips: 111.79792 samples/s, eta: 1 day, 14:56:15\n",
            "[2023/02/17 20:13:51] ppocr INFO: epoch: [8/500], global_step: 1840, lr: 0.001000, acc: 0.683594, norm_edit_dis: 0.947221, CTCLoss: 1.721750, SARLoss: 0.324292, loss: 2.047240, avg_reader_cost: 0.00822 s, avg_batch_cost: 1.16551 s, avg_samples: 128.0, ips: 109.82356 samples/s, eta: 1 day, 14:55:53\n",
            "[2023/02/17 20:14:04] ppocr INFO: epoch: [8/500], global_step: 1850, lr: 0.001000, acc: 0.664062, norm_edit_dis: 0.945800, CTCLoss: 1.787014, SARLoss: 0.320487, loss: 2.097846, avg_reader_cost: 0.00809 s, avg_batch_cost: 1.27613 s, avg_samples: 128.0, ips: 100.30297 samples/s, eta: 1 day, 14:56:42\n",
            "[2023/02/17 20:14:14] ppocr INFO: epoch: [8/500], global_step: 1860, lr: 0.001000, acc: 0.671875, norm_edit_dis: 0.946652, CTCLoss: 1.931358, SARLoss: 0.344883, loss: 2.290817, avg_reader_cost: 0.00366 s, avg_batch_cost: 1.02353 s, avg_samples: 128.0, ips: 125.05701 samples/s, eta: 1 day, 14:54:50\n",
            "[2023/02/17 20:14:26] ppocr INFO: epoch: [8/500], global_step: 1870, lr: 0.001000, acc: 0.667969, norm_edit_dis: 0.945398, CTCLoss: 1.986353, SARLoss: 0.345033, loss: 2.348506, avg_reader_cost: 0.01367 s, avg_batch_cost: 1.25007 s, avg_samples: 128.0, ips: 102.39398 samples/s, eta: 1 day, 14:55:22\n",
            "[2023/02/17 20:14:37] ppocr INFO: epoch: [8/500], global_step: 1880, lr: 0.001000, acc: 0.652344, norm_edit_dis: 0.943169, CTCLoss: 2.010603, SARLoss: 0.338399, loss: 2.356135, avg_reader_cost: 0.00912 s, avg_batch_cost: 1.10153 s, avg_samples: 128.0, ips: 116.20182 samples/s, eta: 1 day, 14:54:20\n",
            "[2023/02/17 20:14:49] ppocr INFO: epoch: [8/500], global_step: 1890, lr: 0.001000, acc: 0.652344, norm_edit_dis: 0.941431, CTCLoss: 2.153894, SARLoss: 0.340773, loss: 2.505925, avg_reader_cost: 0.00835 s, avg_batch_cost: 1.14639 s, avg_samples: 128.0, ips: 111.65438 samples/s, eta: 1 day, 14:53:47\n",
            "[2023/02/17 20:15:01] ppocr INFO: epoch: [8/500], global_step: 1900, lr: 0.001000, acc: 0.660156, norm_edit_dis: 0.943465, CTCLoss: 1.700170, SARLoss: 0.347629, loss: 2.090561, avg_reader_cost: 0.00884 s, avg_batch_cost: 1.24721 s, avg_samples: 128.0, ips: 102.62933 samples/s, eta: 1 day, 14:54:16\n",
            "[2023/02/17 20:15:11] ppocr INFO: epoch: [8/500], global_step: 1910, lr: 0.001000, acc: 0.671875, norm_edit_dis: 0.946295, CTCLoss: 1.763171, SARLoss: 0.348109, loss: 2.141470, avg_reader_cost: 0.00372 s, avg_batch_cost: 0.99765 s, avg_samples: 128.0, ips: 128.30137 samples/s, eta: 1 day, 14:52:11\n",
            "[2023/02/17 20:15:24] ppocr INFO: epoch: [8/500], global_step: 1920, lr: 0.001000, acc: 0.648437, norm_edit_dis: 0.944737, CTCLoss: 1.850740, SARLoss: 0.345241, loss: 2.228724, avg_reader_cost: 0.00902 s, avg_batch_cost: 1.27720 s, avg_samples: 128.0, ips: 100.21896 samples/s, eta: 1 day, 14:52:59\n",
            "[2023/02/17 20:15:30] ppocr INFO: epoch: [8/500], global_step: 1928, lr: 0.001000, acc: 0.660156, norm_edit_dis: 0.944241, CTCLoss: 1.908298, SARLoss: 0.340196, loss: 2.243394, avg_reader_cost: 0.00065 s, avg_batch_cost: 0.61141 s, avg_samples: 102.4, ips: 167.48305 samples/s, eta: 1 day, 14:49:25\n",
            "[2023/02/17 20:15:31] ppocr INFO: save model in /content/drive/MyDrive/output_my_dataset/v3_arabic_mobile/latest\n",
            "[2023/02/17 20:15:39] ppocr INFO: epoch: [9/500], global_step: 1930, lr: 0.001000, acc: 0.667969, norm_edit_dis: 0.944241, CTCLoss: 1.863209, SARLoss: 0.334825, loss: 2.174510, avg_reader_cost: 0.57936 s, avg_batch_cost: 0.88576 s, avg_samples: 25.6, ips: 28.90169 samples/s, eta: 1 day, 14:56:02\n",
            "[2023/02/17 20:15:52] ppocr INFO: epoch: [9/500], global_step: 1940, lr: 0.001000, acc: 0.667969, norm_edit_dis: 0.943462, CTCLoss: 2.102272, SARLoss: 0.329978, loss: 2.431013, avg_reader_cost: 0.00638 s, avg_batch_cost: 1.25726 s, avg_samples: 128.0, ips: 101.80839 samples/s, eta: 1 day, 14:56:36\n",
            "[2023/02/17 20:16:04] ppocr INFO: epoch: [9/500], global_step: 1950, lr: 0.001000, acc: 0.671875, norm_edit_dis: 0.942362, CTCLoss: 2.003373, SARLoss: 0.342366, loss: 2.348049, avg_reader_cost: 0.00726 s, avg_batch_cost: 1.22826 s, avg_samples: 128.0, ips: 104.21214 samples/s, eta: 1 day, 14:56:52\n",
            "[2023/02/17 20:16:16] ppocr INFO: epoch: [9/500], global_step: 1960, lr: 0.001000, acc: 0.683594, norm_edit_dis: 0.943542, CTCLoss: 1.727670, SARLoss: 0.338178, loss: 2.095121, avg_reader_cost: 0.00826 s, avg_batch_cost: 1.17586 s, avg_samples: 128.0, ips: 108.85624 samples/s, eta: 1 day, 14:56:36\n",
            "[2023/02/17 20:16:27] ppocr INFO: epoch: [9/500], global_step: 1970, lr: 0.001000, acc: 0.687500, norm_edit_dis: 0.947353, CTCLoss: 1.861149, SARLoss: 0.332132, loss: 2.208404, avg_reader_cost: 0.00582 s, avg_batch_cost: 1.09922 s, avg_samples: 128.0, ips: 116.44632 samples/s, eta: 1 day, 14:55:34\n",
            "[2023/02/17 20:16:39] ppocr INFO: epoch: [9/500], global_step: 1980, lr: 0.001000, acc: 0.691406, norm_edit_dis: 0.950414, CTCLoss: 1.812957, SARLoss: 0.338442, loss: 2.175830, avg_reader_cost: 0.01128 s, avg_batch_cost: 1.25481 s, avg_samples: 128.0, ips: 102.00755 samples/s, eta: 1 day, 14:56:05\n",
            "[2023/02/17 20:16:50] ppocr INFO: epoch: [9/500], global_step: 1990, lr: 0.001000, acc: 0.683594, norm_edit_dis: 0.949981, CTCLoss: 1.820994, SARLoss: 0.334966, loss: 2.164241, avg_reader_cost: 0.00487 s, avg_batch_cost: 1.09215 s, avg_samples: 128.0, ips: 117.20006 samples/s, eta: 1 day, 14:55:00\n",
            "[2023/02/17 20:17:02] ppocr INFO: epoch: [9/500], global_step: 2000, lr: 0.001000, acc: 0.660156, norm_edit_dis: 0.940113, CTCLoss: 2.088522, SARLoss: 0.338452, loss: 2.420043, avg_reader_cost: 0.00581 s, avg_batch_cost: 1.21515 s, avg_samples: 128.0, ips: 105.33644 samples/s, eta: 1 day, 14:55:07\n",
            "eval model:: 100% 52/52 [00:09<00:00,  5.63it/s]\n",
            "[2023/02/17 20:17:12] ppocr INFO: cur metric, acc: 0.6082241292239432, norm_edit_dis: 0.9261681078315087, fps: 980.5935357206382\n",
            "[2023/02/17 20:17:12] ppocr INFO: save best model is to /content/drive/MyDrive/output_my_dataset/v3_arabic_mobile/best_accuracy\n",
            "[2023/02/17 20:17:12] ppocr INFO: best metric, acc: 0.6082241292239432, is_float16: False, norm_edit_dis: 0.9261681078315087, fps: 980.5935357206382, best_epoch: 9\n",
            "[2023/02/17 20:17:23] ppocr INFO: epoch: [9/500], global_step: 2010, lr: 0.001000, acc: 0.632812, norm_edit_dis: 0.938624, CTCLoss: 2.079754, SARLoss: 0.350052, loss: 2.444495, avg_reader_cost: 0.00598 s, avg_batch_cost: 1.09269 s, avg_samples: 128.0, ips: 117.14261 samples/s, eta: 1 day, 14:54:03\n",
            "[2023/02/17 20:17:36] ppocr INFO: epoch: [9/500], global_step: 2020, lr: 0.001000, acc: 0.683594, norm_edit_dis: 0.946159, CTCLoss: 1.912183, SARLoss: 0.345688, loss: 2.254836, avg_reader_cost: 0.01265 s, avg_batch_cost: 1.26118 s, avg_samples: 128.0, ips: 101.49236 samples/s, eta: 1 day, 14:54:37\n",
            "[2023/02/17 20:17:47] ppocr INFO: epoch: [9/500], global_step: 2030, lr: 0.001000, acc: 0.710937, norm_edit_dis: 0.949415, CTCLoss: 1.605146, SARLoss: 0.343547, loss: 1.949145, avg_reader_cost: 0.00458 s, avg_batch_cost: 1.08750 s, avg_samples: 128.0, ips: 117.70074 samples/s, eta: 1 day, 14:53:30\n",
            "[2023/02/17 20:17:59] ppocr INFO: epoch: [9/500], global_step: 2040, lr: 0.001000, acc: 0.710937, norm_edit_dis: 0.951611, CTCLoss: 1.662728, SARLoss: 0.345600, loss: 2.065722, avg_reader_cost: 0.00888 s, avg_batch_cost: 1.23484 s, avg_samples: 128.0, ips: 103.65684 samples/s, eta: 1 day, 14:53:49\n",
            "[2023/02/17 20:18:11] ppocr INFO: epoch: [9/500], global_step: 2050, lr: 0.001000, acc: 0.695312, norm_edit_dis: 0.951313, CTCLoss: 1.661964, SARLoss: 0.344922, loss: 2.024238, avg_reader_cost: 0.00619 s, avg_batch_cost: 1.19408 s, avg_samples: 128.0, ips: 107.19544 samples/s, eta: 1 day, 14:53:44\n",
            "[2023/02/17 20:18:22] ppocr INFO: epoch: [9/500], global_step: 2060, lr: 0.001000, acc: 0.710937, norm_edit_dis: 0.953098, CTCLoss: 1.486017, SARLoss: 0.339142, loss: 1.824329, avg_reader_cost: 0.00858 s, avg_batch_cost: 1.06950 s, avg_samples: 128.0, ips: 119.68257 samples/s, eta: 1 day, 14:52:28\n",
            "[2023/02/17 20:18:35] ppocr INFO: epoch: [9/500], global_step: 2070, lr: 0.001000, acc: 0.707031, norm_edit_dis: 0.949390, CTCLoss: 1.631617, SARLoss: 0.344713, loss: 1.969383, avg_reader_cost: 0.00873 s, avg_batch_cost: 1.28932 s, avg_samples: 128.0, ips: 99.27718 samples/s, eta: 1 day, 14:53:18\n",
            "[2023/02/17 20:18:46] ppocr INFO: epoch: [9/500], global_step: 2080, lr: 0.001000, acc: 0.691406, norm_edit_dis: 0.946601, CTCLoss: 1.883061, SARLoss: 0.340842, loss: 2.211955, avg_reader_cost: 0.00849 s, avg_batch_cost: 1.09177 s, avg_samples: 128.0, ips: 117.24081 samples/s, eta: 1 day, 14:52:14\n",
            "[2023/02/17 20:18:58] ppocr INFO: epoch: [9/500], global_step: 2090, lr: 0.001000, acc: 0.699219, norm_edit_dis: 0.949141, CTCLoss: 1.729720, SARLoss: 0.338816, loss: 2.081500, avg_reader_cost: 0.00743 s, avg_batch_cost: 1.20994 s, avg_samples: 128.0, ips: 105.79009 samples/s, eta: 1 day, 14:52:19\n",
            "[2023/02/17 20:19:10] ppocr INFO: epoch: [9/500], global_step: 2100, lr: 0.001000, acc: 0.703125, norm_edit_dis: 0.950337, CTCLoss: 1.731367, SARLoss: 0.339371, loss: 2.063958, avg_reader_cost: 0.00840 s, avg_batch_cost: 1.24736 s, avg_samples: 128.0, ips: 102.61641 samples/s, eta: 1 day, 14:52:44\n",
            "[2023/02/17 20:19:21] ppocr INFO: epoch: [9/500], global_step: 2110, lr: 0.001000, acc: 0.703125, norm_edit_dis: 0.946894, CTCLoss: 1.868647, SARLoss: 0.330628, loss: 2.190893, avg_reader_cost: 0.00448 s, avg_batch_cost: 1.04420 s, avg_samples: 128.0, ips: 122.58188 samples/s, eta: 1 day, 14:51:14\n",
            "[2023/02/17 20:19:34] ppocr INFO: epoch: [9/500], global_step: 2120, lr: 0.001000, acc: 0.683594, norm_edit_dis: 0.943887, CTCLoss: 1.960078, SARLoss: 0.331602, loss: 2.291207, avg_reader_cost: 0.00865 s, avg_batch_cost: 1.28008 s, avg_samples: 128.0, ips: 99.99380 samples/s, eta: 1 day, 14:51:58\n",
            "[2023/02/17 20:19:45] ppocr INFO: epoch: [9/500], global_step: 2130, lr: 0.001000, acc: 0.683594, norm_edit_dis: 0.946753, CTCLoss: 1.752463, SARLoss: 0.331688, loss: 2.076759, avg_reader_cost: 0.00950 s, avg_batch_cost: 1.13453 s, avg_samples: 128.0, ips: 112.82235 samples/s, eta: 1 day, 14:51:20\n",
            "[2023/02/17 20:19:57] ppocr INFO: epoch: [9/500], global_step: 2140, lr: 0.001000, acc: 0.687500, norm_edit_dis: 0.951356, CTCLoss: 1.670059, SARLoss: 0.341578, loss: 2.005653, avg_reader_cost: 0.00634 s, avg_batch_cost: 1.19042 s, avg_samples: 128.0, ips: 107.52513 samples/s, eta: 1 day, 14:51:13\n",
            "[2023/02/17 20:20:09] ppocr INFO: epoch: [9/500], global_step: 2150, lr: 0.001000, acc: 0.687500, norm_edit_dis: 0.951048, CTCLoss: 1.478784, SARLoss: 0.355366, loss: 1.824637, avg_reader_cost: 0.00948 s, avg_batch_cost: 1.22285 s, avg_samples: 128.0, ips: 104.67332 samples/s, eta: 1 day, 14:51:23\n",
            "[2023/02/17 20:20:19] ppocr INFO: epoch: [9/500], global_step: 2160, lr: 0.001000, acc: 0.691406, norm_edit_dis: 0.950662, CTCLoss: 1.622966, SARLoss: 0.334625, loss: 1.955869, avg_reader_cost: 0.00440 s, avg_batch_cost: 1.02426 s, avg_samples: 128.0, ips: 124.96810 samples/s, eta: 1 day, 14:49:45\n",
            "[2023/02/17 20:20:28] ppocr INFO: epoch: [9/500], global_step: 2169, lr: 0.001000, acc: 0.695312, norm_edit_dis: 0.950079, CTCLoss: 1.543811, SARLoss: 0.342565, loss: 1.886911, avg_reader_cost: 0.00596 s, avg_batch_cost: 0.82061 s, avg_samples: 115.2, ips: 140.38399 samples/s, eta: 1 day, 14:47:22\n",
            "[2023/02/17 20:20:28] ppocr INFO: save model in /content/drive/MyDrive/output_my_dataset/v3_arabic_mobile/latest\n",
            "[2023/02/17 20:20:33] ppocr INFO: epoch: [10/500], global_step: 2170, lr: 0.001000, acc: 0.695312, norm_edit_dis: 0.950079, CTCLoss: 1.543811, SARLoss: 0.340971, loss: 1.886911, avg_reader_cost: 0.41394 s, avg_batch_cost: 0.55117 s, avg_samples: 12.8, ips: 23.22351 samples/s, eta: 1 day, 14:51:17\n",
            "[2023/02/17 20:20:47] ppocr INFO: epoch: [10/500], global_step: 2180, lr: 0.001000, acc: 0.703125, norm_edit_dis: 0.951840, CTCLoss: 1.562401, SARLoss: 0.340971, loss: 1.903400, avg_reader_cost: 0.00804 s, avg_batch_cost: 1.42370 s, avg_samples: 128.0, ips: 89.90639 samples/s, eta: 1 day, 14:53:17\n",
            "[2023/02/17 20:20:58] ppocr INFO: epoch: [10/500], global_step: 2190, lr: 0.001000, acc: 0.703125, norm_edit_dis: 0.951246, CTCLoss: 1.671043, SARLoss: 0.344721, loss: 2.023805, avg_reader_cost: 0.00744 s, avg_batch_cost: 1.10927 s, avg_samples: 128.0, ips: 115.39118 samples/s, eta: 1 day, 14:52:25\n",
            "[2023/02/17 20:21:11] ppocr INFO: epoch: [10/500], global_step: 2200, lr: 0.001000, acc: 0.707031, norm_edit_dis: 0.950416, CTCLoss: 1.627374, SARLoss: 0.333640, loss: 1.933921, avg_reader_cost: 0.00595 s, avg_batch_cost: 1.21774 s, avg_samples: 128.0, ips: 105.11296 samples/s, eta: 1 day, 14:52:32\n",
            "[2023/02/17 20:21:23] ppocr INFO: epoch: [10/500], global_step: 2210, lr: 0.001000, acc: 0.710937, norm_edit_dis: 0.951183, CTCLoss: 1.643868, SARLoss: 0.333468, loss: 1.963903, avg_reader_cost: 0.00801 s, avg_batch_cost: 1.19596 s, avg_samples: 128.0, ips: 107.02715 samples/s, eta: 1 day, 14:52:27\n",
            "[2023/02/17 20:21:34] ppocr INFO: epoch: [10/500], global_step: 2220, lr: 0.001000, acc: 0.726562, norm_edit_dis: 0.954441, CTCLoss: 1.493947, SARLoss: 0.341039, loss: 1.799082, avg_reader_cost: 0.00824 s, avg_batch_cost: 1.11017 s, avg_samples: 128.0, ips: 115.29791 samples/s, eta: 1 day, 14:51:36\n",
            "[2023/02/17 20:21:46] ppocr INFO: epoch: [10/500], global_step: 2230, lr: 0.001000, acc: 0.718750, norm_edit_dis: 0.956554, CTCLoss: 1.477307, SARLoss: 0.336534, loss: 1.792374, avg_reader_cost: 0.00579 s, avg_batch_cost: 1.25747 s, avg_samples: 128.0, ips: 101.79130 samples/s, eta: 1 day, 14:52:04\n",
            "[2023/02/17 20:21:57] ppocr INFO: epoch: [10/500], global_step: 2240, lr: 0.001000, acc: 0.703125, norm_edit_dis: 0.953369, CTCLoss: 1.579149, SARLoss: 0.339519, loss: 1.926065, avg_reader_cost: 0.00625 s, avg_batch_cost: 1.08806 s, avg_samples: 128.0, ips: 117.64030 samples/s, eta: 1 day, 14:51:02\n",
            "[2023/02/17 20:22:09] ppocr INFO: epoch: [10/500], global_step: 2250, lr: 0.001000, acc: 0.718750, norm_edit_dis: 0.953210, CTCLoss: 1.579149, SARLoss: 0.339635, loss: 1.915360, avg_reader_cost: 0.00767 s, avg_batch_cost: 1.20469 s, avg_samples: 128.0, ips: 106.25136 samples/s, eta: 1 day, 14:51:02\n",
            "[2023/02/17 20:22:21] ppocr INFO: epoch: [10/500], global_step: 2260, lr: 0.001000, acc: 0.691406, norm_edit_dis: 0.951661, CTCLoss: 1.692035, SARLoss: 0.344376, loss: 2.039645, avg_reader_cost: 0.00728 s, avg_batch_cost: 1.21629 s, avg_samples: 128.0, ips: 105.23842 samples/s, eta: 1 day, 14:51:07\n",
            "[2023/02/17 20:22:32] ppocr INFO: epoch: [10/500], global_step: 2270, lr: 0.001000, acc: 0.687500, norm_edit_dis: 0.953011, CTCLoss: 1.666070, SARLoss: 0.352391, loss: 2.015500, avg_reader_cost: 0.00508 s, avg_batch_cost: 1.05311 s, avg_samples: 128.0, ips: 121.54511 samples/s, eta: 1 day, 14:49:48\n",
            "[2023/02/17 20:22:45] ppocr INFO: epoch: [10/500], global_step: 2280, lr: 0.001000, acc: 0.722656, norm_edit_dis: 0.957365, CTCLoss: 1.327627, SARLoss: 0.342284, loss: 1.666063, avg_reader_cost: 0.00572 s, avg_batch_cost: 1.25992 s, avg_samples: 128.0, ips: 101.59402 samples/s, eta: 1 day, 14:50:16\n",
            "[2023/02/17 20:22:55] ppocr INFO: epoch: [10/500], global_step: 2290, lr: 0.001000, acc: 0.714844, norm_edit_dis: 0.954810, CTCLoss: 1.512422, SARLoss: 0.331448, loss: 1.845638, avg_reader_cost: 0.00688 s, avg_batch_cost: 1.07831 s, avg_samples: 128.0, ips: 118.70432 samples/s, eta: 1 day, 14:49:11\n",
            "[2023/02/17 20:23:08] ppocr INFO: epoch: [10/500], global_step: 2300, lr: 0.001000, acc: 0.695312, norm_edit_dis: 0.947343, CTCLoss: 1.773237, SARLoss: 0.340507, loss: 2.105110, avg_reader_cost: 0.00734 s, avg_batch_cost: 1.22070 s, avg_samples: 128.0, ips: 104.85802 samples/s, eta: 1 day, 14:49:19\n",
            "[2023/02/17 20:23:19] ppocr INFO: epoch: [10/500], global_step: 2310, lr: 0.001000, acc: 0.707031, norm_edit_dis: 0.950209, CTCLoss: 1.566635, SARLoss: 0.326109, loss: 1.915047, avg_reader_cost: 0.00811 s, avg_batch_cost: 1.17685 s, avg_samples: 128.0, ips: 108.76538 samples/s, eta: 1 day, 14:49:04\n",
            "[2023/02/17 20:23:30] ppocr INFO: epoch: [10/500], global_step: 2320, lr: 0.001000, acc: 0.734375, norm_edit_dis: 0.955590, CTCLoss: 1.537834, SARLoss: 0.326596, loss: 1.847390, avg_reader_cost: 0.00610 s, avg_batch_cost: 1.03150 s, avg_samples: 128.0, ips: 124.09079 samples/s, eta: 1 day, 14:47:35\n",
            "[2023/02/17 20:23:43] ppocr INFO: epoch: [10/500], global_step: 2330, lr: 0.001000, acc: 0.722656, norm_edit_dis: 0.954425, CTCLoss: 1.494888, SARLoss: 0.328395, loss: 1.816716, avg_reader_cost: 0.00729 s, avg_batch_cost: 1.28260 s, avg_samples: 128.0, ips: 99.79763 samples/s, eta: 1 day, 14:48:15\n",
            "[2023/02/17 20:23:53] ppocr INFO: epoch: [10/500], global_step: 2340, lr: 0.001000, acc: 0.738281, norm_edit_dis: 0.956440, CTCLoss: 1.378506, SARLoss: 0.318792, loss: 1.719130, avg_reader_cost: 0.00727 s, avg_batch_cost: 1.04913 s, avg_samples: 128.0, ips: 122.00617 samples/s, eta: 1 day, 14:46:56\n",
            "[2023/02/17 20:24:05] ppocr INFO: epoch: [10/500], global_step: 2350, lr: 0.001000, acc: 0.730469, norm_edit_dis: 0.956129, CTCLoss: 1.618052, SARLoss: 0.326950, loss: 1.942720, avg_reader_cost: 0.00952 s, avg_batch_cost: 1.21277 s, avg_samples: 128.0, ips: 105.54362 samples/s, eta: 1 day, 14:46:59\n",
            "[2023/02/17 20:24:17] ppocr INFO: epoch: [10/500], global_step: 2360, lr: 0.001000, acc: 0.722656, norm_edit_dis: 0.952770, CTCLoss: 1.616233, SARLoss: 0.337939, loss: 1.941279, avg_reader_cost: 0.00703 s, avg_batch_cost: 1.20031 s, avg_samples: 128.0, ips: 106.63904 samples/s, eta: 1 day, 14:46:57\n",
            "[2023/02/17 20:24:28] ppocr INFO: epoch: [10/500], global_step: 2370, lr: 0.001000, acc: 0.734375, norm_edit_dis: 0.955364, CTCLoss: 1.485834, SARLoss: 0.330219, loss: 1.816016, avg_reader_cost: 0.00692 s, avg_batch_cost: 1.06969 s, avg_samples: 128.0, ips: 119.66082 samples/s, eta: 1 day, 14:45:49\n",
            "[2023/02/17 20:24:41] ppocr INFO: epoch: [10/500], global_step: 2380, lr: 0.001000, acc: 0.734375, norm_edit_dis: 0.957421, CTCLoss: 1.450555, SARLoss: 0.320299, loss: 1.780846, avg_reader_cost: 0.00934 s, avg_batch_cost: 1.28752 s, avg_samples: 128.0, ips: 99.41605 samples/s, eta: 1 day, 14:46:30\n",
            "[2023/02/17 20:24:52] ppocr INFO: epoch: [10/500], global_step: 2390, lr: 0.001000, acc: 0.730469, norm_edit_dis: 0.955638, CTCLoss: 1.447046, SARLoss: 0.329044, loss: 1.744685, avg_reader_cost: 0.00379 s, avg_batch_cost: 1.08201 s, avg_samples: 128.0, ips: 118.29871 samples/s, eta: 1 day, 14:45:29\n",
            "[2023/02/17 20:25:04] ppocr INFO: epoch: [10/500], global_step: 2400, lr: 0.001000, acc: 0.714844, norm_edit_dis: 0.955617, CTCLoss: 1.440808, SARLoss: 0.326380, loss: 1.763517, avg_reader_cost: 0.00682 s, avg_batch_cost: 1.21156 s, avg_samples: 128.0, ips: 105.64883 samples/s, eta: 1 day, 14:45:32\n",
            "[2023/02/17 20:25:12] ppocr INFO: epoch: [10/500], global_step: 2410, lr: 0.001000, acc: 0.714844, norm_edit_dis: 0.953516, CTCLoss: 1.420570, SARLoss: 0.326380, loss: 1.733489, avg_reader_cost: 0.00374 s, avg_batch_cost: 0.84433 s, avg_samples: 128.0, ips: 151.59991 samples/s, eta: 1 day, 14:42:35\n",
            "[2023/02/17 20:25:13] ppocr INFO: save model in /content/drive/MyDrive/output_my_dataset/v3_arabic_mobile/latest\n",
            "[2023/02/17 20:25:14] ppocr INFO: save model in /content/drive/MyDrive/output_my_dataset/v3_arabic_mobile/iter_epoch_10\n",
            "[2023/02/17 20:25:32] ppocr INFO: epoch: [11/500], global_step: 2420, lr: 0.001000, acc: 0.710937, norm_edit_dis: 0.952797, CTCLoss: 1.353900, SARLoss: 0.334632, loss: 1.698148, avg_reader_cost: 0.52839 s, avg_batch_cost: 2.02901 s, avg_samples: 128.0, ips: 63.08484 samples/s, eta: 1 day, 14:49:17\n",
            "[2023/02/17 20:25:44] ppocr INFO: epoch: [11/500], global_step: 2430, lr: 0.001000, acc: 0.718750, norm_edit_dis: 0.954410, CTCLoss: 1.338277, SARLoss: 0.334694, loss: 1.685279, avg_reader_cost: 0.00447 s, avg_batch_cost: 1.13618 s, avg_samples: 128.0, ips: 112.65822 samples/s, eta: 1 day, 14:48:43\n",
            "[2023/02/17 20:25:57] ppocr INFO: epoch: [11/500], global_step: 2440, lr: 0.001000, acc: 0.722656, norm_edit_dis: 0.955886, CTCLoss: 1.460868, SARLoss: 0.329761, loss: 1.796962, avg_reader_cost: 0.00804 s, avg_batch_cost: 1.27442 s, avg_samples: 128.0, ips: 100.43773 samples/s, eta: 1 day, 14:49:15\n",
            "[2023/02/17 20:26:08] ppocr INFO: epoch: [11/500], global_step: 2450, lr: 0.001000, acc: 0.730469, norm_edit_dis: 0.956049, CTCLoss: 1.479521, SARLoss: 0.337972, loss: 1.811230, avg_reader_cost: 0.00838 s, avg_batch_cost: 1.12399 s, avg_samples: 128.0, ips: 113.88002 samples/s, eta: 1 day, 14:48:34\n",
            "[2023/02/17 20:26:19] ppocr INFO: epoch: [11/500], global_step: 2460, lr: 0.001000, acc: 0.722656, norm_edit_dis: 0.955305, CTCLoss: 1.519520, SARLoss: 0.337972, loss: 1.855379, avg_reader_cost: 0.00972 s, avg_batch_cost: 1.13464 s, avg_samples: 128.0, ips: 112.81067 samples/s, eta: 1 day, 14:47:59\n",
            "[2023/02/17 20:26:32] ppocr INFO: epoch: [11/500], global_step: 2470, lr: 0.001000, acc: 0.753906, norm_edit_dis: 0.958813, CTCLoss: 1.322569, SARLoss: 0.335587, loss: 1.659004, avg_reader_cost: 0.01002 s, avg_batch_cost: 1.26735 s, avg_samples: 128.0, ips: 100.99792 samples/s, eta: 1 day, 14:48:27\n",
            "[2023/02/17 20:26:42] ppocr INFO: epoch: [11/500], global_step: 2480, lr: 0.001000, acc: 0.753906, norm_edit_dis: 0.958159, CTCLoss: 1.344315, SARLoss: 0.336020, loss: 1.684330, avg_reader_cost: 0.00859 s, avg_batch_cost: 1.04917 s, avg_samples: 128.0, ips: 122.00115 samples/s, eta: 1 day, 14:47:11\n",
            "[2023/02/17 20:26:55] ppocr INFO: epoch: [11/500], global_step: 2490, lr: 0.001000, acc: 0.722656, norm_edit_dis: 0.954363, CTCLoss: 1.502345, SARLoss: 0.333481, loss: 1.815328, avg_reader_cost: 0.00783 s, avg_batch_cost: 1.21564 s, avg_samples: 128.0, ips: 105.29475 samples/s, eta: 1 day, 14:47:15\n",
            "[2023/02/17 20:27:07] ppocr INFO: epoch: [11/500], global_step: 2500, lr: 0.001000, acc: 0.734375, norm_edit_dis: 0.956975, CTCLoss: 1.375056, SARLoss: 0.330809, loss: 1.697606, avg_reader_cost: 0.00963 s, avg_batch_cost: 1.19562 s, avg_samples: 128.0, ips: 107.05777 samples/s, eta: 1 day, 14:47:09\n",
            "[2023/02/17 20:27:18] ppocr INFO: epoch: [11/500], global_step: 2510, lr: 0.001000, acc: 0.734375, norm_edit_dis: 0.959366, CTCLoss: 1.309950, SARLoss: 0.332071, loss: 1.648618, avg_reader_cost: 0.00661 s, avg_batch_cost: 1.11017 s, avg_samples: 128.0, ips: 115.29785 samples/s, eta: 1 day, 14:46:23\n",
            "[2023/02/17 20:27:30] ppocr INFO: epoch: [11/500], global_step: 2520, lr: 0.001000, acc: 0.738281, norm_edit_dis: 0.957913, CTCLoss: 1.315153, SARLoss: 0.328385, loss: 1.647146, avg_reader_cost: 0.01001 s, avg_batch_cost: 1.28080 s, avg_samples: 128.0, ips: 99.93720 samples/s, eta: 1 day, 14:46:57\n",
            "[2023/02/17 20:27:41] ppocr INFO: epoch: [11/500], global_step: 2530, lr: 0.001000, acc: 0.734375, norm_edit_dis: 0.955061, CTCLoss: 1.469626, SARLoss: 0.326403, loss: 1.832520, avg_reader_cost: 0.00622 s, avg_batch_cost: 1.06642 s, avg_samples: 128.0, ips: 120.02725 samples/s, eta: 1 day, 14:45:50\n",
            "[2023/02/17 20:27:54] ppocr INFO: epoch: [11/500], global_step: 2540, lr: 0.001000, acc: 0.734375, norm_edit_dis: 0.953566, CTCLoss: 1.552072, SARLoss: 0.326770, loss: 1.848683, avg_reader_cost: 0.00884 s, avg_batch_cost: 1.25963 s, avg_samples: 128.0, ips: 101.61698 samples/s, eta: 1 day, 14:46:14\n",
            "[2023/02/17 20:28:06] ppocr INFO: epoch: [11/500], global_step: 2550, lr: 0.001000, acc: 0.726562, norm_edit_dis: 0.957139, CTCLoss: 1.457417, SARLoss: 0.326309, loss: 1.773370, avg_reader_cost: 0.00758 s, avg_batch_cost: 1.20527 s, avg_samples: 128.0, ips: 106.20024 samples/s, eta: 1 day, 14:46:12\n",
            "[2023/02/17 20:28:17] ppocr INFO: epoch: [11/500], global_step: 2560, lr: 0.001000, acc: 0.730469, norm_edit_dis: 0.958661, CTCLoss: 1.373380, SARLoss: 0.332307, loss: 1.714584, avg_reader_cost: 0.00635 s, avg_batch_cost: 1.10739 s, avg_samples: 128.0, ips: 115.58682 samples/s, eta: 1 day, 14:45:26\n",
            "[2023/02/17 20:28:30] ppocr INFO: epoch: [11/500], global_step: 2570, lr: 0.001000, acc: 0.730469, norm_edit_dis: 0.958180, CTCLoss: 1.428694, SARLoss: 0.332068, loss: 1.737210, avg_reader_cost: 0.01338 s, avg_batch_cost: 1.26491 s, avg_samples: 128.0, ips: 101.19268 samples/s, eta: 1 day, 14:45:51\n",
            "[2023/02/17 20:28:41] ppocr INFO: epoch: [11/500], global_step: 2580, lr: 0.001000, acc: 0.718750, norm_edit_dis: 0.953869, CTCLoss: 1.478749, SARLoss: 0.330867, loss: 1.781931, avg_reader_cost: 0.00625 s, avg_batch_cost: 1.09882 s, avg_samples: 128.0, ips: 116.48866 samples/s, eta: 1 day, 14:45:01\n",
            "[2023/02/17 20:28:53] ppocr INFO: epoch: [11/500], global_step: 2590, lr: 0.001000, acc: 0.722656, norm_edit_dis: 0.955902, CTCLoss: 1.410001, SARLoss: 0.327585, loss: 1.757533, avg_reader_cost: 0.00785 s, avg_batch_cost: 1.22034 s, avg_samples: 128.0, ips: 104.88848 samples/s, eta: 1 day, 14:45:06\n",
            "[2023/02/17 20:29:05] ppocr INFO: epoch: [11/500], global_step: 2600, lr: 0.001000, acc: 0.734375, norm_edit_dis: 0.958141, CTCLoss: 1.411934, SARLoss: 0.334787, loss: 1.753199, avg_reader_cost: 0.00469 s, avg_batch_cost: 1.21633 s, avg_samples: 128.0, ips: 105.23431 samples/s, eta: 1 day, 14:45:09\n",
            "[2023/02/17 20:29:16] ppocr INFO: epoch: [11/500], global_step: 2610, lr: 0.001000, acc: 0.726562, norm_edit_dis: 0.958141, CTCLoss: 1.478480, SARLoss: 0.338680, loss: 1.812451, avg_reader_cost: 0.00649 s, avg_batch_cost: 1.07840 s, avg_samples: 128.0, ips: 118.69483 samples/s, eta: 1 day, 14:44:10\n",
            "[2023/02/17 20:29:29] ppocr INFO: epoch: [11/500], global_step: 2620, lr: 0.001000, acc: 0.726562, norm_edit_dis: 0.952963, CTCLoss: 1.567568, SARLoss: 0.338560, loss: 1.897117, avg_reader_cost: 0.00798 s, avg_batch_cost: 1.29233 s, avg_samples: 128.0, ips: 99.04598 samples/s, eta: 1 day, 14:44:47\n",
            "[2023/02/17 20:29:39] ppocr INFO: epoch: [11/500], global_step: 2630, lr: 0.001000, acc: 0.746094, norm_edit_dis: 0.960074, CTCLoss: 1.299764, SARLoss: 0.331658, loss: 1.647097, avg_reader_cost: 0.00535 s, avg_batch_cost: 1.06708 s, avg_samples: 128.0, ips: 119.95318 samples/s, eta: 1 day, 14:43:44\n",
            "[2023/02/17 20:29:51] ppocr INFO: epoch: [11/500], global_step: 2640, lr: 0.001000, acc: 0.746094, norm_edit_dis: 0.960339, CTCLoss: 1.339514, SARLoss: 0.326403, loss: 1.652400, avg_reader_cost: 0.00612 s, avg_batch_cost: 1.19435 s, avg_samples: 128.0, ips: 107.17119 samples/s, eta: 1 day, 14:43:37\n",
            "[2023/02/17 20:30:00] ppocr INFO: epoch: [11/500], global_step: 2650, lr: 0.001000, acc: 0.734375, norm_edit_dis: 0.958366, CTCLoss: 1.462031, SARLoss: 0.322054, loss: 1.789890, avg_reader_cost: 0.00645 s, avg_batch_cost: 0.91544 s, avg_samples: 128.0, ips: 139.82296 samples/s, eta: 1 day, 14:41:26\n",
            "[2023/02/17 20:30:01] ppocr INFO: epoch: [11/500], global_step: 2651, lr: 0.001000, acc: 0.738281, norm_edit_dis: 0.959919, CTCLoss: 1.462031, SARLoss: 0.322054, loss: 1.779647, avg_reader_cost: 0.00002 s, avg_batch_cost: 0.08453 s, avg_samples: 12.8, ips: 151.42037 samples/s, eta: 1 day, 14:41:10\n",
            "[2023/02/17 20:30:02] ppocr INFO: save model in /content/drive/MyDrive/output_my_dataset/v3_arabic_mobile/latest\n",
            "[2023/02/17 20:30:17] ppocr INFO: epoch: [12/500], global_step: 2660, lr: 0.001000, acc: 0.742187, norm_edit_dis: 0.961659, CTCLoss: 1.397026, SARLoss: 0.319614, loss: 1.719514, avg_reader_cost: 0.31001 s, avg_batch_cost: 1.58047 s, avg_samples: 115.2, ips: 72.88987 samples/s, eta: 1 day, 14:44:48\n",
            "[2023/02/17 20:30:29] ppocr INFO: epoch: [12/500], global_step: 2670, lr: 0.001000, acc: 0.750000, norm_edit_dis: 0.962947, CTCLoss: 1.255253, SARLoss: 0.322852, loss: 1.580949, avg_reader_cost: 0.00572 s, avg_batch_cost: 1.17634 s, avg_samples: 128.0, ips: 108.81216 samples/s, eta: 1 day, 14:44:33\n",
            "[2023/02/17 20:30:42] ppocr INFO: epoch: [12/500], global_step: 2680, lr: 0.001000, acc: 0.738281, norm_edit_dis: 0.959821, CTCLoss: 1.240282, SARLoss: 0.333065, loss: 1.580648, avg_reader_cost: 0.01083 s, avg_batch_cost: 1.26349 s, avg_samples: 128.0, ips: 101.30682 samples/s, eta: 1 day, 14:44:56\n",
            "[2023/02/17 20:30:52] ppocr INFO: epoch: [12/500], global_step: 2690, lr: 0.001000, acc: 0.734375, norm_edit_dis: 0.956806, CTCLoss: 1.292491, SARLoss: 0.329540, loss: 1.644621, avg_reader_cost: 0.00594 s, avg_batch_cost: 1.04953 s, avg_samples: 128.0, ips: 121.95975 samples/s, eta: 1 day, 14:43:46\n",
            "[2023/02/17 20:31:04] ppocr INFO: epoch: [12/500], global_step: 2700, lr: 0.001000, acc: 0.734375, norm_edit_dis: 0.956998, CTCLoss: 1.344850, SARLoss: 0.326302, loss: 1.670025, avg_reader_cost: 0.00856 s, avg_batch_cost: 1.22127 s, avg_samples: 128.0, ips: 104.80904 samples/s, eta: 1 day, 14:43:50\n",
            "[2023/02/17 20:31:17] ppocr INFO: epoch: [12/500], global_step: 2710, lr: 0.001000, acc: 0.738281, norm_edit_dis: 0.958884, CTCLoss: 1.347479, SARLoss: 0.335548, loss: 1.668683, avg_reader_cost: 0.00864 s, avg_batch_cost: 1.23557 s, avg_samples: 128.0, ips: 103.59611 samples/s, eta: 1 day, 14:44:01\n",
            "[2023/02/17 20:31:27] ppocr INFO: epoch: [12/500], global_step: 2720, lr: 0.001000, acc: 0.761719, norm_edit_dis: 0.961840, CTCLoss: 1.247072, SARLoss: 0.341140, loss: 1.579603, avg_reader_cost: 0.00982 s, avg_batch_cost: 1.07684 s, avg_samples: 128.0, ips: 118.86678 samples/s, eta: 1 day, 14:43:03\n",
            "[2023/02/17 20:31:40] ppocr INFO: epoch: [12/500], global_step: 2730, lr: 0.001000, acc: 0.753906, norm_edit_dis: 0.962503, CTCLoss: 1.202656, SARLoss: 0.327858, loss: 1.533578, avg_reader_cost: 0.00920 s, avg_batch_cost: 1.25595 s, avg_samples: 128.0, ips: 101.91499 samples/s, eta: 1 day, 14:43:22\n",
            "[2023/02/17 20:31:51] ppocr INFO: epoch: [12/500], global_step: 2740, lr: 0.001000, acc: 0.757812, norm_edit_dis: 0.963846, CTCLoss: 1.108170, SARLoss: 0.322913, loss: 1.409508, avg_reader_cost: 0.00595 s, avg_batch_cost: 1.09041 s, avg_samples: 128.0, ips: 117.38754 samples/s, eta: 1 day, 14:42:30\n",
            "[2023/02/17 20:32:03] ppocr INFO: epoch: [12/500], global_step: 2750, lr: 0.001000, acc: 0.750000, norm_edit_dis: 0.961632, CTCLoss: 1.175168, SARLoss: 0.326128, loss: 1.517858, avg_reader_cost: 0.00913 s, avg_batch_cost: 1.22925 s, avg_samples: 128.0, ips: 104.12862 samples/s, eta: 1 day, 14:42:38\n",
            "[2023/02/17 20:32:16] ppocr INFO: epoch: [12/500], global_step: 2760, lr: 0.001000, acc: 0.746094, norm_edit_dis: 0.960827, CTCLoss: 1.276224, SARLoss: 0.325309, loss: 1.615729, avg_reader_cost: 0.00699 s, avg_batch_cost: 1.23827 s, avg_samples: 128.0, ips: 103.37035 samples/s, eta: 1 day, 14:42:50\n",
            "[2023/02/17 20:32:26] ppocr INFO: epoch: [12/500], global_step: 2770, lr: 0.001000, acc: 0.742187, norm_edit_dis: 0.959409, CTCLoss: 1.319079, SARLoss: 0.324569, loss: 1.648690, avg_reader_cost: 0.00633 s, avg_batch_cost: 1.04275 s, avg_samples: 128.0, ips: 122.75200 samples/s, eta: 1 day, 14:41:38\n",
            "[2023/02/17 20:32:39] ppocr INFO: epoch: [12/500], global_step: 2780, lr: 0.001000, acc: 0.734375, norm_edit_dis: 0.955205, CTCLoss: 1.420716, SARLoss: 0.335349, loss: 1.763645, avg_reader_cost: 0.01096 s, avg_batch_cost: 1.27390 s, avg_samples: 128.0, ips: 100.47870 samples/s, eta: 1 day, 14:42:05\n",
            "[2023/02/17 20:32:50] ppocr INFO: epoch: [12/500], global_step: 2790, lr: 0.001000, acc: 0.765625, norm_edit_dis: 0.960933, CTCLoss: 1.424323, SARLoss: 0.332864, loss: 1.775633, avg_reader_cost: 0.00919 s, avg_batch_cost: 1.10415 s, avg_samples: 128.0, ips: 115.92601 samples/s, eta: 1 day, 14:41:19\n",
            "[2023/02/17 20:33:02] ppocr INFO: epoch: [12/500], global_step: 2800, lr: 0.001000, acc: 0.734375, norm_edit_dis: 0.957911, CTCLoss: 1.437347, SARLoss: 0.324622, loss: 1.785864, avg_reader_cost: 0.01043 s, avg_batch_cost: 1.17909 s, avg_samples: 128.0, ips: 108.55840 samples/s, eta: 1 day, 14:41:06\n",
            "[2023/02/17 20:33:14] ppocr INFO: epoch: [12/500], global_step: 2810, lr: 0.001000, acc: 0.730469, norm_edit_dis: 0.955794, CTCLoss: 1.389359, SARLoss: 0.332448, loss: 1.700561, avg_reader_cost: 0.00705 s, avg_batch_cost: 1.21281 s, avg_samples: 128.0, ips: 105.53975 samples/s, eta: 1 day, 14:41:06\n",
            "[2023/02/17 20:33:24] ppocr INFO: epoch: [12/500], global_step: 2820, lr: 0.001000, acc: 0.757812, norm_edit_dis: 0.960673, CTCLoss: 1.366222, SARLoss: 0.332425, loss: 1.683520, avg_reader_cost: 0.00821 s, avg_batch_cost: 1.06537 s, avg_samples: 128.0, ips: 120.14643 samples/s, eta: 1 day, 14:40:05\n",
            "[2023/02/17 20:33:37] ppocr INFO: epoch: [12/500], global_step: 2830, lr: 0.001000, acc: 0.757812, norm_edit_dis: 0.961457, CTCLoss: 1.346426, SARLoss: 0.332531, loss: 1.667826, avg_reader_cost: 0.00799 s, avg_batch_cost: 1.27041 s, avg_samples: 128.0, ips: 100.75471 samples/s, eta: 1 day, 14:40:30\n",
            "[2023/02/17 20:33:49] ppocr INFO: epoch: [12/500], global_step: 2840, lr: 0.001000, acc: 0.750000, norm_edit_dis: 0.957500, CTCLoss: 1.277294, SARLoss: 0.334096, loss: 1.570461, avg_reader_cost: 0.00753 s, avg_batch_cost: 1.14477 s, avg_samples: 128.0, ips: 111.81330 samples/s, eta: 1 day, 14:40:02\n",
            "[2023/02/17 20:34:00] ppocr INFO: epoch: [12/500], global_step: 2850, lr: 0.001000, acc: 0.730469, norm_edit_dis: 0.954871, CTCLoss: 1.355956, SARLoss: 0.331619, loss: 1.698490, avg_reader_cost: 0.00868 s, avg_batch_cost: 1.15454 s, avg_samples: 128.0, ips: 110.86670 samples/s, eta: 1 day, 14:39:38\n",
            "[2023/02/17 20:34:13] ppocr INFO: epoch: [12/500], global_step: 2860, lr: 0.001000, acc: 0.738281, norm_edit_dis: 0.956421, CTCLoss: 1.364991, SARLoss: 0.332597, loss: 1.703066, avg_reader_cost: 0.00649 s, avg_batch_cost: 1.24686 s, avg_samples: 128.0, ips: 102.65792 samples/s, eta: 1 day, 14:39:53\n",
            "[2023/02/17 20:34:23] ppocr INFO: epoch: [12/500], global_step: 2870, lr: 0.001000, acc: 0.761719, norm_edit_dis: 0.960666, CTCLoss: 1.244207, SARLoss: 0.331217, loss: 1.601192, avg_reader_cost: 0.00660 s, avg_batch_cost: 1.04586 s, avg_samples: 128.0, ips: 122.38710 samples/s, eta: 1 day, 14:38:45\n",
            "[2023/02/17 20:34:36] ppocr INFO: epoch: [12/500], global_step: 2880, lr: 0.001000, acc: 0.757812, norm_edit_dis: 0.962981, CTCLoss: 1.219672, SARLoss: 0.323802, loss: 1.566965, avg_reader_cost: 0.00727 s, avg_batch_cost: 1.25750 s, avg_samples: 128.0, ips: 101.78938 samples/s, eta: 1 day, 14:39:03\n",
            "[2023/02/17 20:34:45] ppocr INFO: epoch: [12/500], global_step: 2890, lr: 0.001000, acc: 0.765625, norm_edit_dis: 0.964396, CTCLoss: 1.188692, SARLoss: 0.323802, loss: 1.510212, avg_reader_cost: 0.00233 s, avg_batch_cost: 0.87921 s, avg_samples: 128.0, ips: 145.58483 samples/s, eta: 1 day, 14:36:48\n",
            "[2023/02/17 20:34:46] ppocr INFO: epoch: [12/500], global_step: 2892, lr: 0.001000, acc: 0.765625, norm_edit_dis: 0.964702, CTCLoss: 1.177058, SARLoss: 0.319658, loss: 1.494774, avg_reader_cost: 0.00004 s, avg_batch_cost: 0.16797 s, avg_samples: 25.6, ips: 152.40465 samples/s, eta: 1 day, 14:36:18\n",
            "[2023/02/17 20:34:47] ppocr INFO: save model in /content/drive/MyDrive/output_my_dataset/v3_arabic_mobile/latest\n",
            "[2023/02/17 20:35:01] ppocr INFO: epoch: [13/500], global_step: 2900, lr: 0.001000, acc: 0.773437, norm_edit_dis: 0.964724, CTCLoss: 1.111344, SARLoss: 0.322281, loss: 1.447825, avg_reader_cost: 0.43035 s, avg_batch_cost: 1.52191 s, avg_samples: 102.4, ips: 67.28398 samples/s, eta: 1 day, 14:40:02\n",
            "[2023/02/17 20:35:14] ppocr INFO: epoch: [13/500], global_step: 2910, lr: 0.001000, acc: 0.761719, norm_edit_dis: 0.962447, CTCLoss: 1.177045, SARLoss: 0.319997, loss: 1.497595, avg_reader_cost: 0.00500 s, avg_batch_cost: 1.21546 s, avg_samples: 128.0, ips: 105.31034 samples/s, eta: 1 day, 14:40:03\n",
            "[2023/02/17 20:35:26] ppocr INFO: epoch: [13/500], global_step: 2920, lr: 0.001000, acc: 0.757812, norm_edit_dis: 0.963083, CTCLoss: 1.164205, SARLoss: 0.315636, loss: 1.480386, avg_reader_cost: 0.00751 s, avg_batch_cost: 1.21322 s, avg_samples: 128.0, ips: 105.50395 samples/s, eta: 1 day, 14:40:03\n",
            "[2023/02/17 20:35:36] ppocr INFO: epoch: [13/500], global_step: 2930, lr: 0.001000, acc: 0.757812, norm_edit_dis: 0.964282, CTCLoss: 1.100772, SARLoss: 0.319810, loss: 1.449150, avg_reader_cost: 0.00342 s, avg_batch_cost: 1.05696 s, avg_samples: 128.0, ips: 121.10257 samples/s, eta: 1 day, 14:39:00\n",
            "[2023/02/17 20:35:49] ppocr INFO: epoch: [13/500], global_step: 2940, lr: 0.000999, acc: 0.757812, norm_edit_dis: 0.960408, CTCLoss: 1.283950, SARLoss: 0.333052, loss: 1.629640, avg_reader_cost: 0.01105 s, avg_batch_cost: 1.27128 s, avg_samples: 128.0, ips: 100.68554 samples/s, eta: 1 day, 14:39:24\n",
            "[2023/02/17 20:36:00] ppocr INFO: epoch: [13/500], global_step: 2950, lr: 0.000999, acc: 0.734375, norm_edit_dis: 0.958127, CTCLoss: 1.421374, SARLoss: 0.332859, loss: 1.746089, avg_reader_cost: 0.00677 s, avg_batch_cost: 1.14113 s, avg_samples: 128.0, ips: 112.16971 samples/s, eta: 1 day, 14:38:55\n",
            "[2023/02/17 20:36:12] ppocr INFO: epoch: [13/500], global_step: 2960, lr: 0.000999, acc: 0.750000, norm_edit_dis: 0.958735, CTCLoss: 1.454398, SARLoss: 0.313373, loss: 1.759021, avg_reader_cost: 0.00710 s, avg_batch_cost: 1.16259 s, avg_samples: 128.0, ips: 110.09897 samples/s, eta: 1 day, 14:38:35\n",
            "[2023/02/17 20:36:24] ppocr INFO: epoch: [13/500], global_step: 2970, lr: 0.000999, acc: 0.757812, norm_edit_dis: 0.961671, CTCLoss: 1.256800, SARLoss: 0.315435, loss: 1.564519, avg_reader_cost: 0.00854 s, avg_batch_cost: 1.23155 s, avg_samples: 128.0, ips: 103.93438 samples/s, eta: 1 day, 14:38:42\n",
            "[2023/02/17 20:36:35] ppocr INFO: epoch: [13/500], global_step: 2980, lr: 0.000999, acc: 0.742187, norm_edit_dis: 0.960090, CTCLoss: 1.391678, SARLoss: 0.321591, loss: 1.715400, avg_reader_cost: 0.00727 s, avg_batch_cost: 1.06593 s, avg_samples: 128.0, ips: 120.08274 samples/s, eta: 1 day, 14:37:43\n",
            "[2023/02/17 20:36:48] ppocr INFO: epoch: [13/500], global_step: 2990, lr: 0.000999, acc: 0.734375, norm_edit_dis: 0.956402, CTCLoss: 1.464335, SARLoss: 0.324839, loss: 1.777978, avg_reader_cost: 0.00664 s, avg_batch_cost: 1.26041 s, avg_samples: 128.0, ips: 101.55465 samples/s, eta: 1 day, 14:38:02\n",
            "[2023/02/17 20:37:00] ppocr INFO: epoch: [13/500], global_step: 3000, lr: 0.000999, acc: 0.734375, norm_edit_dis: 0.957600, CTCLoss: 1.294567, SARLoss: 0.321128, loss: 1.614936, avg_reader_cost: 0.00583 s, avg_batch_cost: 1.18656 s, avg_samples: 128.0, ips: 107.87473 samples/s, eta: 1 day, 14:37:51\n",
            "[2023/02/17 20:37:11] ppocr INFO: epoch: [13/500], global_step: 3010, lr: 0.000999, acc: 0.738281, norm_edit_dis: 0.958853, CTCLoss: 1.294567, SARLoss: 0.331820, loss: 1.620060, avg_reader_cost: 0.00701 s, avg_batch_cost: 1.11118 s, avg_samples: 128.0, ips: 115.19295 samples/s, eta: 1 day, 14:37:11\n",
            "[2023/02/17 20:37:24] ppocr INFO: epoch: [13/500], global_step: 3020, lr: 0.000999, acc: 0.753906, norm_edit_dis: 0.960180, CTCLoss: 1.220536, SARLoss: 0.344565, loss: 1.573243, avg_reader_cost: 0.00876 s, avg_batch_cost: 1.28719 s, avg_samples: 128.0, ips: 99.44118 samples/s, eta: 1 day, 14:37:40\n",
            "[2023/02/17 20:37:34] ppocr INFO: epoch: [13/500], global_step: 3030, lr: 0.000999, acc: 0.757812, norm_edit_dis: 0.960672, CTCLoss: 1.249645, SARLoss: 0.336372, loss: 1.598232, avg_reader_cost: 0.00399 s, avg_batch_cost: 1.04476 s, avg_samples: 128.0, ips: 122.51586 samples/s, eta: 1 day, 14:36:34\n",
            "[2023/02/17 20:37:46] ppocr INFO: epoch: [13/500], global_step: 3040, lr: 0.000999, acc: 0.765625, norm_edit_dis: 0.960309, CTCLoss: 1.249492, SARLoss: 0.330205, loss: 1.633021, avg_reader_cost: 0.00905 s, avg_batch_cost: 1.21601 s, avg_samples: 128.0, ips: 105.26223 samples/s, eta: 1 day, 14:36:35\n",
            "[2023/02/17 20:37:59] ppocr INFO: epoch: [13/500], global_step: 3050, lr: 0.000999, acc: 0.765625, norm_edit_dis: 0.962756, CTCLoss: 1.170729, SARLoss: 0.322008, loss: 1.483522, avg_reader_cost: 0.00723 s, avg_batch_cost: 1.26053 s, avg_samples: 128.0, ips: 101.54486 samples/s, eta: 1 day, 14:36:53\n",
            "[2023/02/17 20:38:09] ppocr INFO: epoch: [13/500], global_step: 3060, lr: 0.000999, acc: 0.757812, norm_edit_dis: 0.962756, CTCLoss: 1.133440, SARLoss: 0.323397, loss: 1.471514, avg_reader_cost: 0.00530 s, avg_batch_cost: 1.05356 s, avg_samples: 128.0, ips: 121.49254 samples/s, eta: 1 day, 14:35:51\n",
            "[2023/02/17 20:38:22] ppocr INFO: epoch: [13/500], global_step: 3070, lr: 0.000999, acc: 0.746094, norm_edit_dis: 0.962028, CTCLoss: 1.154692, SARLoss: 0.311550, loss: 1.485628, avg_reader_cost: 0.00864 s, avg_batch_cost: 1.23523 s, avg_samples: 128.0, ips: 103.62427 samples/s, eta: 1 day, 14:35:59\n",
            "[2023/02/17 20:38:33] ppocr INFO: epoch: [13/500], global_step: 3080, lr: 0.000999, acc: 0.742187, norm_edit_dis: 0.963541, CTCLoss: 1.178491, SARLoss: 0.332464, loss: 1.477794, avg_reader_cost: 0.00690 s, avg_batch_cost: 1.10788 s, avg_samples: 128.0, ips: 115.53615 samples/s, eta: 1 day, 14:35:18\n",
            "[2023/02/17 20:38:45] ppocr INFO: epoch: [13/500], global_step: 3090, lr: 0.000999, acc: 0.761719, norm_edit_dis: 0.964081, CTCLoss: 1.170662, SARLoss: 0.332173, loss: 1.463180, avg_reader_cost: 0.00751 s, avg_batch_cost: 1.17742 s, avg_samples: 128.0, ips: 108.71235 samples/s, eta: 1 day, 14:35:04\n",
            "[2023/02/17 20:38:57] ppocr INFO: epoch: [13/500], global_step: 3100, lr: 0.000999, acc: 0.781250, norm_edit_dis: 0.965592, CTCLoss: 1.136790, SARLoss: 0.318998, loss: 1.452630, avg_reader_cost: 0.00622 s, avg_batch_cost: 1.23936 s, avg_samples: 128.0, ips: 103.27926 samples/s, eta: 1 day, 14:35:14\n",
            "[2023/02/17 20:39:08] ppocr INFO: epoch: [13/500], global_step: 3110, lr: 0.000999, acc: 0.777344, norm_edit_dis: 0.966890, CTCLoss: 1.150310, SARLoss: 0.320657, loss: 1.475612, avg_reader_cost: 0.00328 s, avg_batch_cost: 1.04644 s, avg_samples: 128.0, ips: 122.31915 samples/s, eta: 1 day, 14:34:10\n",
            "[2023/02/17 20:39:20] ppocr INFO: epoch: [13/500], global_step: 3120, lr: 0.000999, acc: 0.781250, norm_edit_dis: 0.968111, CTCLoss: 1.053856, SARLoss: 0.322815, loss: 1.363217, avg_reader_cost: 0.00984 s, avg_batch_cost: 1.27420 s, avg_samples: 128.0, ips: 100.45520 samples/s, eta: 1 day, 14:34:33\n",
            "[2023/02/17 20:39:29] ppocr INFO: epoch: [13/500], global_step: 3130, lr: 0.000999, acc: 0.804687, norm_edit_dis: 0.969603, CTCLoss: 0.902773, SARLoss: 0.336489, loss: 1.263292, avg_reader_cost: 0.00509 s, avg_batch_cost: 0.91124 s, avg_samples: 128.0, ips: 140.46839 samples/s, eta: 1 day, 14:32:39\n",
            "[2023/02/17 20:39:32] ppocr INFO: epoch: [13/500], global_step: 3133, lr: 0.000999, acc: 0.796875, norm_edit_dis: 0.966855, CTCLoss: 0.945034, SARLoss: 0.338216, loss: 1.300617, avg_reader_cost: 0.00076 s, avg_batch_cost: 0.25678 s, avg_samples: 38.4, ips: 149.54426 samples/s, eta: 1 day, 14:31:59\n",
            "[2023/02/17 20:39:33] ppocr INFO: save model in /content/drive/MyDrive/output_my_dataset/v3_arabic_mobile/latest\n",
            "[2023/02/17 20:39:46] ppocr INFO: epoch: [14/500], global_step: 3140, lr: 0.000999, acc: 0.796875, norm_edit_dis: 0.967965, CTCLoss: 0.968377, SARLoss: 0.331672, loss: 1.303126, avg_reader_cost: 0.37967 s, avg_batch_cost: 1.37805 s, avg_samples: 89.6, ips: 65.01934 samples/s, eta: 1 day, 14:35:17\n",
            "[2023/02/17 20:39:58] ppocr INFO: epoch: [14/500], global_step: 3150, lr: 0.000999, acc: 0.765625, norm_edit_dis: 0.965704, CTCLoss: 1.047759, SARLoss: 0.321178, loss: 1.394044, avg_reader_cost: 0.00727 s, avg_batch_cost: 1.27187 s, avg_samples: 128.0, ips: 100.63892 samples/s, eta: 1 day, 14:35:38\n",
            "[2023/02/17 20:40:11] ppocr INFO: epoch: [14/500], global_step: 3160, lr: 0.000999, acc: 0.777344, norm_edit_dis: 0.965704, CTCLoss: 1.102333, SARLoss: 0.316044, loss: 1.412397, avg_reader_cost: 0.00763 s, avg_batch_cost: 1.21639 s, avg_samples: 128.0, ips: 105.22979 samples/s, eta: 1 day, 14:35:38\n",
            "[2023/02/17 20:40:21] ppocr INFO: epoch: [14/500], global_step: 3170, lr: 0.000999, acc: 0.792969, norm_edit_dis: 0.969118, CTCLoss: 1.070933, SARLoss: 0.316775, loss: 1.349811, avg_reader_cost: 0.00340 s, avg_batch_cost: 1.07456 s, avg_samples: 128.0, ips: 119.11850 samples/s, eta: 1 day, 14:34:45\n",
            "[2023/02/17 20:40:34] ppocr INFO: epoch: [14/500], global_step: 3180, lr: 0.000999, acc: 0.792969, norm_edit_dis: 0.969080, CTCLoss: 1.098398, SARLoss: 0.310946, loss: 1.367003, avg_reader_cost: 0.00798 s, avg_batch_cost: 1.26433 s, avg_samples: 128.0, ips: 101.23927 samples/s, eta: 1 day, 14:35:03\n",
            "[2023/02/17 20:40:45] ppocr INFO: epoch: [14/500], global_step: 3190, lr: 0.000999, acc: 0.781250, norm_edit_dis: 0.965939, CTCLoss: 1.143696, SARLoss: 0.318294, loss: 1.460908, avg_reader_cost: 0.00725 s, avg_batch_cost: 1.11958 s, avg_samples: 128.0, ips: 114.32880 samples/s, eta: 1 day, 14:34:28\n",
            "[2023/02/17 20:40:57] ppocr INFO: epoch: [14/500], global_step: 3200, lr: 0.000999, acc: 0.789062, norm_edit_dis: 0.967046, CTCLoss: 1.111652, SARLoss: 0.322839, loss: 1.456717, avg_reader_cost: 0.01125 s, avg_batch_cost: 1.15746 s, avg_samples: 128.0, ips: 110.58677 samples/s, eta: 1 day, 14:34:06\n",
            "[2023/02/17 20:41:09] ppocr INFO: epoch: [14/500], global_step: 3210, lr: 0.000999, acc: 0.789062, norm_edit_dis: 0.967904, CTCLoss: 1.102131, SARLoss: 0.326187, loss: 1.428428, avg_reader_cost: 0.00936 s, avg_batch_cost: 1.25000 s, avg_samples: 128.0, ips: 102.40011 samples/s, eta: 1 day, 14:34:19\n",
            "[2023/02/17 20:41:20] ppocr INFO: epoch: [14/500], global_step: 3220, lr: 0.000999, acc: 0.781250, norm_edit_dis: 0.968094, CTCLoss: 1.018965, SARLoss: 0.326187, loss: 1.344554, avg_reader_cost: 0.00537 s, avg_batch_cost: 1.04338 s, avg_samples: 128.0, ips: 122.67805 samples/s, eta: 1 day, 14:33:16\n",
            "[2023/02/17 20:41:32] ppocr INFO: epoch: [14/500], global_step: 3230, lr: 0.000999, acc: 0.781250, norm_edit_dis: 0.966694, CTCLoss: 1.096918, SARLoss: 0.321314, loss: 1.416846, avg_reader_cost: 0.00768 s, avg_batch_cost: 1.22920 s, avg_samples: 128.0, ips: 104.13241 samples/s, eta: 1 day, 14:33:20\n",
            "[2023/02/17 20:41:44] ppocr INFO: epoch: [14/500], global_step: 3240, lr: 0.000999, acc: 0.789062, norm_edit_dis: 0.963884, CTCLoss: 1.132028, SARLoss: 0.332863, loss: 1.467752, avg_reader_cost: 0.00708 s, avg_batch_cost: 1.14270 s, avg_samples: 128.0, ips: 112.01584 samples/s, eta: 1 day, 14:32:54\n",
            "[2023/02/17 20:41:55] ppocr INFO: epoch: [14/500], global_step: 3250, lr: 0.000999, acc: 0.796875, norm_edit_dis: 0.963950, CTCLoss: 1.097564, SARLoss: 0.330748, loss: 1.454989, avg_reader_cost: 0.00729 s, avg_batch_cost: 1.12061 s, avg_samples: 128.0, ips: 114.22307 samples/s, eta: 1 day, 14:32:19\n",
            "[2023/02/17 20:42:07] ppocr INFO: epoch: [14/500], global_step: 3260, lr: 0.000999, acc: 0.785156, norm_edit_dis: 0.965454, CTCLoss: 1.189035, SARLoss: 0.326614, loss: 1.503638, avg_reader_cost: 0.00584 s, avg_batch_cost: 1.26984 s, avg_samples: 128.0, ips: 100.79993 samples/s, eta: 1 day, 14:32:39\n",
            "[2023/02/17 20:42:18] ppocr INFO: epoch: [14/500], global_step: 3270, lr: 0.000999, acc: 0.785156, norm_edit_dis: 0.968987, CTCLoss: 1.070314, SARLoss: 0.326011, loss: 1.405112, avg_reader_cost: 0.00568 s, avg_batch_cost: 1.02752 s, avg_samples: 128.0, ips: 124.57180 samples/s, eta: 1 day, 14:31:31\n",
            "[2023/02/17 20:42:30] ppocr INFO: epoch: [14/500], global_step: 3280, lr: 0.000999, acc: 0.800781, norm_edit_dis: 0.968903, CTCLoss: 1.075635, SARLoss: 0.332237, loss: 1.420918, avg_reader_cost: 0.00860 s, avg_batch_cost: 1.21049 s, avg_samples: 128.0, ips: 105.74268 samples/s, eta: 1 day, 14:31:29\n",
            "[2023/02/17 20:42:41] ppocr INFO: epoch: [14/500], global_step: 3290, lr: 0.000999, acc: 0.800781, norm_edit_dis: 0.967703, CTCLoss: 1.032104, SARLoss: 0.340633, loss: 1.384433, avg_reader_cost: 0.00823 s, avg_batch_cost: 1.15042 s, avg_samples: 128.0, ips: 111.26378 samples/s, eta: 1 day, 14:31:05\n",
            "[2023/02/17 20:42:53] ppocr INFO: epoch: [14/500], global_step: 3300, lr: 0.000999, acc: 0.800781, norm_edit_dis: 0.968067, CTCLoss: 1.004030, SARLoss: 0.307461, loss: 1.301671, avg_reader_cost: 0.00463 s, avg_batch_cost: 1.12212 s, avg_samples: 128.0, ips: 114.07030 samples/s, eta: 1 day, 14:30:32\n",
            "[2023/02/17 20:43:05] ppocr INFO: epoch: [14/500], global_step: 3310, lr: 0.000999, acc: 0.777344, norm_edit_dis: 0.966881, CTCLoss: 1.044508, SARLoss: 0.313581, loss: 1.362126, avg_reader_cost: 0.01034 s, avg_batch_cost: 1.26318 s, avg_samples: 128.0, ips: 101.33123 samples/s, eta: 1 day, 14:30:48\n",
            "[2023/02/17 20:43:16] ppocr INFO: epoch: [14/500], global_step: 3320, lr: 0.000999, acc: 0.765625, norm_edit_dis: 0.965226, CTCLoss: 1.156412, SARLoss: 0.325885, loss: 1.473903, avg_reader_cost: 0.00717 s, avg_batch_cost: 1.09112 s, avg_samples: 128.0, ips: 117.31068 samples/s, eta: 1 day, 14:30:04\n",
            "[2023/02/17 20:43:28] ppocr INFO: epoch: [14/500], global_step: 3330, lr: 0.000999, acc: 0.789062, norm_edit_dis: 0.966454, CTCLoss: 1.179533, SARLoss: 0.322529, loss: 1.489137, avg_reader_cost: 0.00966 s, avg_batch_cost: 1.20579 s, avg_samples: 128.0, ips: 106.15442 samples/s, eta: 1 day, 14:30:00\n",
            "[2023/02/17 20:43:40] ppocr INFO: epoch: [14/500], global_step: 3340, lr: 0.000999, acc: 0.773437, norm_edit_dis: 0.966041, CTCLoss: 1.179533, SARLoss: 0.315486, loss: 1.491142, avg_reader_cost: 0.00542 s, avg_batch_cost: 1.16914 s, avg_samples: 128.0, ips: 109.48198 samples/s, eta: 1 day, 14:29:44\n",
            "[2023/02/17 20:43:51] ppocr INFO: epoch: [14/500], global_step: 3350, lr: 0.000999, acc: 0.781250, norm_edit_dis: 0.966116, CTCLoss: 1.119349, SARLoss: 0.317122, loss: 1.434200, avg_reader_cost: 0.00702 s, avg_batch_cost: 1.12413 s, avg_samples: 128.0, ips: 113.86617 samples/s, eta: 1 day, 14:29:11\n",
            "[2023/02/17 20:44:04] ppocr INFO: epoch: [14/500], global_step: 3360, lr: 0.000999, acc: 0.796875, norm_edit_dis: 0.968705, CTCLoss: 0.998163, SARLoss: 0.320775, loss: 1.290880, avg_reader_cost: 0.00811 s, avg_batch_cost: 1.30238 s, avg_samples: 128.0, ips: 98.28198 samples/s, eta: 1 day, 14:29:41\n",
            "[2023/02/17 20:44:14] ppocr INFO: epoch: [14/500], global_step: 3370, lr: 0.000999, acc: 0.792969, norm_edit_dis: 0.968564, CTCLoss: 1.020317, SARLoss: 0.325697, loss: 1.350807, avg_reader_cost: 0.00583 s, avg_batch_cost: 0.95800 s, avg_samples: 128.0, ips: 133.61183 samples/s, eta: 1 day, 14:28:11\n",
            "[2023/02/17 20:44:17] ppocr INFO: epoch: [14/500], global_step: 3374, lr: 0.000999, acc: 0.781250, norm_edit_dis: 0.965699, CTCLoss: 1.176398, SARLoss: 0.324570, loss: 1.511724, avg_reader_cost: 0.00009 s, avg_batch_cost: 0.33586 s, avg_samples: 51.2, ips: 152.44262 samples/s, eta: 1 day, 14:27:19\n",
            "[2023/02/17 20:44:18] ppocr INFO: save model in /content/drive/MyDrive/output_my_dataset/v3_arabic_mobile/latest\n",
            "[2023/02/17 20:44:30] ppocr INFO: epoch: [15/500], global_step: 3380, lr: 0.000999, acc: 0.781250, norm_edit_dis: 0.964822, CTCLoss: 1.146714, SARLoss: 0.325221, loss: 1.468895, avg_reader_cost: 0.45036 s, avg_batch_cost: 1.26491 s, avg_samples: 76.8, ips: 60.71584 samples/s, eta: 1 day, 14:30:24\n",
            "[2023/02/17 20:44:43] ppocr INFO: epoch: [15/500], global_step: 3390, lr: 0.000999, acc: 0.769531, norm_edit_dis: 0.964876, CTCLoss: 1.106068, SARLoss: 0.314786, loss: 1.462265, avg_reader_cost: 0.00835 s, avg_batch_cost: 1.30254 s, avg_samples: 128.0, ips: 98.26957 samples/s, eta: 1 day, 14:30:54\n",
            "[2023/02/17 20:44:55] ppocr INFO: epoch: [15/500], global_step: 3400, lr: 0.000999, acc: 0.777344, norm_edit_dis: 0.967172, CTCLoss: 1.106068, SARLoss: 0.312619, loss: 1.462265, avg_reader_cost: 0.00707 s, avg_batch_cost: 1.17085 s, avg_samples: 128.0, ips: 109.32200 samples/s, eta: 1 day, 14:30:37\n",
            "[2023/02/17 20:45:06] ppocr INFO: epoch: [15/500], global_step: 3410, lr: 0.000999, acc: 0.781250, norm_edit_dis: 0.967172, CTCLoss: 1.182664, SARLoss: 0.332822, loss: 1.494785, avg_reader_cost: 0.00453 s, avg_batch_cost: 1.10811 s, avg_samples: 128.0, ips: 115.51251 samples/s, eta: 1 day, 14:29:59\n",
            "[2023/02/17 20:45:18] ppocr INFO: epoch: [15/500], global_step: 3420, lr: 0.000999, acc: 0.781250, norm_edit_dis: 0.962438, CTCLoss: 1.158031, SARLoss: 0.322498, loss: 1.477641, avg_reader_cost: 0.00958 s, avg_batch_cost: 1.24913 s, avg_samples: 128.0, ips: 102.47092 samples/s, eta: 1 day, 14:30:10\n",
            "[2023/02/17 20:45:29] ppocr INFO: epoch: [15/500], global_step: 3430, lr: 0.000999, acc: 0.773437, norm_edit_dis: 0.964615, CTCLoss: 1.113882, SARLoss: 0.319745, loss: 1.430556, avg_reader_cost: 0.00703 s, avg_batch_cost: 1.06954 s, avg_samples: 128.0, ips: 119.67727 samples/s, eta: 1 day, 14:29:19\n",
            "[2023/02/17 20:45:41] ppocr INFO: epoch: [15/500], global_step: 3440, lr: 0.000999, acc: 0.761719, norm_edit_dis: 0.966214, CTCLoss: 1.046177, SARLoss: 0.312327, loss: 1.358308, avg_reader_cost: 0.00698 s, avg_batch_cost: 1.21736 s, avg_samples: 128.0, ips: 105.14581 samples/s, eta: 1 day, 14:29:19\n",
            "[2023/02/17 20:45:54] ppocr INFO: epoch: [15/500], global_step: 3450, lr: 0.000999, acc: 0.761719, norm_edit_dis: 0.965994, CTCLoss: 1.058332, SARLoss: 0.319380, loss: 1.381642, avg_reader_cost: 0.00732 s, avg_batch_cost: 1.24162 s, avg_samples: 128.0, ips: 103.09092 samples/s, eta: 1 day, 14:29:27\n",
            "[2023/02/17 20:46:04] ppocr INFO: epoch: [15/500], global_step: 3460, lr: 0.000999, acc: 0.781250, norm_edit_dis: 0.966901, CTCLoss: 1.059208, SARLoss: 0.330803, loss: 1.385870, avg_reader_cost: 0.00756 s, avg_batch_cost: 1.06815 s, avg_samples: 128.0, ips: 119.83342 samples/s, eta: 1 day, 14:28:36\n",
            "[2023/02/17 20:46:17] ppocr INFO: epoch: [15/500], global_step: 3470, lr: 0.000999, acc: 0.796875, norm_edit_dis: 0.969057, CTCLoss: 1.059208, SARLoss: 0.320640, loss: 1.385870, avg_reader_cost: 0.00758 s, avg_batch_cost: 1.27062 s, avg_samples: 128.0, ips: 100.73849 samples/s, eta: 1 day, 14:28:53\n",
            "[2023/02/17 20:46:28] ppocr INFO: epoch: [15/500], global_step: 3480, lr: 0.000999, acc: 0.792969, norm_edit_dis: 0.967178, CTCLoss: 1.088007, SARLoss: 0.312444, loss: 1.407862, avg_reader_cost: 0.00527 s, avg_batch_cost: 1.13422 s, avg_samples: 128.0, ips: 112.85317 samples/s, eta: 1 day, 14:28:25\n",
            "[2023/02/17 20:46:40] ppocr INFO: epoch: [15/500], global_step: 3490, lr: 0.000999, acc: 0.781250, norm_edit_dis: 0.964528, CTCLoss: 1.125793, SARLoss: 0.314323, loss: 1.447682, avg_reader_cost: 0.00926 s, avg_batch_cost: 1.13364 s, avg_samples: 128.0, ips: 112.91053 samples/s, eta: 1 day, 14:27:56\n",
            "[2023/02/17 20:46:52] ppocr INFO: epoch: [15/500], global_step: 3500, lr: 0.000999, acc: 0.785156, norm_edit_dis: 0.964712, CTCLoss: 1.091767, SARLoss: 0.319323, loss: 1.425485, avg_reader_cost: 0.00496 s, avg_batch_cost: 1.22629 s, avg_samples: 128.0, ips: 104.38025 samples/s, eta: 1 day, 14:27:59\n",
            "[2023/02/17 20:47:02] ppocr INFO: epoch: [15/500], global_step: 3510, lr: 0.000999, acc: 0.785156, norm_edit_dis: 0.966245, CTCLoss: 1.143150, SARLoss: 0.318865, loss: 1.435176, avg_reader_cost: 0.00515 s, avg_batch_cost: 1.02550 s, avg_samples: 128.0, ips: 124.81685 samples/s, eta: 1 day, 14:26:54\n",
            "[2023/02/17 20:47:15] ppocr INFO: epoch: [15/500], global_step: 3520, lr: 0.000999, acc: 0.777344, norm_edit_dis: 0.964261, CTCLoss: 1.123396, SARLoss: 0.333459, loss: 1.453227, avg_reader_cost: 0.01168 s, avg_batch_cost: 1.30863 s, avg_samples: 128.0, ips: 97.81195 samples/s, eta: 1 day, 14:27:24\n",
            "[2023/02/17 20:47:26] ppocr INFO: epoch: [15/500], global_step: 3530, lr: 0.000999, acc: 0.777344, norm_edit_dis: 0.964456, CTCLoss: 1.118619, SARLoss: 0.336049, loss: 1.450124, avg_reader_cost: 0.00888 s, avg_batch_cost: 1.12207 s, avg_samples: 128.0, ips: 114.07486 samples/s, eta: 1 day, 14:26:52\n",
            "[2023/02/17 20:47:38] ppocr INFO: epoch: [15/500], global_step: 3540, lr: 0.000999, acc: 0.785156, norm_edit_dis: 0.967322, CTCLoss: 1.042006, SARLoss: 0.332029, loss: 1.371953, avg_reader_cost: 0.00734 s, avg_batch_cost: 1.16292 s, avg_samples: 128.0, ips: 110.06787 samples/s, eta: 1 day, 14:26:33\n",
            "[2023/02/17 20:47:51] ppocr INFO: epoch: [15/500], global_step: 3550, lr: 0.000999, acc: 0.804687, norm_edit_dis: 0.969684, CTCLoss: 0.949881, SARLoss: 0.330927, loss: 1.282288, avg_reader_cost: 0.00626 s, avg_batch_cost: 1.24898 s, avg_samples: 128.0, ips: 102.48374 samples/s, eta: 1 day, 14:26:43\n",
            "[2023/02/17 20:48:01] ppocr INFO: epoch: [15/500], global_step: 3560, lr: 0.000999, acc: 0.812500, norm_edit_dis: 0.970657, CTCLoss: 0.968585, SARLoss: 0.324745, loss: 1.315529, avg_reader_cost: 0.00338 s, avg_batch_cost: 1.06949 s, avg_samples: 128.0, ips: 119.68285 samples/s, eta: 1 day, 14:25:54\n",
            "[2023/02/17 20:48:14] ppocr INFO: epoch: [15/500], global_step: 3570, lr: 0.000999, acc: 0.785156, norm_edit_dis: 0.965938, CTCLoss: 1.151674, SARLoss: 0.323312, loss: 1.467213, avg_reader_cost: 0.01210 s, avg_batch_cost: 1.27628 s, avg_samples: 128.0, ips: 100.29176 samples/s, eta: 1 day, 14:26:12\n",
            "[2023/02/17 20:48:26] ppocr INFO: epoch: [15/500], global_step: 3580, lr: 0.000999, acc: 0.769531, norm_edit_dis: 0.963272, CTCLoss: 1.132684, SARLoss: 0.327622, loss: 1.459552, avg_reader_cost: 0.00631 s, avg_batch_cost: 1.17398 s, avg_samples: 128.0, ips: 109.03064 samples/s, eta: 1 day, 14:25:58\n",
            "[2023/02/17 20:48:37] ppocr INFO: epoch: [15/500], global_step: 3590, lr: 0.000999, acc: 0.773437, norm_edit_dis: 0.965820, CTCLoss: 1.053091, SARLoss: 0.334252, loss: 1.408294, avg_reader_cost: 0.00661 s, avg_batch_cost: 1.13986 s, avg_samples: 128.0, ips: 112.29475 samples/s, eta: 1 day, 14:25:32\n",
            "[2023/02/17 20:48:50] ppocr INFO: epoch: [15/500], global_step: 3600, lr: 0.000999, acc: 0.765625, norm_edit_dis: 0.965112, CTCLoss: 1.149714, SARLoss: 0.335995, loss: 1.483937, avg_reader_cost: 0.00888 s, avg_batch_cost: 1.27076 s, avg_samples: 128.0, ips: 100.72694 samples/s, eta: 1 day, 14:25:48\n",
            "[2023/02/17 20:49:00] ppocr INFO: epoch: [15/500], global_step: 3610, lr: 0.000999, acc: 0.773437, norm_edit_dis: 0.965112, CTCLoss: 1.115947, SARLoss: 0.330734, loss: 1.461667, avg_reader_cost: 0.00644 s, avg_batch_cost: 0.96042 s, avg_samples: 128.0, ips: 133.27506 samples/s, eta: 1 day, 14:24:24\n",
            "[2023/02/17 20:49:04] ppocr INFO: epoch: [15/500], global_step: 3615, lr: 0.000999, acc: 0.792969, norm_edit_dis: 0.966851, CTCLoss: 1.115947, SARLoss: 0.330734, loss: 1.461667, avg_reader_cost: 0.00223 s, avg_batch_cost: 0.41935 s, avg_samples: 64.0, ips: 152.61796 samples/s, eta: 1 day, 14:23:22\n",
            "[2023/02/17 20:49:05] ppocr INFO: save model in /content/drive/MyDrive/output_my_dataset/v3_arabic_mobile/latest\n",
            "[2023/02/17 20:49:14] ppocr INFO: epoch: [16/500], global_step: 3620, lr: 0.000999, acc: 0.796875, norm_edit_dis: 0.968394, CTCLoss: 1.000740, SARLoss: 0.334517, loss: 1.338830, avg_reader_cost: 0.42458 s, avg_batch_cost: 1.06329 s, avg_samples: 64.0, ips: 60.19043 samples/s, eta: 1 day, 14:25:49\n",
            "[2023/02/17 20:49:28] ppocr INFO: epoch: [16/500], global_step: 3630, lr: 0.000999, acc: 0.769531, norm_edit_dis: 0.967492, CTCLoss: 0.995641, SARLoss: 0.341900, loss: 1.338844, avg_reader_cost: 0.00843 s, avg_batch_cost: 1.37177 s, avg_samples: 128.0, ips: 93.30980 samples/s, eta: 1 day, 14:26:38\n",
            "[2023/02/17 20:49:40] ppocr INFO: epoch: [16/500], global_step: 3640, lr: 0.000999, acc: 0.761719, norm_edit_dis: 0.966100, CTCLoss: 1.154092, SARLoss: 0.331127, loss: 1.470738, avg_reader_cost: 0.00606 s, avg_batch_cost: 1.22759 s, avg_samples: 128.0, ips: 104.26937 samples/s, eta: 1 day, 14:26:40\n",
            "[2023/02/17 20:49:52] ppocr INFO: epoch: [16/500], global_step: 3650, lr: 0.000999, acc: 0.781250, norm_edit_dis: 0.967662, CTCLoss: 1.060150, SARLoss: 0.326251, loss: 1.381948, avg_reader_cost: 0.00294 s, avg_batch_cost: 1.10928 s, avg_samples: 128.0, ips: 115.39040 samples/s, eta: 1 day, 14:26:04\n",
            "[2023/02/17 20:50:04] ppocr INFO: epoch: [16/500], global_step: 3660, lr: 0.000999, acc: 0.789062, norm_edit_dis: 0.968031, CTCLoss: 1.006028, SARLoss: 0.310022, loss: 1.303514, avg_reader_cost: 0.00654 s, avg_batch_cost: 1.28220 s, avg_samples: 128.0, ips: 99.82853 samples/s, eta: 1 day, 14:26:23\n",
            "[2023/02/17 20:50:15] ppocr INFO: epoch: [16/500], global_step: 3670, lr: 0.000999, acc: 0.792969, norm_edit_dis: 0.969197, CTCLoss: 0.984826, SARLoss: 0.312408, loss: 1.284563, avg_reader_cost: 0.00397 s, avg_batch_cost: 1.05128 s, avg_samples: 128.0, ips: 121.75689 samples/s, eta: 1 day, 14:25:29\n",
            "[2023/02/17 20:50:27] ppocr INFO: epoch: [16/500], global_step: 3680, lr: 0.000999, acc: 0.804687, norm_edit_dis: 0.969091, CTCLoss: 0.970977, SARLoss: 0.318740, loss: 1.291694, avg_reader_cost: 0.00584 s, avg_batch_cost: 1.17605 s, avg_samples: 128.0, ips: 108.83857 samples/s, eta: 1 day, 14:25:15\n",
            "[2023/02/17 20:50:39] ppocr INFO: epoch: [16/500], global_step: 3690, lr: 0.000999, acc: 0.796875, norm_edit_dis: 0.968630, CTCLoss: 0.979572, SARLoss: 0.324951, loss: 1.310665, avg_reader_cost: 0.00809 s, avg_batch_cost: 1.20103 s, avg_samples: 128.0, ips: 106.57511 samples/s, eta: 1 day, 14:25:08\n",
            "[2023/02/17 20:50:49] ppocr INFO: epoch: [16/500], global_step: 3700, lr: 0.000999, acc: 0.785156, norm_edit_dis: 0.966764, CTCLoss: 1.057231, SARLoss: 0.330008, loss: 1.379998, avg_reader_cost: 0.00403 s, avg_batch_cost: 1.06755 s, avg_samples: 128.0, ips: 119.90063 samples/s, eta: 1 day, 14:24:20\n",
            "[2023/02/17 20:51:03] ppocr INFO: epoch: [16/500], global_step: 3710, lr: 0.000999, acc: 0.785156, norm_edit_dis: 0.965810, CTCLoss: 1.124370, SARLoss: 0.332398, loss: 1.465651, avg_reader_cost: 0.00952 s, avg_batch_cost: 1.31400 s, avg_samples: 128.0, ips: 97.41228 samples/s, eta: 1 day, 14:24:49\n",
            "[2023/02/17 20:51:13] ppocr INFO: epoch: [16/500], global_step: 3720, lr: 0.000999, acc: 0.792969, norm_edit_dis: 0.966807, CTCLoss: 1.108008, SARLoss: 0.333566, loss: 1.441214, avg_reader_cost: 0.00728 s, avg_batch_cost: 1.05689 s, avg_samples: 128.0, ips: 121.11037 samples/s, eta: 1 day, 14:23:57\n",
            "[2023/02/17 20:51:25] ppocr INFO: epoch: [16/500], global_step: 3730, lr: 0.000999, acc: 0.792969, norm_edit_dis: 0.969388, CTCLoss: 1.059054, SARLoss: 0.331824, loss: 1.395487, avg_reader_cost: 0.00879 s, avg_batch_cost: 1.21626 s, avg_samples: 128.0, ips: 105.24108 samples/s, eta: 1 day, 14:23:55\n",
            "[2023/02/17 20:51:38] ppocr INFO: epoch: [16/500], global_step: 3740, lr: 0.000999, acc: 0.781250, norm_edit_dis: 0.967607, CTCLoss: 1.034130, SARLoss: 0.332082, loss: 1.351887, avg_reader_cost: 0.00911 s, avg_batch_cost: 1.21975 s, avg_samples: 128.0, ips: 104.93993 samples/s, eta: 1 day, 14:23:55\n",
            "[2023/02/17 20:51:48] ppocr INFO: epoch: [16/500], global_step: 3750, lr: 0.000999, acc: 0.781250, norm_edit_dis: 0.967607, CTCLoss: 1.015684, SARLoss: 0.308944, loss: 1.336364, avg_reader_cost: 0.00510 s, avg_batch_cost: 1.04481 s, avg_samples: 128.0, ips: 122.50993 samples/s, eta: 1 day, 14:23:00\n",
            "[2023/02/17 20:52:01] ppocr INFO: epoch: [16/500], global_step: 3760, lr: 0.000999, acc: 0.789062, norm_edit_dis: 0.969130, CTCLoss: 0.978662, SARLoss: 0.304979, loss: 1.262876, avg_reader_cost: 0.00841 s, avg_batch_cost: 1.25763 s, avg_samples: 128.0, ips: 101.77866 samples/s, eta: 1 day, 14:23:11\n",
            "[2023/02/17 20:52:12] ppocr INFO: epoch: [16/500], global_step: 3770, lr: 0.000999, acc: 0.792969, norm_edit_dis: 0.968606, CTCLoss: 0.996852, SARLoss: 0.326355, loss: 1.272327, avg_reader_cost: 0.00675 s, avg_batch_cost: 1.14465 s, avg_samples: 128.0, ips: 111.82484 samples/s, eta: 1 day, 14:22:47\n",
            "[2023/02/17 20:52:24] ppocr INFO: epoch: [16/500], global_step: 3780, lr: 0.000999, acc: 0.800781, norm_edit_dis: 0.968736, CTCLoss: 0.984162, SARLoss: 0.315954, loss: 1.290220, avg_reader_cost: 0.01022 s, avg_batch_cost: 1.17631 s, avg_samples: 128.0, ips: 108.81471 samples/s, eta: 1 day, 14:22:33\n",
            "[2023/02/17 20:52:37] ppocr INFO: epoch: [16/500], global_step: 3790, lr: 0.000999, acc: 0.808594, norm_edit_dis: 0.970211, CTCLoss: 0.954684, SARLoss: 0.320063, loss: 1.284854, avg_reader_cost: 0.01037 s, avg_batch_cost: 1.29126 s, avg_samples: 128.0, ips: 99.12782 samples/s, eta: 1 day, 14:22:54\n",
            "[2023/02/17 20:52:47] ppocr INFO: epoch: [16/500], global_step: 3800, lr: 0.000999, acc: 0.824219, norm_edit_dis: 0.971012, CTCLoss: 0.863454, SARLoss: 0.319801, loss: 1.189226, avg_reader_cost: 0.00798 s, avg_batch_cost: 1.04456 s, avg_samples: 128.0, ips: 122.53966 samples/s, eta: 1 day, 14:22:00\n",
            "[2023/02/17 20:53:00] ppocr INFO: epoch: [16/500], global_step: 3810, lr: 0.000999, acc: 0.808594, norm_edit_dis: 0.970786, CTCLoss: 0.892456, SARLoss: 0.314130, loss: 1.216795, avg_reader_cost: 0.00670 s, avg_batch_cost: 1.24104 s, avg_samples: 128.0, ips: 103.13961 samples/s, eta: 1 day, 14:22:05\n",
            "[2023/02/17 20:53:12] ppocr INFO: epoch: [16/500], global_step: 3820, lr: 0.000999, acc: 0.785156, norm_edit_dis: 0.968555, CTCLoss: 1.097077, SARLoss: 0.313828, loss: 1.399367, avg_reader_cost: 0.00567 s, avg_batch_cost: 1.19374 s, avg_samples: 128.0, ips: 107.22580 samples/s, eta: 1 day, 14:21:57\n",
            "[2023/02/17 20:53:23] ppocr INFO: epoch: [16/500], global_step: 3830, lr: 0.000999, acc: 0.789062, norm_edit_dis: 0.968555, CTCLoss: 1.037697, SARLoss: 0.316329, loss: 1.355586, avg_reader_cost: 0.00818 s, avg_batch_cost: 1.12681 s, avg_samples: 128.0, ips: 113.59476 samples/s, eta: 1 day, 14:21:27\n",
            "[2023/02/17 20:53:36] ppocr INFO: epoch: [16/500], global_step: 3840, lr: 0.000999, acc: 0.796875, norm_edit_dis: 0.965585, CTCLoss: 1.057253, SARLoss: 0.330686, loss: 1.365321, avg_reader_cost: 0.00948 s, avg_batch_cost: 1.28631 s, avg_samples: 128.0, ips: 99.50927 samples/s, eta: 1 day, 14:21:47\n",
            "[2023/02/17 20:53:46] ppocr INFO: epoch: [16/500], global_step: 3850, lr: 0.000999, acc: 0.796875, norm_edit_dis: 0.966830, CTCLoss: 1.066897, SARLoss: 0.333573, loss: 1.400974, avg_reader_cost: 0.00630 s, avg_batch_cost: 1.00809 s, avg_samples: 128.0, ips: 126.97252 samples/s, eta: 1 day, 14:20:42\n",
            "[2023/02/17 20:53:51] ppocr INFO: epoch: [16/500], global_step: 3856, lr: 0.000999, acc: 0.804687, norm_edit_dis: 0.969928, CTCLoss: 1.044333, SARLoss: 0.329337, loss: 1.356433, avg_reader_cost: 0.00295 s, avg_batch_cost: 0.50351 s, avg_samples: 76.8, ips: 152.52990 samples/s, eta: 1 day, 14:19:32\n",
            "[2023/02/17 20:53:52] ppocr INFO: save model in /content/drive/MyDrive/output_my_dataset/v3_arabic_mobile/latest\n",
            "[2023/02/17 20:54:00] ppocr INFO: epoch: [17/500], global_step: 3860, lr: 0.000999, acc: 0.808594, norm_edit_dis: 0.973146, CTCLoss: 0.948179, SARLoss: 0.325412, loss: 1.262585, avg_reader_cost: 0.42420 s, avg_batch_cost: 0.94237 s, avg_samples: 51.2, ips: 54.33107 samples/s, eta: 1 day, 14:21:49\n",
            "[2023/02/17 20:54:14] ppocr INFO: epoch: [17/500], global_step: 3870, lr: 0.000999, acc: 0.828125, norm_edit_dis: 0.973995, CTCLoss: 0.848609, SARLoss: 0.300908, loss: 1.190584, avg_reader_cost: 0.00753 s, avg_batch_cost: 1.41036 s, avg_samples: 128.0, ips: 90.75695 samples/s, eta: 1 day, 14:22:45\n",
            "[2023/02/17 20:54:26] ppocr INFO: epoch: [17/500], global_step: 3880, lr: 0.000999, acc: 0.835937, norm_edit_dis: 0.972964, CTCLoss: 0.858058, SARLoss: 0.321521, loss: 1.204380, avg_reader_cost: 0.00628 s, avg_batch_cost: 1.17000 s, avg_samples: 128.0, ips: 109.40125 samples/s, eta: 1 day, 14:22:29\n",
            "[2023/02/17 20:54:37] ppocr INFO: epoch: [17/500], global_step: 3890, lr: 0.000999, acc: 0.824219, norm_edit_dis: 0.971721, CTCLoss: 0.839192, SARLoss: 0.326256, loss: 1.178530, avg_reader_cost: 0.00876 s, avg_batch_cost: 1.13654 s, avg_samples: 128.0, ips: 112.62267 samples/s, eta: 1 day, 14:22:03\n",
            "[2023/02/17 20:54:50] ppocr INFO: epoch: [17/500], global_step: 3900, lr: 0.000999, acc: 0.816406, norm_edit_dis: 0.972680, CTCLoss: 0.856163, SARLoss: 0.315641, loss: 1.168688, avg_reader_cost: 0.00532 s, avg_batch_cost: 1.25116 s, avg_samples: 128.0, ips: 102.30496 samples/s, eta: 1 day, 14:22:11\n",
            "[2023/02/17 20:55:00] ppocr INFO: epoch: [17/500], global_step: 3910, lr: 0.000999, acc: 0.820312, norm_edit_dis: 0.976270, CTCLoss: 0.823317, SARLoss: 0.318293, loss: 1.134489, avg_reader_cost: 0.00648 s, avg_batch_cost: 1.02958 s, avg_samples: 128.0, ips: 124.32207 samples/s, eta: 1 day, 14:21:13\n",
            "[2023/02/17 20:55:13] ppocr INFO: epoch: [17/500], global_step: 3920, lr: 0.000999, acc: 0.824219, norm_edit_dis: 0.973606, CTCLoss: 0.769021, SARLoss: 0.318893, loss: 1.085942, avg_reader_cost: 0.00907 s, avg_batch_cost: 1.24316 s, avg_samples: 128.0, ips: 102.96308 samples/s, eta: 1 day, 14:21:19\n",
            "[2023/02/17 20:55:25] ppocr INFO: epoch: [17/500], global_step: 3930, lr: 0.000999, acc: 0.804687, norm_edit_dis: 0.970478, CTCLoss: 0.930764, SARLoss: 0.321155, loss: 1.267210, avg_reader_cost: 0.01063 s, avg_batch_cost: 1.19219 s, avg_samples: 128.0, ips: 107.36530 samples/s, eta: 1 day, 14:21:09\n",
            "[2023/02/17 20:55:36] ppocr INFO: epoch: [17/500], global_step: 3940, lr: 0.000999, acc: 0.804687, norm_edit_dis: 0.967514, CTCLoss: 0.955211, SARLoss: 0.329224, loss: 1.272726, avg_reader_cost: 0.00579 s, avg_batch_cost: 1.08739 s, avg_samples: 128.0, ips: 117.71329 samples/s, eta: 1 day, 14:20:29\n",
            "[2023/02/17 20:55:48] ppocr INFO: epoch: [17/500], global_step: 3950, lr: 0.000999, acc: 0.808594, norm_edit_dis: 0.969979, CTCLoss: 0.914182, SARLoss: 0.317779, loss: 1.187496, avg_reader_cost: 0.00584 s, avg_batch_cost: 1.28062 s, avg_samples: 128.0, ips: 99.95176 samples/s, eta: 1 day, 14:20:45\n",
            "[2023/02/17 20:55:59] ppocr INFO: epoch: [17/500], global_step: 3960, lr: 0.000999, acc: 0.812500, norm_edit_dis: 0.970781, CTCLoss: 0.950927, SARLoss: 0.309345, loss: 1.271739, avg_reader_cost: 0.00834 s, avg_batch_cost: 1.10773 s, avg_samples: 128.0, ips: 115.55143 samples/s, eta: 1 day, 14:20:11\n",
            "[2023/02/17 20:56:11] ppocr INFO: epoch: [17/500], global_step: 3970, lr: 0.000999, acc: 0.820312, norm_edit_dis: 0.972468, CTCLoss: 0.847163, SARLoss: 0.320558, loss: 1.149028, avg_reader_cost: 0.00620 s, avg_batch_cost: 1.19286 s, avg_samples: 128.0, ips: 107.30531 samples/s, eta: 1 day, 14:20:01\n"
          ]
        }
      ]
    },
    {
      "cell_type": "code",
      "source": [
        "!python3 tools/train.py -c /content/drive/MyDrive/output_IDPL-2/config.yml -o Global.checkpoints=/content/drive/MyDrive/output_IDPL-2/latest"
      ],
      "metadata": {
        "id": "hf8aeJo1h3cx"
      },
      "execution_count": null,
      "outputs": []
    },
    {
      "cell_type": "code",
      "source": [
        "files=glob.glob(\"/content/drive/MyDrive/output_IDPL/*\")\n",
        "import os\n",
        "for file in files:\n",
        "  if file.find('230')<=0 and file.find('latest')<=0 and file.find('train')<=0 and file.find('best')<=0 and file.find('config')<=0:\n",
        "    os.remove(file)"
      ],
      "metadata": {
        "id": "HDklQR4BK6SQ"
      },
      "execution_count": null,
      "outputs": []
    },
    {
      "cell_type": "markdown",
      "source": [
        "**evaluate dataset shotor**"
      ],
      "metadata": {
        "id": "AoguAI3cfuPG"
      }
    },
    {
      "cell_type": "code",
      "source": [
        "!python3 -m paddle.distributed.launch --gpus '0' tools/eval.py -c /content/drive/MyDrive/output/v3_arabic_mobile/config.yml -o Global.checkpoints=/content/drive/MyDrive/output/v3_arabic_mobile/best_accuracy"
      ],
      "metadata": {
        "id": "sikHwucwlXmY"
      },
      "execution_count": null,
      "outputs": []
    },
    {
      "cell_type": "code",
      "source": [
        "%cd .."
      ],
      "metadata": {
        "id": "4FR2sQzTBv5w",
        "colab": {
          "base_uri": "https://localhost:8080/"
        },
        "outputId": "540c9385-5d49-4158-ca28-dca2c52bb3dd"
      },
      "execution_count": null,
      "outputs": [
        {
          "output_type": "stream",
          "name": "stdout",
          "text": [
            "/content/PaddleOCR\n"
          ]
        }
      ]
    },
    {
      "cell_type": "markdown",
      "source": [
        "**test image uploaded on content**"
      ],
      "metadata": {
        "id": "4Cx74RRBr4Aq"
      }
    },
    {
      "cell_type": "code",
      "source": [
        "!python3 tools/infer_rec.py -c /content/drive/MyDrive/output/v3_arabic_mobile/config.yml -o Global.pretrained_model=/content/drive/MyDrive/output/v3_arabic_mobile/best_accuracy  Global.infer_img=/content/download.jpg"
      ],
      "metadata": {
        "id": "QAChPPnnR1y0",
        "outputId": "a799ebde-55a6-4ed6-85c2-4ba529f99b2d",
        "colab": {
          "base_uri": "https://localhost:8080/"
        }
      },
      "execution_count": null,
      "outputs": [
        {
          "output_type": "stream",
          "name": "stdout",
          "text": [
            "python3: can't open file 'tools/infer_rec.py': [Errno 2] No such file or directory\n"
          ]
        }
      ]
    },
    {
      "cell_type": "markdown",
      "source": [
        "**Recommend:**\n",
        "\n",
        "Please change the (configuration) file for train or evaluation."
      ],
      "metadata": {
        "id": "ys3bLGAusZTR"
      }
    }
  ]
}